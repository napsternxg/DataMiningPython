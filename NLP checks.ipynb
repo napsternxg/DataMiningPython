{
 "cells": [
  {
   "cell_type": "code",
   "execution_count": 1,
   "metadata": {
    "collapsed": true
   },
   "outputs": [],
   "source": [
    "%matplotlib inline\n",
    "import numpy as np\n",
    "import pandas as pd\n",
    "\n",
    "import matplotlib.pyplot as plt\n",
    "import seaborn as sns\n",
    "\n",
    "import nltk\n",
    "\n",
    "import gensim\n",
    "import sklearn\n",
    "\"\"\"\n",
    "from gensim import corpora, models, similarities\n",
    "from gensim.utils import smart_open, simple_preprocess\n",
    "from gensim.matutils import corpus2csc\n",
    "from gensim.parsing.preprocessing import STOPWORDS\n",
    "\"\"\"\n",
    "import pyLDAvis\n",
    "pyLDAvis.enable_notebook()\n",
    "import pyLDAvis.gensim"
   ]
  },
  {
   "cell_type": "code",
   "execution_count": 2,
   "metadata": {
    "collapsed": true
   },
   "outputs": [],
   "source": [
    "sns.set_context(\"poster\")\n",
    "sns.set_style(\"ticks\")"
   ]
  },
  {
   "cell_type": "code",
   "execution_count": 3,
   "metadata": {
    "collapsed": false
   },
   "outputs": [
    {
     "name": "stdout",
     "output_type": "stream",
     "text": [
      "Numpy version:  1.11.2\n",
      "Pandas version:  0.19.0\n",
      "Matplotlib version:  1.5.3\n",
      "Seaborn version:  0.7.1\n",
      "Sklearn version:  0.18\n",
      "NLTK version:  3.2.1\n",
      "Gensim version:  0.12.4\n",
      "PyLDAvis version:  2.0.0\n"
     ]
    }
   ],
   "source": [
    "print \"Numpy version: \", np.__version__\n",
    "print \"Pandas version: \", pd.__version__\n",
    "print \"Matplotlib version: \", plt.matplotlib.__version__\n",
    "print \"Seaborn version: \", sns.__version__\n",
    "print \"Sklearn version: \", sklearn.__version__\n",
    "print \"NLTK version: \", nltk.__version__\n",
    "print \"Gensim version: \", gensim.__version__\n",
    "print \"PyLDAvis version: \", pyLDAvis.__version__"
   ]
  },
  {
   "cell_type": "markdown",
   "metadata": {},
   "source": [
    "## NLTK checks\n",
    "\n",
    "More details at: http://www.nltk.org/"
   ]
  },
  {
   "cell_type": "code",
   "execution_count": 4,
   "metadata": {
    "collapsed": false
   },
   "outputs": [
    {
     "name": "stdout",
     "output_type": "stream",
     "text": [
      "[nltk_data] Downloading package movie_reviews to\n",
      "[nltk_data]     /homed/smishra8/nltk_data...\n",
      "[nltk_data]   Package movie_reviews is already up-to-date!\n",
      "[nltk_data] Downloading package punkt to /homed/smishra8/nltk_data...\n",
      "[nltk_data]   Package punkt is already up-to-date!\n"
     ]
    },
    {
     "data": {
      "text/plain": [
       "True"
      ]
     },
     "execution_count": 4,
     "metadata": {},
     "output_type": "execute_result"
    }
   ],
   "source": [
    "nltk.download(\"movie_reviews\")\n",
    "nltk.download(\"punkt\")"
   ]
  },
  {
   "cell_type": "code",
   "execution_count": 5,
   "metadata": {
    "collapsed": true
   },
   "outputs": [],
   "source": [
    "from nltk.corpus import movie_reviews"
   ]
  },
  {
   "cell_type": "code",
   "execution_count": 6,
   "metadata": {
    "collapsed": false
   },
   "outputs": [
    {
     "data": {
      "text/plain": [
       "[u'neg', u'pos']"
      ]
     },
     "execution_count": 6,
     "metadata": {},
     "output_type": "execute_result"
    }
   ],
   "source": [
    "movie_reviews.categories()"
   ]
  },
  {
   "cell_type": "code",
   "execution_count": 7,
   "metadata": {
    "collapsed": false
   },
   "outputs": [
    {
     "data": {
      "text/plain": [
       "[u'plot', u':', u'two', u'teen', u'couples', u'go', ...]"
      ]
     },
     "execution_count": 7,
     "metadata": {},
     "output_type": "execute_result"
    }
   ],
   "source": [
    "movie_reviews.words()"
   ]
  },
  {
   "cell_type": "code",
   "execution_count": 8,
   "metadata": {
    "collapsed": true
   },
   "outputs": [],
   "source": [
    "sents = movie_reviews.sents()"
   ]
  },
  {
   "cell_type": "code",
   "execution_count": 9,
   "metadata": {
    "collapsed": false
   },
   "outputs": [
    {
     "data": {
      "text/plain": [
       "71532"
      ]
     },
     "execution_count": 9,
     "metadata": {},
     "output_type": "execute_result"
    }
   ],
   "source": [
    "len(sents)"
   ]
  },
  {
   "cell_type": "code",
   "execution_count": 10,
   "metadata": {
    "collapsed": false
   },
   "outputs": [
    {
     "data": {
      "text/plain": [
       "[u'plot',\n",
       " u':',\n",
       " u'two',\n",
       " u'teen',\n",
       " u'couples',\n",
       " u'go',\n",
       " u'to',\n",
       " u'a',\n",
       " u'church',\n",
       " u'party',\n",
       " u',',\n",
       " u'drink',\n",
       " u'and',\n",
       " u'then',\n",
       " u'drive',\n",
       " u'.']"
      ]
     },
     "execution_count": 10,
     "metadata": {},
     "output_type": "execute_result"
    }
   ],
   "source": [
    "sents[0]"
   ]
  },
  {
   "cell_type": "code",
   "execution_count": 11,
   "metadata": {
    "collapsed": false
   },
   "outputs": [
    {
     "name": "stdout",
     "output_type": "stream",
     "text": [
      "S[0]:\tplot : two teen couples go to a church party , drink and then drive .\n",
      "S[1]:\tthey get into an accident .\n",
      "S[2]:\tone of the guys dies , but his girlfriend continues to see him in her life , and has nightmares .\n",
      "S[3]:\twhat ' s the deal ?\n",
      "S[4]:\twatch the movie and \" sorta \" find out .\n",
      "S[5]:\t.\n",
      "S[6]:\t.\n",
      "S[7]:\tcritique : a mind - fuck movie for the teen generation that touches on a very cool idea , but presents it in a very bad package .\n",
      "S[8]:\twhich is what makes this review an even harder one to write , since i generally applaud films which attempt to break the mold , mess with your head and such ( lost highway & memento ) , but there are good and bad ways of making all types of films , and these folks just didn ' t snag this one correctly .\n",
      "S[9]:\tthey seem to have taken this pretty neat concept , but executed it terribly .\n"
     ]
    }
   ],
   "source": [
    "for i, s in enumerate(sents[:10]):\n",
    "    print \"S[%s]:\\t%s\" % (i, \" \".join(s))"
   ]
  },
  {
   "cell_type": "markdown",
   "metadata": {},
   "source": [
    "## Gensim checks\n",
    "More details at: https://radimrehurek.com/gensim/"
   ]
  },
  {
   "cell_type": "code",
   "execution_count": 12,
   "metadata": {
    "collapsed": true
   },
   "outputs": [],
   "source": [
    "bigrams = gensim.models.Phrases(sents[:100])"
   ]
  },
  {
   "cell_type": "code",
   "execution_count": 13,
   "metadata": {
    "collapsed": false
   },
   "outputs": [
    {
     "data": {
      "text/plain": [
       "[('of_making', 1),\n",
       " ('and_most', 1),\n",
       " ('mir_)', 1),\n",
       " ('keeping_score', 1),\n",
       " ('\"_into', 1),\n",
       " ('before_it', 1),\n",
       " ('the_tale', 1),\n",
       " ('they_are', 4),\n",
       " ('i_checked', 1),\n",
       " ('poorly', 2)]"
      ]
     },
     "execution_count": 13,
     "metadata": {},
     "output_type": "execute_result"
    }
   ],
   "source": [
    "bigrams.vocab.items()[0:10]"
   ]
  },
  {
   "cell_type": "code",
   "execution_count": 14,
   "metadata": {
    "collapsed": false
   },
   "outputs": [
    {
     "data": {
      "text/plain": [
       "[(',', 116),\n",
       " ('the', 112),\n",
       " ('.', 86),\n",
       " (\"'\", 67),\n",
       " ('and', 50),\n",
       " ('a', 47),\n",
       " ('of', 46),\n",
       " ('it', 45),\n",
       " (\"'_s\", 40),\n",
       " ('s', 40)]"
      ]
     },
     "execution_count": 14,
     "metadata": {},
     "output_type": "execute_result"
    }
   ],
   "source": [
    "sorted(bigrams.vocab.iteritems(), key=lambda x: x[1], reverse=True)[:10]"
   ]
  },
  {
   "cell_type": "code",
   "execution_count": 15,
   "metadata": {
    "collapsed": true
   },
   "outputs": [],
   "source": [
    "word_frequencies = map(lambda x: x[1], bigrams.vocab.iteritems())"
   ]
  },
  {
   "cell_type": "code",
   "execution_count": 16,
   "metadata": {
    "collapsed": false
   },
   "outputs": [
    {
     "data": {
      "image/png": "[encoded data removed]",
      "text/plain": [
       "<matplotlib.figure.Figure at 0x7fb486e98450>"
      ]
     },
     "metadata": {},
     "output_type": "display_data"
    }
   ],
   "source": [
    "plt.hist(word_frequencies, bins=range(0,70000, 1000), log=True)\n",
    "plt.xscale(\"symlog\")"
   ]
  },
  {
   "cell_type": "code",
   "execution_count": 17,
   "metadata": {
    "collapsed": false
   },
   "outputs": [
    {
     "data": {
      "text/plain": [
       "[(\"'_s\", 40),\n",
       " (\"'_t\", 16),\n",
       " (',_and', 13),\n",
       " (',_but', 11),\n",
       " (\"it_'\", 10),\n",
       " ('the_film', 9),\n",
       " ('there_are', 9),\n",
       " ('that_the', 8),\n",
       " ('of_the', 8),\n",
       " ('/_10', 8),\n",
       " ('10_)', 8),\n",
       " (',_it', 8),\n",
       " (')_-', 7),\n",
       " (\"don_'\", 7),\n",
       " (',_there', 6),\n",
       " (')_,', 6),\n",
       " ('with_the', 6),\n",
       " (',_the', 6),\n",
       " ('film_is', 6),\n",
       " ('and_the', 5),\n",
       " ('for_the', 5),\n",
       " ('they_are', 4),\n",
       " ('the_movie', 4),\n",
       " ('the_characters', 4),\n",
       " ('in_a', 4),\n",
       " ('this_film', 4),\n",
       " ('on_the', 4),\n",
       " (',_as', 4),\n",
       " ('most_of', 4),\n",
       " ('of_a', 4)]"
      ]
     },
     "execution_count": 17,
     "metadata": {},
     "output_type": "execute_result"
    }
   ],
   "source": [
    "sorted(filter(lambda x: isinstance(x[0], str) and \"_\" in x[0], \n",
    "        bigrams.vocab.iteritems()), key=lambda x: x[1], reverse=True)[:30]"
   ]
  },
  {
   "cell_type": "code",
   "execution_count": 18,
   "metadata": {
    "collapsed": false
   },
   "outputs": [],
   "source": [
    "corpus = bigrams[sents[:100]]\n",
    "id2word = gensim.corpora.Dictionary(corpus)"
   ]
  },
  {
   "cell_type": "code",
   "execution_count": 19,
   "metadata": {
    "collapsed": false
   },
   "outputs": [
    {
     "data": {
      "text/plain": [
       "804"
      ]
     },
     "execution_count": 19,
     "metadata": {},
     "output_type": "execute_result"
    }
   ],
   "source": [
    "len(id2word.keys())"
   ]
  },
  {
   "cell_type": "code",
   "execution_count": 20,
   "metadata": {
    "collapsed": false
   },
   "outputs": [
    {
     "name": "stdout",
     "output_type": "stream",
     "text": [
      "100\n"
     ]
    }
   ],
   "source": [
    "corpus_processed = [id2word.doc2bow(k) for k in corpus]\n",
    "print len(corpus_processed)"
   ]
  },
  {
   "cell_type": "code",
   "execution_count": 21,
   "metadata": {
    "collapsed": false
   },
   "outputs": [
    {
     "data": {
      "text/plain": [
       "[(0, 1),\n",
       " (1, 1),\n",
       " (2, 1),\n",
       " (3, 1),\n",
       " (4, 1),\n",
       " (5, 1),\n",
       " (6, 1),\n",
       " (7, 1),\n",
       " (8, 1),\n",
       " (9, 1),\n",
       " (10, 1),\n",
       " (11, 1),\n",
       " (12, 1),\n",
       " (13, 1),\n",
       " (14, 1),\n",
       " (15, 1)]"
      ]
     },
     "execution_count": 21,
     "metadata": {},
     "output_type": "execute_result"
    }
   ],
   "source": [
    "corpus_processed[0]"
   ]
  },
  {
   "cell_type": "code",
   "execution_count": 22,
   "metadata": {
    "collapsed": false
   },
   "outputs": [
    {
     "data": {
      "text/plain": [
       "[u'plot',\n",
       " u':',\n",
       " u'two',\n",
       " u'teen',\n",
       " u'couples',\n",
       " u'go',\n",
       " u'to',\n",
       " u'a',\n",
       " u'church',\n",
       " u'party',\n",
       " u',',\n",
       " u'drink',\n",
       " u'and',\n",
       " u'then',\n",
       " u'drive',\n",
       " u'.']"
      ]
     },
     "execution_count": 22,
     "metadata": {},
     "output_type": "execute_result"
    }
   ],
   "source": [
    "corpus[0]"
   ]
  },
  {
   "cell_type": "code",
   "execution_count": 23,
   "metadata": {
    "collapsed": false
   },
   "outputs": [],
   "source": [
    "LDA_model = gensim.models.ldamodel.LdaModel(corpus_processed, num_topics=10, id2word=id2word)"
   ]
  },
  {
   "cell_type": "code",
   "execution_count": 24,
   "metadata": {
    "collapsed": false
   },
   "outputs": [
    {
     "data": {
      "text/plain": [
       "[(0,\n",
       "  u\"0.050*the + 0.022*a + 0.018*. + 0.018*and + 0.016*? + 0.014*to + 0.013*are + 0.012*, + 0.012*'_s + 0.012*-\"),\n",
       " (1,\n",
       "  u'0.051*the + 0.033*, + 0.032*. + 0.016*and + 0.016*to + 0.014*that + 0.014*is + 0.012*out + 0.010*one + 0.010*go'),\n",
       " (2,\n",
       "  u'0.025*the + 0.022*that + 0.015*! + 0.013*. + 0.013*\\'_s + 0.012*of + 0.010*it + 0.010*, + 0.009*\" + 0.008*--'),\n",
       " (3,\n",
       "  u'0.074*, + 0.042*. + 0.038*the + 0.021*\" + 0.021*it + 0.021*\\'_s + 0.020*and + 0.016*of + 0.011*that + 0.010*is'),\n",
       " (4,\n",
       "  u'0.051*the + 0.035*, + 0.028*. + 0.021*and + 0.020*a + 0.017*is + 0.017*of + 0.014*( + 0.013*) + 0.012*that'),\n",
       " (5,\n",
       "  u'0.033*, + 0.031*the + 0.028*a + 0.022*. + 0.020*- + 0.016*very + 0.016*for + 0.016*and + 0.013*from + 0.012*on'),\n",
       " (6,\n",
       "  u'0.043*. + 0.041*it + 0.041*, + 0.031*the + 0.026*to + 0.024*is + 0.018*that + 0.015*\\'_s + 0.014*\" + 0.014*and'),\n",
       " (7,\n",
       "  u'0.037*the + 0.032*, + 0.031*of + 0.025*a + 0.021*- + 0.020*. + 0.020*( + 0.020*) + 0.019*and + 0.018*to'),\n",
       " (8,\n",
       "  u'0.016*and + 0.015*it + 0.015*over + 0.014*. + 0.013*\" + 0.013*on + 0.012*see + 0.012*, + 0.009*we + 0.009*to'),\n",
       " (9,\n",
       "  u\"0.032*, + 0.020*a + 0.019*movie + 0.019*from + 0.019*'_s + 0.014*the + 0.013*it + 0.013*? + 0.013*not + 0.013*much\")]"
      ]
     },
     "execution_count": 24,
     "metadata": {},
     "output_type": "execute_result"
    }
   ],
   "source": [
    "LDA_model.print_topics()"
   ]
  },
  {
   "cell_type": "code",
   "execution_count": 25,
   "metadata": {
    "collapsed": false
   },
   "outputs": [
    {
     "data": {
      "text/plain": [
       "[(6, 0.94705224850785663)]"
      ]
     },
     "execution_count": 25,
     "metadata": {},
     "output_type": "execute_result"
    }
   ],
   "source": [
    "LDA_model.get_document_topics(corpus_processed[0])"
   ]
  },
  {
   "cell_type": "code",
   "execution_count": 26,
   "metadata": {
    "collapsed": true
   },
   "outputs": [],
   "source": [
    "doc_topics = LDA_model[corpus_processed]"
   ]
  },
  {
   "cell_type": "code",
   "execution_count": 27,
   "metadata": {
    "collapsed": false
   },
   "outputs": [
    {
     "data": {
      "text/plain": [
       "[(0, 0.014288499035099701),\n",
       " (1, 0.014287201611756449),\n",
       " (2, 0.01428599307390304),\n",
       " (3, 0.014289263771093953),\n",
       " (4, 0.8714126594319247),\n",
       " (5, 0.014286266918972949),\n",
       " (6, 0.014290413224985725),\n",
       " (7, 0.014287651771252402),\n",
       " (8, 0.014286059856014549),\n",
       " (9, 0.014285991304996271)]"
      ]
     },
     "execution_count": 27,
     "metadata": {},
     "output_type": "execute_result"
    }
   ],
   "source": [
    "doc_topics[1]"
   ]
  },
  {
   "cell_type": "code",
   "execution_count": 28,
   "metadata": {
    "collapsed": false
   },
   "outputs": [
    {
     "data": {
      "text/html": [
       "\n",
       "<link rel=\"stylesheet\" type=\"text/css\" href=\"https://cdn.rawgit.com/bmabey/pyLDAvis/files/ldavis.v1.0.0.css\">\n",
       "\n",
       "\n",
       "<div id=\"ldavis_el132541404889530741286113736041\"></div>\n",
       "<script type=\"text/javascript\">\n",
       "\n",
       "var ldavis_el132541404889530741286113736041_data = {\"plot.opts\": {\"xlab\": \"PC1\", \"ylab\": \"PC2\"}, \"topic.order\": [8, 4, 5, 7, 2, 6, 1, 10, 9, 3], \"token.table\": {\"Topic\": [8, 10, 1, 2, 3, 4, 5, 9, 1, 2, 3, 4, 1, 2, 3, 4, 5, 6, 7, 8, 9, 10, 1, 2, 3, 4, 5, 8, 1, 2, 3, 4, 7, 1, 2, 3, 4, 7, 1, 2, 3, 4, 5, 6, 7, 8, 9, 10, 1, 2, 3, 4, 5, 6, 7, 1, 3, 4, 5, 1, 2, 3, 4, 5, 6, 7, 8, 9, 10, 1, 3, 1, 8, 1, 3, 1, 1, 1, 4, 6, 1, 2, 3, 7, 8, 9, 1, 2, 3, 4, 5, 6, 7, 8, 3, 8, 1, 6, 1, 3, 4, 3, 9, 9, 1, 2, 3, 4, 6, 8, 3, 9, 3, 1, 2, 3, 4, 7, 1, 2, 3, 4, 5, 6, 7, 9, 2, 1, 2, 8, 4, 2, 3, 4, 5, 7, 2, 3, 5, 7, 8, 1, 2, 3, 4, 6, 2, 8, 2, 1, 1, 3, 1, 3, 7, 2, 3, 9, 4, 5, 6, 2, 5, 3, 4, 2, 7, 2, 6, 4, 1, 1, 2, 3, 4, 5, 6, 5, 6, 2, 2, 2, 4, 2, 1, 1, 8, 5, 4, 3, 8, 2, 4, 6, 8, 4, 4, 1, 2, 5, 1, 6, 1, 1, 6, 3, 2, 1, 2, 7, 2, 2, 1, 2, 3, 3, 2, 7, 8, 9, 3, 8, 3, 4, 1, 2, 3, 8, 2, 4, 4, 3, 2, 3, 6, 6, 4, 3, 5, 8, 2, 5, 1, 2, 3, 4, 5, 6, 8, 1, 9, 3, 5, 1, 3, 1, 2, 6, 4, 6, 3, 6, 4, 1, 2, 3, 4, 5, 4, 4, 6, 3, 1, 1, 2, 3, 4, 6, 8, 1, 2, 3, 4, 6, 8, 2, 6, 3, 6, 5, 4, 3, 4, 5, 2, 3, 6, 2, 6, 3, 1, 3, 5, 9, 1, 1, 2, 3, 5, 2, 3, 4, 6, 4, 4, 1, 5, 3, 7, 3, 5, 1, 2, 3, 4, 8, 2, 6, 1, 2, 3, 5, 1, 2, 3, 4, 6, 3, 5, 2, 3, 4, 1, 2, 3, 4, 5, 6, 7, 8, 5, 1, 2, 3, 4, 6, 8, 9, 10, 2, 3, 4, 1, 1, 8, 1, 2, 3, 4, 5, 8, 3, 3, 3, 1, 3, 1, 2, 3, 7, 8, 1, 6, 4, 1, 2, 3, 4, 6, 8, 6, 2, 7, 5, 3, 1, 2, 4, 5, 3, 8, 3, 8, 1, 1, 8, 2, 3, 6, 4, 8, 5, 1, 2, 4, 1, 2, 3, 4, 1, 2, 3, 5, 6, 7, 8, 2, 5, 8, 2, 3, 9, 2, 5, 2, 6, 5, 2, 1, 3, 4, 5, 8, 4, 4, 2, 8, 1, 2, 3, 4, 5, 6, 7, 8, 10, 2, 3, 3, 3, 1, 2, 3, 4, 5, 6, 7, 9, 1, 3, 4, 5, 1, 2, 3, 5, 1, 5, 8, 1, 2, 5, 7, 2, 1, 3, 4, 9, 5, 6, 3, 3, 4, 8, 5, 3, 4, 3, 1, 7, 3, 6, 2, 3, 4, 8, 7, 2, 5, 9, 2, 4, 3, 5, 3, 2, 2, 3, 4, 5, 9, 3, 1, 5, 5, 5, 1, 5, 2, 8, 1, 5, 8, 1, 3, 8, 2, 3, 8, 4, 3, 5, 9, 4, 3, 2, 6, 3, 1, 9, 1, 8, 2, 3, 4, 5, 7, 8, 2, 1, 9, 9, 3, 1, 2, 3, 5, 7, 4, 2, 5, 8, 4, 3, 5, 2, 1, 1, 2, 5, 5, 2, 6, 2, 8, 5, 1, 2, 3, 4, 6, 1, 3, 1, 1, 2, 3, 4, 5, 6, 10, 1, 2, 3, 4, 5, 6, 7, 8, 9, 10, 2, 2, 3, 4, 2, 6, 1, 2, 3, 1, 2, 3, 4, 5, 7, 1, 2, 3, 4, 8, 3, 3, 1, 1, 5, 8, 4, 1, 2, 3, 4, 5, 6, 7, 8, 9, 2, 6, 1, 3, 2, 3, 4, 9, 5, 3, 5, 8, 5, 5, 4, 1, 3, 4, 7, 6, 2, 6, 8, 4, 4, 2, 5, 2, 3, 5, 1, 2, 3, 4, 9, 2, 1, 2, 7, 7, 8, 1, 3, 5, 1, 4, 2, 1, 2, 3, 4, 5, 7, 7, 4, 6, 9, 3, 5, 9, 1, 2, 3, 4, 5], \"Freq\": [0.5207174290162154, 0.5207174290162154, 0.21370466017744918, 0.42740932035489837, 0.04274093203548984, 0.17096372814195937, 0.04274093203548984, 0.04274093203548984, 0.10849396106479384, 0.21698792212958767, 0.43397584425917535, 0.10849396106479384, 0.19875085252899394, 0.2981262787934909, 0.1325005683526626, 0.1325005683526626, 0.0662502841763313, 0.03312514208816565, 0.03312514208816565, 0.0662502841763313, 0.03312514208816565, 0.03312514208816565, 0.15337499822568687, 0.2300624973385303, 0.30674999645137374, 0.15337499822568687, 0.07668749911284344, 0.07668749911284344, 0.5223086559089059, 0.05223086559089059, 0.31338519354534355, 0.05223086559089059, 0.05223086559089059, 0.4876278557365228, 0.05418087285961364, 0.32508523715768184, 0.05418087285961364, 0.05418087285961364, 0.1773098769318909, 0.365701621172025, 0.16622800962364773, 0.121900540390675, 0.06649120384945909, 0.044327469232972726, 0.011081867308243181, 0.03324560192472954, 0.011081867308243181, 0.011081867308243181, 0.4433291795782826, 0.13299875387348478, 0.13299875387348478, 0.04433291795782826, 0.04433291795782826, 0.13299875387348478, 0.04433291795782826, 0.6426580802195407, 0.43017686833116864, 0.21508843416558432, 0.21508843416558432, 0.15162997841325865, 0.28809695898519144, 0.18195597409591038, 0.18195597409591038, 0.09097798704795519, 0.045488993523977596, 0.030325995682651728, 0.015162997841325864, 0.015162997841325864, 0.015162997841325864, 0.7634248357227201, 0.12723747262045335, 0.8134574369583337, 0.8520364004129486, 0.406326621662074, 0.406326621662074, 0.8131498347407962, 0.6426577760009267, 0.3412450096989754, 0.3412450096989754, 0.3412450096989754, 0.1402612473735664, 0.1402612473735664, 0.1402612473735664, 0.2805224947471328, 0.1402612473735664, 0.1402612473735664, 0.32540565822171746, 0.10846855274057249, 0.21693710548114498, 0.08135141455542937, 0.054234276370286244, 0.10846855274057249, 0.054234276370286244, 0.054234276370286244, 0.47912104239246617, 0.47912104239246617, 0.6426576241892457, 0.7621255862888588, 0.3389673737928669, 0.3389673737928669, 0.3389673737928669, 0.5016161763369139, 0.5016161763369139, 0.8635936094549436, 0.2452418121280909, 0.12262090606404545, 0.12262090606404545, 0.36786271819213634, 0.12262090606404545, 0.12262090606404545, 0.6362748045118275, 0.8635940577893418, 0.8052266148411743, 0.25788794856025693, 0.12894397428012846, 0.25788794856025693, 0.12894397428012846, 0.12894397428012846, 0.22835918121980245, 0.22835918121980245, 0.22835918121980245, 0.1014929694310233, 0.07611972707326747, 0.05074648471551165, 0.05074648471551165, 0.025373242357755826, 0.5046549238726036, 0.6426577261891747, 0.5067707174603612, 0.8449362833949416, 0.7270156406685637, 0.20840603578055716, 0.31260905367083575, 0.10420301789027858, 0.10420301789027858, 0.10420301789027858, 0.3484388864169183, 0.3484388864169183, 0.1161462954723061, 0.1161462954723061, 0.1161462954723061, 0.22639157242862556, 0.22639157242862556, 0.22639157242862556, 0.22639157242862556, 0.7621127027130135, 0.5104242902702917, 0.5104242902702917, 0.6922460957650738, 0.8201941999960097, 0.6426577707634874, 0.6544679428767093, 0.1519894146961193, 0.4559682440883579, 0.1519894146961193, 0.27749335529452096, 0.27749335529452096, 0.27749335529452096, 0.45964665008362987, 0.7380304416255954, 0.7621126260145196, 0.4949421586283435, 0.7351559794880766, 0.6362761717692811, 0.727015661298707, 0.6922461347168012, 0.5062959096405222, 0.6922458363520861, 0.7621347733045205, 0.7270157373008074, 0.6426574680977427, 0.08861544023149732, 0.3544617609259893, 0.08861544023149732, 0.17723088046299465, 0.08861544023149732, 0.08861544023149732, 0.4821209419784011, 0.5549194782266265, 0.45409415472797954, 0.6922460174851337, 0.6922460600609546, 0.7270155558610896, 0.8964607910437308, 0.8150230655722972, 0.485020721887303, 0.485020721887303, 0.735562693680123, 0.7270153900339955, 0.6362747111831073, 0.8472482622832881, 0.48372274184494396, 0.24186137092247198, 0.24186137092247198, 0.24186137092247198, 0.7270160437386946, 0.7270156660301362, 0.32020863580889747, 0.6404172716177949, 0.7391421980143897, 0.41559169011382024, 0.7621127510289865, 0.8133286984355812, 0.4524826544636793, 0.4524826544636793, 0.5208360037789224, 0.6922461141115096, 0.6210267783782591, 0.3105133891891296, 0.8454106432527363, 0.6922459550541524, 0.6922459107878571, 0.6426577726075462, 0.6922459448225532, 0.6362757268648948, 0.6362753225902165, 0.33344629834370765, 0.33344629834370765, 0.33344629834370765, 0.33344629834370765, 0.3423931000324576, 0.3423931000324576, 0.32688543508530143, 0.32688543508530143, 0.14395481839887495, 0.14395481839887495, 0.4318644551966248, 0.14395481839887495, 0.6922461766268551, 0.727015623524593, 0.727015640550953, 0.7665235562834732, 0.6922458546442254, 0.6362749157789512, 0.7811653024469731, 0.762123975169724, 0.7270155637385455, 0.3806444493913864, 0.3806444493913864, 0.3806444493913864, 0.4532984607143232, 0.7379641689322332, 0.12817191573869405, 0.2563438314773881, 0.12817191573869405, 0.2563438314773881, 0.12817191573869405, 0.12817191573869405, 0.12817191573869405, 0.48641967955781157, 0.48641967955781157, 0.636274650509202, 0.7368157010129726, 0.6426580739806417, 0.6362767415756356, 0.6426578516040096, 0.6922459184730237, 0.7803407041575516, 0.486064450522745, 0.486064450522745, 0.48323074736874194, 0.48323074736874194, 0.727015527916567, 0.08096668360863418, 0.24290005082590252, 0.24290005082590252, 0.24290005082590252, 0.08096668360863418, 0.7270156535520894, 0.7270154461082841, 0.7621318838196943, 0.6362751397723737, 0.47838198497033907, 0.1924416884932814, 0.0962208442466407, 0.2886625327399221, 0.0962208442466407, 0.1924416884932814, 0.0962208442466407, 0.12324120430673663, 0.12324120430673663, 0.12324120430673663, 0.12324120430673663, 0.24648240861347326, 0.24648240861347326, 0.47651611511509423, 0.47651611511509423, 0.6362756017323957, 0.762112745496769, 0.7379889110131983, 0.507225728623806, 0.6362750082657512, 0.28330732670821723, 0.5666146534164345, 0.272777172233339, 0.272777172233339, 0.272777172233339, 0.47652019295599257, 0.47652019295599257, 0.7235028810709456, 0.23303417518656103, 0.23303417518656103, 0.23303417518656103, 0.23303417518656103, 0.8317630118175379, 0.3762394141892171, 0.12541313806307236, 0.2508262761261447, 0.12541313806307236, 0.3949332579079009, 0.19746662895395045, 0.19746662895395045, 0.19746662895395045, 0.7270155231756921, 0.9556472646258092, 0.41525763781857583, 0.7295620188843419, 0.6362751878422983, 0.5445033880969959, 0.6362751602259148, 0.7368156882983163, 0.23314742966691812, 0.11657371483345906, 0.34972114450037717, 0.11657371483345906, 0.11657371483345906, 0.47651634303822327, 0.47651634303822327, 0.20838620698585728, 0.41677241397171455, 0.20838620698585728, 0.7368152874360226, 0.38452151805513485, 0.25634767870342323, 0.19226075902756742, 0.06408691967585581, 0.06408691967585581, 0.6362752032585199, 0.7358518148561742, 0.32301615876403433, 0.32301615876403433, 0.16150807938201717, 0.20184500168266298, 0.1682041680688858, 0.23548583529644013, 0.23548583529644013, 0.06728166722755433, 0.03364083361377716, 0.03364083361377716, 0.03364083361377716, 0.5092015012637331, 0.235015714545018, 0.2643926788631452, 0.02937696431812725, 0.35252357181752697, 0.02937696431812725, 0.02937696431812725, 0.02937696431812725, 0.02937696431812725, 0.5829111525986166, 0.1943037175328722, 0.1943037175328722, 0.6426580451180072, 0.6426576756272216, 0.8520333228991541, 0.16747115665828374, 0.16747115665828374, 0.3349423133165675, 0.16747115665828374, 0.16747115665828374, 0.16747115665828374, 0.6362745745233226, 0.6362751485791152, 0.7243779349088423, 0.8150214693704114, 0.7637668886204191, 0.18749738495279963, 0.37499476990559927, 0.18749738495279963, 0.18749738495279963, 0.852036600281749, 0.6426577014879786, 0.7869197548153625, 0.7270155694919164, 0.330652940331086, 0.330652940331086, 0.11021764677702867, 0.11021764677702867, 0.11021764677702867, 0.11021764677702867, 0.7621128384934083, 0.367808432072661, 0.367808432072661, 0.7359264365290269, 0.7732305171903728, 0.3252063297271157, 0.4878094945906736, 0.16260316486355786, 0.7377235675367553, 0.6362747526367906, 0.8520366180609852, 0.7566769279759876, 0.852036531340716, 0.4169274107389716, 0.49558737767774347, 0.49558737767774347, 0.34095793738911645, 0.34095793738911645, 0.34095793738911645, 0.7667746295009403, 0.38338731475047017, 0.47645446762420196, 0.2157026833611741, 0.4314053667223482, 0.2157026833611741, 0.16098922176908878, 0.16098922176908878, 0.4829676653072663, 0.16098922176908878, 0.21010836311628314, 0.10505418155814157, 0.21010836311628314, 0.10505418155814157, 0.10505418155814157, 0.10505418155814157, 0.21010836311628314, 0.5036797673425987, 0.25183988367129934, 0.25183988367129934, 0.7091632518694613, 0.7521437503343704, 0.8635930163921628, 0.343530089213359, 0.343530089213359, 0.5716913774256986, 0.2858456887128493, 0.735509666139784, 0.6922457523907343, 0.14850194865579633, 0.29700389731159266, 0.14850194865579633, 0.14850194865579633, 0.14850194865579633, 0.3767946474674453, 0.7270153846556933, 0.6922458592050124, 0.8418003479875066, 0.40076517118866967, 0.18702374655471252, 0.18702374655471252, 0.08015303423773393, 0.026717678079244644, 0.026717678079244644, 0.026717678079244644, 0.026717678079244644, 0.026717678079244644, 0.6922460496639126, 0.6362749447698638, 0.6362758938885607, 0.6362749756201507, 0.07235944378713587, 0.14471888757427173, 0.28943777514854346, 0.14471888757427173, 0.07235944378713587, 0.14471888757427173, 0.07235944378713587, 0.07235944378713587, 0.2534099198732938, 0.38011487980994074, 0.1267049599366469, 0.2534099198732938, 0.22056028152413343, 0.22056028152413343, 0.22056028152413343, 0.22056028152413343, 0.635734977827275, 0.3178674889136375, 0.8520351868265953, 0.34283402912066147, 0.17141701456033073, 0.34283402912066147, 0.17141701456033073, 0.6922460936801584, 0.239680626817123, 0.239680626817123, 0.239680626817123, 0.239680626817123, 0.7263917188029616, 0.762112771508508, 0.7224561470303553, 0.6362751692569888, 0.727015446567678, 0.8520361878452638, 0.7382101120664722, 0.6245159542992529, 0.31225797714962644, 0.7458611206905291, 0.4805979427953725, 0.4805979427953725, 0.6362756422671726, 0.7621127774503214, 0.3413099851168428, 0.1706549925584214, 0.3413099851168428, 0.1706549925584214, 0.8454131125584887, 0.3805294016159528, 0.3805294016159528, 0.3805294016159528, 0.5500840650576679, 0.7270156920519859, 0.6362747806794227, 0.7358687480629861, 0.6362749315477404, 0.6922459958558225, 0.33055295532483114, 0.33055295532483114, 0.16527647766241557, 0.16527647766241557, 0.16527647766241557, 0.6362748495589916, 0.6426575610149003, 0.7379308349172232, 0.7356017193839632, 0.7379738011435556, 0.5323123549397324, 0.7376408786093754, 0.6922460579859048, 0.8520366157135655, 0.6426574733033235, 0.5280353137031121, 0.5280353137031121, 0.24693957755808307, 0.49387915511616615, 0.8455185403160274, 0.6922459003306638, 0.7634084855116522, 0.8461838751588542, 0.47076145201793146, 0.30048657195578055, 0.30048657195578055, 0.30048657195578055, 0.727015488932668, 0.6362745282127779, 0.4602734204389452, 0.7621275284480546, 0.7201768961840944, 0.6426579101972596, 0.8635939952668847, 0.3423054039227987, 0.3423054039227987, 0.6922460494686873, 0.5933208072923825, 0.19777360243079414, 0.19777360243079414, 0.19777360243079414, 0.8520369304611303, 0.6756537062056807, 0.5018738429232859, 0.5018738429232859, 0.8635935784907887, 0.636276115351806, 0.19739030460954907, 0.39478060921909813, 0.19739030460954907, 0.19739030460954907, 0.19739030460954907, 0.727015562818457, 0.6922458127682933, 0.7368155540168688, 0.8520348520705932, 0.7270159310052521, 0.46881900414389444, 0.46881900414389444, 0.6922458579501408, 0.6426575565535595, 0.4277409869552611, 0.6922458816393283, 0.7356474414089281, 0.7368154398900223, 0.6922461097142494, 0.762125888710771, 0.6922457612210592, 0.8520354079046423, 0.736815449925735, 0.6426575509069278, 0.1908946074088366, 0.1908946074088366, 0.1908946074088366, 0.1908946074088366, 0.2138932814126985, 0.427786562825397, 0.642657780115695, 0.25832369489618434, 0.18451692492584598, 0.18451692492584598, 0.18451692492584598, 0.07380676997033839, 0.036903384985169194, 0.036903384985169194, 0.20860211815531046, 0.19701311159112656, 0.2549581444120461, 0.10430105907765523, 0.10430105907765523, 0.04635602625673566, 0.057945032820919576, 0.011589006564183916, 0.011589006564183916, 0.011589006564183916, 0.6885498348188696, 0.33473813481561315, 0.33473813481561315, 0.33473813481561315, 0.3780850320649658, 0.3780850320649658, 0.7006127946410172, 0.11676879910683621, 0.11676879910683621, 0.11031696963249743, 0.22063393926499486, 0.22063393926499486, 0.22063393926499486, 0.11031696963249743, 0.11031696963249743, 0.2865157508883545, 0.21488681316626587, 0.21488681316626587, 0.2865157508883545, 0.07162893772208863, 0.7517141715914871, 0.4641832720569314, 0.6426578637815148, 0.3651609766365708, 0.3651609766365708, 0.3651609766365708, 0.7270157778257546, 0.3140495102261717, 0.06978878005026039, 0.13957756010052078, 0.24426073017591135, 0.10468317007539057, 0.034894390025130194, 0.06978878005026039, 0.034894390025130194, 0.034894390025130194, 0.43890179438776844, 0.7621126547139153, 0.6426576405941585, 0.6362754912628038, 0.6922458538872016, 0.292416174848656, 0.292416174848656, 0.292416174848656, 0.7384001779314883, 0.4701253332154237, 0.4701253332154237, 0.8453414351427523, 0.7273409036378883, 0.737820289748922, 0.7270154046658063, 0.6426579294859985, 0.3561734068826809, 0.3561734068826809, 0.3561734068826809, 0.7633304850627101, 0.49155505269583516, 0.7621244148326836, 0.8520364586527684, 0.7270154972927201, 0.7270161040041826, 0.441849015539393, 0.7383219474060476, 0.21347480740454278, 0.42694961480908555, 0.21347480740454278, 0.26014146993314663, 0.13007073496657331, 0.26014146993314663, 0.13007073496657331, 0.13007073496657331, 0.44087877258681646, 0.2402051471627374, 0.2402051471627374, 0.2402051471627374, 0.8454040963790076, 0.8520320087212743, 0.22126324321049692, 0.22126324321049692, 0.22126324321049692, 0.6426575070457885, 0.7270157659843344, 0.6922459707120242, 0.32804228303043853, 0.16402114151521927, 0.16402114151521927, 0.16402114151521927, 0.08201057075760963, 0.08201057075760963, 0.8454125948461082, 0.7270157225754861, 0.7848828172747977, 0.8635941627900189, 0.636276725625378, 0.7368155705934173, 0.8635940980475593, 0.13481326540493138, 0.26962653080986276, 0.13481326540493138, 0.13481326540493138, 0.13481326540493138], \"Term\": [\"!\", \"!\", \"\\\"\", \"\\\"\", \"\\\"\", \"\\\"\", \"\\\"\", \"\\\"\", \"'\", \"'\", \"'\", \"'\", \"'_s\", \"'_s\", \"'_s\", \"'_s\", \"'_s\", \"'_s\", \"'_s\", \"'_s\", \"'_s\", \"'_s\", \"'_t\", \"'_t\", \"'_t\", \"'_t\", \"'_t\", \"'_t\", \"(\", \"(\", \"(\", \"(\", \"(\", \")\", \")\", \")\", \")\", \")\", \",\", \",\", \",\", \",\", \",\", \",\", \",\", \",\", \",\", \",\", \"-\", \"-\", \"-\", \"-\", \"-\", \"-\", \"-\", \"-'\", \"--\", \"--\", \"--\", \".\", \".\", \".\", \".\", \".\", \".\", \".\", \".\", \".\", \".\", \"/_10\", \"/_10\", \"10\", \"20\", \"7\", \"7\", \"9\", \"90s\", \":\", \":\", \":\", \"?\", \"?\", \"?\", \"?\", \"?\", \"?\", \"a\", \"a\", \"a\", \"a\", \"a\", \"a\", \"a\", \"a\", \"about\", \"about\", \"across\", \"action\", \"after\", \"after\", \"after\", \"again\", \"again\", \"ago\", \"all\", \"all\", \"all\", \"all\", \"all\", \"all\", \"already\", \"also\", \"american\", \"an\", \"an\", \"an\", \"an\", \"an\", \"and\", \"and\", \"and\", \"and\", \"and\", \"and\", \"and\", \"and\", \"animation\", \"another\", \"any\", \"apart\", \"apparent\", \"are\", \"are\", \"are\", \"are\", \"are\", \"as\", \"as\", \"as\", \"as\", \"as\", \"at\", \"at\", \"at\", \"at\", \"average\", \"away\", \"away\", \"awfully\", \"back\", \"balki\", \"based\", \"be\", \"be\", \"be\", \"been\", \"been\", \"been\", \"before\", \"being\", \"below\", \"best\", \"bland\", \"body\", \"bordering\", \"bored\", \"both\", \"brain\", \"bringing\", \"bros\", \"brother\", \"but\", \"but\", \"but\", \"but\", \"but\", \"but\", \"can\", \"cartoon\", \"cast\", \"cgi\", \"chases\", \"church\", \"claire\", \"comes\", \"coming\", \"coming\", \"complete\", \"completely\", \"content\", \"convoluted\", \"cool\", \"cool\", \"cool\", \"cool\", \"costs\", \"couples\", \"course\", \"course\", \"crazy\", \"crew\", \"critique\", \"crow\", \"curtis\", \"curtis\", \"d\", \"danes\", \"dead\", \"dead\", \"deal\", \"decent\", \"decided\", \"deserted\", \"design\", \"dialogue\", \"different\", \"do\", \"do\", \"do\", \"do\", \"does\", \"does\", \"doesn\", \"doesn\", \"don\", \"don\", \"don\", \"don\", \"downshifts\", \"drink\", \"drive\", \"dull\", \"edge\", \"elements\", \"empire\", \"empty\", \"end\", \"enough\", \"enough\", \"enough\", \"entertaining\", \"escape\", \"even\", \"even\", \"even\", \"even\", \"even\", \"even\", \"even\", \"ever\", \"ever\", \"everything\", \"evidence\", \"expected\", \"extremely\", \"fans\", \"fantasy\", \"feature\", \"feels\", \"feels\", \"few\", \"few\", \"fifteen\", \"film\", \"film\", \"film\", \"film\", \"film\", \"final\", \"five\", \"flash\", \"flick\", \"footage\", \"for\", \"for\", \"for\", \"for\", \"for\", \"for\", \"from\", \"from\", \"from\", \"from\", \"from\", \"from\", \"fuck\", \"fuck\", \"further\", \"generation\", \"giovanni\", \"given\", \"giving\", \"go\", \"go\", \"going\", \"going\", \"going\", \"gore\", \"gore\", \"hand\", \"has\", \"has\", \"has\", \"has\", \"head\", \"her\", \"her\", \"her\", \"her\", \"here\", \"here\", \"here\", \"here\", \"hey\", \"hide\", \"highway\", \"holds\", \"horror\", \"hour\", \"how\", \"however\", \"i\", \"i\", \"i\", \"i\", \"i\", \"idea\", \"idea\", \"if\", \"if\", \"if\", \"immediately\", \"in\", \"in\", \"in\", \"in\", \"in\", \"insight\", \"interesting\", \"into\", \"into\", \"into\", \"is\", \"is\", \"is\", \"is\", \"is\", \"is\", \"is\", \"is\", \"isn\", \"it\", \"it\", \"it\", \"it\", \"it\", \"it\", \"it\", \"it\", \"its\", \"its\", \"its\", \"jaleel\", \"jamie\", \"joblo\", \"just\", \"just\", \"just\", \"just\", \"just\", \"just\", \"justify\", \"juvenile\", \"keeping\", \"kick\", \"kingdom\", \"know\", \"know\", \"know\", \"know\", \"lazy\", \"lee\", \"length\", \"let\", \"like\", \"like\", \"like\", \"like\", \"like\", \"like\", \"likes\", \"little\", \"little\", \"looking\", \"magic\", \"make\", \"make\", \"make\", \"man\", \"matter\", \"mean\", \"mediocre\", \"melissa\", \"memento\", \"mess\", \"mess\", \"mind\", \"mind\", \"mind\", \"minutes\", \"minutes\", \"mod\", \"more\", \"more\", \"more\", \"most\", \"most\", \"most\", \"most\", \"movie\", \"movie\", \"movie\", \"movie\", \"movie\", \"movie\", \"movie\", \"much\", \"much\", \"much\", \"music\", \"nearly\", \"need\", \"nice\", \"nice\", \"no\", \"no\", \"none\", \"normal\", \"not\", \"not\", \"not\", \"not\", \"not\", \"nothing\", \"obviously\", \"occasional\", \"occupying\", \"of\", \"of\", \"of\", \"of\", \"of\", \"of\", \"of\", \"of\", \"of\", \"off\", \"offering\", \"oh\", \"older\", \"on\", \"on\", \"on\", \"on\", \"on\", \"on\", \"on\", \"on\", \"one\", \"one\", \"one\", \"one\", \"only\", \"only\", \"only\", \"only\", \"others\", \"others\", \"otherwise\", \"out\", \"out\", \"out\", \"out\", \"outfits\", \"over\", \"over\", \"over\", \"over\", \"own\", \"package\", \"paired\", \"parts\", \"party\", \"plain\", \"plays\", \"plot\", \"plot\", \"pocahontas\", \"power\", \"power\", \"predictable\", \"presents\", \"pretty\", \"pretty\", \"pretty\", \"pretty\", \"problems\", \"production\", \"production\", \"production\", \"quick\", \"quickly\", \"r\", \"race\", \"rating\", \"real\", \"really\", \"really\", \"really\", \"really\", \"really\", \"recycled\", \"regarding\", \"relatively\", \"remotely\", \"resident\", \"review\", \"ribisi\", \"robot\", \"running\", \"russian\", \"sagemiller\", \"sagemiller\", \"same\", \"same\", \"save\", \"schnazzy\", \"score\", \"screen\", \"secret\", \"see\", \"see\", \"see\", \"seems\", \"seen\", \"sense\", \"sequences\", \"seymour\", \"sharing\", \"shelves\", \"ship\", \"ship\", \"shot\", \"show\", \"show\", \"show\", \"show\", \"showing\", \"shows\", \"since\", \"since\", \"sitting\", \"slasher\", \"so\", \"so\", \"so\", \"so\", \"so\", \"sometimes\", \"somewhere\", \"sorta\", \"sounds\", \"spectacular\", \"squad\", \"squad\", \"stan\", \"starring\", \"start\", \"starts\", \"stink\", \"stolen\", \"stuff\", \"substance\", \"suits\", \"sunken\", \"suspicion\", \"tech\", \"teen\", \"teen\", \"teen\", \"teen\", \"television\", \"television\", \"tgif\", \"that\", \"that\", \"that\", \"that\", \"that\", \"that\", \"that\", \"the\", \"the\", \"the\", \"the\", \"the\", \"the\", \"the\", \"the\", \"the\", \"the\", \"their\", \"then\", \"then\", \"then\", \"there\", \"there\", \"there_are\", \"there_are\", \"there_are\", \"they\", \"they\", \"they\", \"they\", \"they\", \"they\", \"this\", \"this\", \"this\", \"this\", \"this\", \"those\", \"though\", \"thrilled\", \"throughout\", \"throughout\", \"throughout\", \"tie\", \"to\", \"to\", \"to\", \"to\", \"to\", \"to\", \"to\", \"to\", \"to\", \"took\", \"touches\", \"tugboat\", \"turn\", \"turning\", \"two\", \"two\", \"two\", \"ultimately\", \"under\", \"under\", \"unfortunately\", \"unraveling\", \"unscathed\", \"until\", \"urkel\", \"us\", \"us\", \"us\", \"very\", \"video\", \"virus\", \"visions\", \"want\", \"warner\", \"was\", \"watching\", \"way\", \"way\", \"way\", \"we\", \"we\", \"we\", \"we\", \"we\", \"well\", \"what\", \"what\", \"what\", \"whatever\", \"where\", \"who\", \"who\", \"who\", \"william\", \"win\", \"winston\", \"with\", \"with\", \"with\", \"with\", \"with\", \"with\", \"within\", \"wooden\", \"worried\", \"wrapped\", \"written\", \"wrong\", \"years\", \"you\", \"you\", \"you\", \"you\", \"you\"]}, \"mdsDat\": {\"y\": [0.008496885968504252, 0.07930713260190778, -0.05634702104128254, 0.05922303722429064, -0.07075087180253306, 0.028213897360111508, -0.06348527351852093, 0.01512428538622884, 0.011440969943585002, -0.011223042122291504], \"cluster\": [1, 1, 1, 1, 1, 1, 1, 1, 1, 1], \"Freq\": [21.563616330883466, 19.816953614854647, 18.899423231839048, 12.479424464430886, 7.648013464671095, 5.637198479477965, 4.855499451370177, 3.651074973768492, 3.1084953139103852, 2.340300674793847], \"topics\": [1, 2, 3, 4, 5, 6, 7, 8, 9, 10], \"x\": [-0.07074637280868064, -0.045112286081620476, -0.05882982891580914, -0.05524423315287722, -0.012699753182632481, 0.05857273536339384, 0.0027746500555707178, 0.06767469478119234, 0.08878763758378505, 0.024822756357677993]}, \"R\": 30, \"lambda.step\": 0.01, \"tinfo\": {\"Category\": [\"Default\", \"Default\", \"Default\", \"Default\", \"Default\", \"Default\", \"Default\", \"Default\", \"Default\", \"Default\", \"Default\", \"Default\", \"Default\", \"Default\", \"Default\", \"Default\", \"Default\", \"Default\", \"Default\", \"Default\", \"Default\", \"Default\", \"Default\", \"Default\", \"Default\", \"Default\", \"Default\", \"Default\", \"Default\", \"Default\", \"Topic1\", \"Topic1\", \"Topic1\", \"Topic1\", \"Topic1\", \"Topic1\", \"Topic1\", \"Topic1\", \"Topic1\", \"Topic1\", \"Topic1\", \"Topic1\", \"Topic1\", \"Topic1\", \"Topic1\", \"Topic1\", \"Topic1\", \"Topic1\", \"Topic1\", \"Topic1\", \"Topic1\", \"Topic1\", \"Topic1\", \"Topic1\", \"Topic1\", \"Topic1\", \"Topic1\", \"Topic1\", \"Topic1\", \"Topic1\", \"Topic1\", \"Topic1\", \"Topic1\", \"Topic1\", \"Topic1\", \"Topic1\", \"Topic1\", \"Topic1\", \"Topic1\", \"Topic1\", \"Topic1\", \"Topic1\", \"Topic1\", \"Topic1\", \"Topic1\", \"Topic1\", \"Topic1\", \"Topic1\", \"Topic1\", \"Topic1\", \"Topic1\", \"Topic1\", \"Topic1\", \"Topic1\", \"Topic1\", \"Topic1\", \"Topic1\", \"Topic1\", \"Topic1\", \"Topic1\", \"Topic1\", \"Topic1\", \"Topic1\", \"Topic1\", \"Topic2\", \"Topic2\", \"Topic2\", \"Topic2\", \"Topic2\", \"Topic2\", \"Topic2\", \"Topic2\", \"Topic2\", \"Topic2\", \"Topic2\", \"Topic2\", \"Topic2\", \"Topic2\", \"Topic2\", \"Topic2\", \"Topic2\", \"Topic2\", \"Topic2\", \"Topic2\", \"Topic2\", \"Topic2\", \"Topic2\", \"Topic2\", \"Topic2\", \"Topic2\", \"Topic2\", \"Topic2\", \"Topic2\", \"Topic2\", \"Topic2\", \"Topic2\", \"Topic2\", \"Topic2\", \"Topic2\", \"Topic2\", \"Topic2\", \"Topic2\", \"Topic2\", \"Topic2\", \"Topic2\", \"Topic2\", \"Topic2\", \"Topic2\", \"Topic2\", \"Topic2\", \"Topic2\", \"Topic2\", \"Topic2\", \"Topic2\", \"Topic2\", \"Topic2\", \"Topic2\", \"Topic2\", \"Topic2\", \"Topic2\", \"Topic2\", \"Topic2\", \"Topic2\", \"Topic2\", \"Topic2\", \"Topic2\", \"Topic2\", \"Topic2\", \"Topic2\", \"Topic2\", \"Topic2\", \"Topic2\", \"Topic2\", \"Topic2\", \"Topic2\", \"Topic3\", \"Topic3\", \"Topic3\", \"Topic3\", \"Topic3\", \"Topic3\", \"Topic3\", \"Topic3\", \"Topic3\", \"Topic3\", \"Topic3\", \"Topic3\", \"Topic3\", \"Topic3\", \"Topic3\", \"Topic3\", \"Topic3\", \"Topic3\", \"Topic3\", \"Topic3\", \"Topic3\", \"Topic3\", \"Topic3\", \"Topic3\", \"Topic3\", \"Topic3\", \"Topic3\", \"Topic3\", \"Topic3\", \"Topic3\", \"Topic3\", \"Topic3\", \"Topic3\", \"Topic3\", \"Topic3\", \"Topic3\", \"Topic3\", \"Topic3\", \"Topic3\", \"Topic3\", \"Topic3\", \"Topic3\", \"Topic3\", \"Topic3\", \"Topic3\", \"Topic3\", \"Topic3\", \"Topic3\", \"Topic3\", \"Topic3\", \"Topic3\", \"Topic3\", \"Topic3\", \"Topic3\", \"Topic3\", \"Topic3\", \"Topic3\", \"Topic3\", \"Topic3\", \"Topic3\", \"Topic3\", \"Topic3\", \"Topic3\", \"Topic3\", \"Topic3\", \"Topic3\", \"Topic4\", \"Topic4\", \"Topic4\", \"Topic4\", \"Topic4\", \"Topic4\", \"Topic4\", \"Topic4\", \"Topic4\", \"Topic4\", \"Topic4\", \"Topic4\", \"Topic4\", \"Topic4\", \"Topic4\", \"Topic4\", \"Topic4\", \"Topic4\", \"Topic4\", \"Topic4\", \"Topic4\", \"Topic4\", \"Topic4\", \"Topic4\", \"Topic4\", \"Topic4\", \"Topic4\", \"Topic4\", \"Topic4\", \"Topic4\", \"Topic4\", \"Topic4\", \"Topic4\", \"Topic4\", \"Topic4\", \"Topic4\", \"Topic4\", \"Topic4\", \"Topic4\", \"Topic4\", \"Topic4\", \"Topic4\", \"Topic4\", \"Topic4\", \"Topic4\", \"Topic4\", \"Topic4\", \"Topic4\", \"Topic4\", \"Topic4\", \"Topic4\", \"Topic4\", \"Topic4\", \"Topic4\", \"Topic4\", \"Topic4\", \"Topic4\", \"Topic4\", \"Topic4\", \"Topic4\", \"Topic4\", \"Topic4\", \"Topic5\", \"Topic5\", \"Topic5\", \"Topic5\", \"Topic5\", \"Topic5\", \"Topic5\", \"Topic5\", \"Topic5\", \"Topic5\", \"Topic5\", \"Topic5\", \"Topic5\", \"Topic5\", \"Topic5\", \"Topic5\", \"Topic5\", \"Topic5\", \"Topic5\", \"Topic5\", \"Topic5\", \"Topic5\", \"Topic5\", \"Topic5\", \"Topic5\", \"Topic5\", \"Topic5\", \"Topic5\", \"Topic5\", \"Topic5\", \"Topic5\", \"Topic5\", \"Topic5\", \"Topic5\", \"Topic5\", \"Topic5\", \"Topic5\", \"Topic5\", \"Topic5\", \"Topic5\", \"Topic5\", \"Topic5\", \"Topic5\", \"Topic5\", \"Topic5\", \"Topic5\", \"Topic5\", \"Topic5\", \"Topic5\", \"Topic5\", \"Topic5\", \"Topic5\", \"Topic5\", \"Topic5\", \"Topic5\", \"Topic5\", \"Topic5\", \"Topic5\", \"Topic5\", \"Topic5\", \"Topic6\", \"Topic6\", \"Topic6\", \"Topic6\", \"Topic6\", \"Topic6\", \"Topic6\", \"Topic6\", \"Topic6\", \"Topic6\", \"Topic6\", \"Topic6\", \"Topic6\", \"Topic6\", \"Topic6\", \"Topic6\", \"Topic6\", \"Topic6\", \"Topic6\", \"Topic6\", \"Topic6\", \"Topic6\", \"Topic6\", \"Topic6\", \"Topic6\", \"Topic6\", \"Topic6\", \"Topic6\", \"Topic6\", \"Topic6\", \"Topic6\", \"Topic6\", \"Topic6\", \"Topic6\", \"Topic6\", \"Topic6\", \"Topic6\", \"Topic6\", \"Topic6\", \"Topic6\", \"Topic6\", \"Topic6\", \"Topic6\", \"Topic6\", \"Topic6\", \"Topic6\", \"Topic6\", \"Topic6\", \"Topic6\", \"Topic6\", \"Topic6\", \"Topic6\", \"Topic6\", \"Topic6\", \"Topic6\", \"Topic6\", \"Topic6\", \"Topic6\", \"Topic6\", \"Topic7\", \"Topic7\", \"Topic7\", \"Topic7\", \"Topic7\", \"Topic7\", \"Topic7\", \"Topic7\", \"Topic7\", \"Topic7\", \"Topic7\", \"Topic7\", \"Topic7\", \"Topic7\", \"Topic7\", \"Topic7\", \"Topic7\", \"Topic7\", \"Topic7\", \"Topic7\", \"Topic7\", \"Topic7\", \"Topic7\", \"Topic7\", \"Topic7\", \"Topic7\", \"Topic7\", \"Topic7\", \"Topic7\", \"Topic7\", \"Topic7\", \"Topic7\", \"Topic7\", \"Topic7\", \"Topic7\", \"Topic7\", \"Topic7\", \"Topic7\", \"Topic7\", \"Topic7\", \"Topic7\", \"Topic7\", \"Topic7\", \"Topic7\", \"Topic7\", \"Topic7\", \"Topic7\", \"Topic7\", \"Topic7\", \"Topic7\", \"Topic7\", \"Topic7\", \"Topic7\", \"Topic7\", \"Topic7\", \"Topic7\", \"Topic8\", \"Topic8\", \"Topic8\", \"Topic8\", \"Topic8\", \"Topic8\", \"Topic8\", \"Topic8\", \"Topic8\", \"Topic8\", \"Topic8\", \"Topic8\", \"Topic8\", \"Topic8\", \"Topic8\", \"Topic8\", \"Topic8\", \"Topic8\", \"Topic8\", \"Topic8\", \"Topic8\", \"Topic8\", \"Topic8\", \"Topic8\", \"Topic8\", \"Topic8\", \"Topic8\", \"Topic8\", \"Topic8\", \"Topic8\", \"Topic8\", \"Topic8\", \"Topic8\", \"Topic8\", \"Topic8\", \"Topic8\", \"Topic8\", \"Topic8\", \"Topic8\", \"Topic8\", \"Topic8\", \"Topic8\", \"Topic8\", \"Topic8\", \"Topic8\", \"Topic8\", \"Topic8\", \"Topic8\", \"Topic9\", \"Topic9\", \"Topic9\", \"Topic9\", \"Topic9\", \"Topic9\", \"Topic9\", \"Topic9\", \"Topic9\", \"Topic9\", \"Topic9\", \"Topic9\", \"Topic9\", \"Topic9\", \"Topic9\", \"Topic9\", \"Topic9\", \"Topic9\", \"Topic9\", \"Topic9\", \"Topic9\", \"Topic9\", \"Topic9\", \"Topic9\", \"Topic9\", \"Topic9\", \"Topic9\", \"Topic9\", \"Topic9\", \"Topic9\", \"Topic9\", \"Topic9\", \"Topic9\", \"Topic9\", \"Topic9\", \"Topic9\", \"Topic9\", \"Topic9\", \"Topic9\", \"Topic9\", \"Topic9\", \"Topic9\", \"Topic9\", \"Topic9\", \"Topic9\", \"Topic9\", \"Topic10\", \"Topic10\", \"Topic10\", \"Topic10\", \"Topic10\", \"Topic10\", \"Topic10\", \"Topic10\", \"Topic10\", \"Topic10\", \"Topic10\", \"Topic10\", \"Topic10\", \"Topic10\", \"Topic10\", \"Topic10\", \"Topic10\", \"Topic10\", \"Topic10\", \"Topic10\", \"Topic10\", \"Topic10\", \"Topic10\", \"Topic10\", \"Topic10\", \"Topic10\", \"Topic10\", \"Topic10\", \"Topic10\", \"Topic10\", \"Topic10\", \"Topic10\", \"Topic10\", \"Topic10\", \"Topic10\", \"Topic10\", \"Topic10\", \"Topic10\", \"Topic10\", \"Topic10\", \"Topic10\", \"Topic10\", \"Topic10\", \"Topic10\", \"Topic10\", \"Topic10\", \"Topic10\", \"Topic10\", \"Topic10\", \"Topic10\"], \"Term\": [\"the\", \"it\", \"a\", \",\", \"that\", \"movie\", \".\", \"-\", \"from\", \"'_s\", \"?\", \"\\\"\", \"on\", \"and\", \"to\", \"for\", \"(\", \"over\", \"not\", \"are\", \")\", \"much\", \"as\", \"very\", \"this\", \"be\", \"out\", \"see\", \"of\", \"--\", \"/_10\", \"kick\", \"comes\", \"there_are\", \"back\", \"10\", \"crow\", \"head\", \"russian\", \"brother\", \"william\", \"tech\", \"starring\", \"regarding\", \"across\", \"tugboat\", \"jamie\", \"another\", \"balki\", \"lee\", \"90s\", \"deserted\", \"fans\", \"tgif\", \"sharing\", \"thrilled\", \"urkel\", \"jaleel\", \"-'\", \"expected\", \"9\", \"start\", \")\", \"(\", \"-\", \"7\", \"of\", \"crew\", \"a\", \"highway\", \"dead\", \"in\", \"to\", \"the\", \"others\", \"and\", \",\", \"that\", \"it\", \"memento\", \"her\", \"with\", \"is\", \".\", \"'_s\", \"this\", \"\\\"\", \"like\", \"an\", \"'_t\", \"for\", \"out\", \"make\", \"movie\", \"claire\", \"cast\", \"well\", \"normal\", \"suits\", \"somewhere\", \"turning\", \"edge\", \"occasional\", \"brain\", \"decided\", \"stan\", \"starts\", \"fantasy\", \"schnazzy\", \"design\", \"decent\", \"cgi\", \"awfully\", \"shot\", \"outfits\", \"winston\", \"chases\", \"robot\", \"real\", \"danes\", \"bored\", \"stuff\", \"off\", \"downshifts\", \"music\", \"their\", \"shows\", \",\", \"make\", \"\\\"\", \"its\", \"if\", \"entertaining\", \".\", \"more\", \"course\", \"'_s\", \"it\", \"was\", \"the\", \"no\", \"took\", \"like\", \"into\", \"and\", \"but\", \"nice\", \"as\", \"sense\", \"much\", \"of\", \"in\", \"you\", \"that\", \"'_t\", \"is\", \"film\", \"this\", \"they\", \"a\", \"are\", \"-\", \"with\", \"on\", \"to\", \"american\", \"seen\", \"justify\", \"everything\", \"matter\", \"content\", \"r\", \"rating\", \"already\", \"recycled\", \"elements\", \"offering\", \"older\", \"giving\", \"how\", \"insight\", \"juvenile\", \"parts\", \"flick\", \"different\", \"horror\", \"turn\", \"dialogue\", \"predictable\", \"further\", \"oh\", \"slasher\", \"body\", \"written\", \"extremely\", \"plot\", \"based\", \"show\", \"the\", \"television\", \"most\", \"'\", \"be\", \"(\", \")\", \"don\", \"and\", \"is\", \"a\", \"i\", \",\", \".\", \"one\", \"on\", \"does\", \"'_t\", \"of\", \"are\", \"way\", \"film\", \"not\", \"same\", \"that\", \"as\", \"we\", \"in\", \"for\", \"'_s\", \"to\", \"this\", \"-\", \"hide\", \"secret\", \"minutes\", \"obviously\", \"completely\", \"until\", \"party\", \"let\", \"five\", \"want\", \"fifteen\", \"church\", \"seems\", \"final\", \"hey\", \"sometimes\", \"drink\", \"couples\", \"wooden\", \"apparent\", \"bordering\", \"end\", \"quickly\", \"bros\", \"win\", \"tie\", \"spectacular\", \"drive\", \"warner\", \"costs\", \"it\", \"nothing\", \"before\", \"to\", \".\", \"is\", \"all\", \"this\", \",\", \"that\", \"pretty\", \"the\", \"\\\"\", \"'_s\", \"film\", \"they\", \"and\", \"doesn\", \"even\", \"but\", \"with\", \"then\", \"of\", \"after\", \"a\", \"on\", \"its\", \"'_t\", \"teen\", \"we\", \"for\", \"i\", \"immediately\", \"stolen\", \"suspicion\", \"sorta\", \"however\", \"wrong\", \"evidence\", \"ribisi\", \"man\", \"unscathed\", \"relatively\", \"race\", \"interesting\", \"escape\", \"resident\", \"giovanni\", \"being\", \"stink\", \"plays\", \"remotely\", \"watching\", \"none\", \"ultimately\", \"bland\", \"crazy\", \"looking\", \"holds\", \"unraveling\", \"own\", \"complete\", \"go\", \"under\", \"out\", \"mod\", \"the\", \"only\", \".\", \"one\", \"who\", \",\", \"to\", \"and\", \"that\", \"squad\", \"can\", \"is\", \"are\", \"her\", \"film\", \"'_s\", \"but\", \"\\\"\", \"a\", \"with\", \"of\", \"even\", \"see\", \"-\", \"movie\", \"they\", \"very\", \"generation\", \"package\", \"presents\", \"touches\", \"critique\", \"likes\", \"below\", \"average\", \"empty\", \"virus\", \"action\", \"substance\", \"sequences\", \"flash\", \"bringing\", \"feature\", \"empire\", \"worried\", \"length\", \"reason\", \"steal\", \"fully\", \"mouse\", \"animated\", \"going\", \"clout\", \"feels\", \"few\", \"cartoon\", \"there\", \"no\", \"idea\", \"fuck\", \"gore\", \"for\", \"curtis\", \"from\", \"a\", \"-\", \",\", \"the\", \"movie\", \"on\", \".\", \"and\", \"teen\", \"but\", \"here\", \"of\", \"to\", \"that\", \"'_s\", \"it\", \"is\", \"in\", \"cool\", \"mind\", \":\", \"hour\", \"problems\", \"within\", \"deal\", \"whatever\", \"between\", \"stretched\", \"cross\", \"long\", \"cop\", \"described\", \"span\", \"telling\", \"power\", \"moments\", \"what\", \"both\", \"instead\", \"recall\", \"half\", \"specific\", \"spoon\", \"?\", \"video\", \"best\", \"hard\", \"though\", \"literally\", \"paired\", \"seymour\", \"little\", \"us\", \"show\", \"do\", \"are\", \"be\", \"the\", \"an\", \"a\", \"with\", \"and\", \"to\", \".\", \"-\", \"(\", \"'_s\", \"of\", \",\", \")\", \"as\", \"is\", \"on\", \"movie\", \"so\", \"they\", \"know\", \"showing\", \"mean\", \"lazy\", \"running\", \"visions\", \"melissa\", \"20\", \"plain\", \"sunken\", \"otherwise\", \"sounds\", \"joblo\", \"where\", \"convoluted\", \"screen\", \"save\", \"unfortunately\", \"apart\", \"occupying\", \"sagemiller\", \"!\", \"away\", \"coming\", \"mess\", \"about\", \"much\", \"minutes\", \"throughout\", \"enough\", \"ship\", \"from\", \"movie\", \"not\", \"?\", \",\", \"'_s\", \"a\", \"it\", \"the\", \".\", \"don\", \"just\", \"of\", \"'_t\", \"is\", \"for\", \"i\", \"pretty\", \"wrapped\", \"shelves\", \"years\", \"also\", \"sitting\", \"ago\", \"need\", \"morning\", \"computerized\", \"something\", \"instantly\", \"saturday\", \"integrated\", \"songs\", \"subpar\", \"forgettable\", \"differentiates\", \"since\", \"again\", \"ever\", \"see\", \"over\", \"cartoon\", \"d\", \"production\", \"any\", \"footage\", \"animation\", \"given\", \"do\", \"two\", \"been\", \"on\", \"and\", \"it\", \"has\", \"\\\"\", \"we\", \".\", \"really\", \",\", \"?\", \"to\", \"the\", \"'_s\", \"--\", \"!\", \"y2k\", \"bastard\", \"bug\", \"damn\", \"happy\", \"skip\", \"quick\", \"review\", \"magic\", \"dull\", \"kingdom\", \"score\", \"mediocre\", \"nearly\", \"those\", \"pocahontas\", \"isn\", \"keeping\", \"arrow\", \"hand\", \"bit\", \"point\", \"--\", \"d\", \"considers\", \"sad\", \"figured\", \"dig\", \"basing\", \"that\", \"most\", \"as\", \"movie\", \"at\", \"the\", \"'_s\", \"be\", \"of\", \"on\", \"it\", \".\", \"\\\"\", \",\", \"'_t\", \"even\", \"this\", \"-\", \"you\", \"a\"], \"loglift\": [30.0, 29.0, 28.0, 27.0, 26.0, 25.0, 24.0, 23.0, 22.0, 21.0, 20.0, 19.0, 18.0, 17.0, 16.0, 15.0, 14.0, 13.0, 12.0, 11.0, 10.0, 9.0, 8.0, 7.0, 6.0, 5.0, 4.0, 3.0, 2.0, 1.0, 1.3024, 1.2707, 1.2707, 1.2402, 1.2086, 1.1135, 1.0994, 1.0834, 1.0796, 1.0796, 1.0796, 1.0796, 1.0796, 1.0796, 1.0796, 1.0796, 1.0796, 1.0796, 1.0796, 1.0796, 1.0796, 1.0796, 1.0796, 1.0796, 1.0796, 1.0796, 1.0796, 1.0796, 1.0796, 1.0796, 1.0794, 1.0707, 0.8699, 0.8338, 0.7553, 1.0218, 0.6192, 1.0083, 0.4287, 0.9811, 0.9129, 0.545, 0.3256, -0.0386, 0.8851, 0.0677, -0.2183, 0.1524, 0.0235, 0.9311, 0.503, 0.3317, -0.0048, -0.39, -0.0624, 0.2394, 0.0044, 0.4088, 0.2805, -0.1888, -0.0525, 0.3974, 0.3258, -0.0849, 1.3179, 1.1842, 1.1282, 1.1059, 1.1059, 1.1059, 1.1059, 1.1059, 1.1059, 1.1059, 1.1059, 1.1059, 1.1059, 1.1059, 1.1059, 1.1059, 1.1059, 1.1059, 1.1059, 1.1059, 1.1059, 1.1059, 1.1059, 1.1059, 1.1059, 1.1059, 1.1059, 1.1059, 1.1059, 1.1059, 1.0835, 1.0435, 1.0321, 0.6097, 0.9262, 0.7184, 0.925, 0.9103, 1.036, 0.3724, 0.8811, 0.9523, 0.4517, 0.3345, 0.9875, -0.0086, 0.8634, 0.9805, 0.5815, 0.6866, 0.1336, 0.4772, 0.8905, 0.5281, 0.9723, 0.7543, -0.0351, 0.2635, 0.4976, -0.1211, 0.2066, -0.2425, 0.1703, 0.0866, 0.3008, -0.5917, 0.2466, -0.3213, -0.0134, -0.1469, -0.8212, 1.3649, 1.2187, 1.2187, 1.2187, 1.2187, 1.2187, 1.2187, 1.2187, 1.2187, 1.2187, 1.2187, 1.2187, 1.2187, 1.2187, 1.2187, 1.2187, 1.2187, 1.2187, 1.2187, 1.2187, 1.2187, 1.2187, 1.2187, 1.2187, 1.2187, 1.2187, 1.2187, 1.2187, 1.2187, 1.2187, 1.1536, 1.1472, 0.964, 0.2807, 0.9445, 0.8699, 0.7537, 0.8076, 0.4968, 0.4931, 0.7717, 0.1977, 0.282, 0.1883, 0.6622, -0.1341, -0.0349, 0.6604, 0.4319, 0.9896, 0.4315, -0.002, 0.4853, 0.7733, 0.3724, 0.6067, 0.819, -0.0225, 0.4802, 0.5134, 0.1496, 0.3298, -0.3908, -0.3609, -0.0447, -0.4409, 1.7523, 1.651, 1.5321, 1.5254, 1.5254, 1.5254, 1.5254, 1.5254, 1.5254, 1.5254, 1.5254, 1.5254, 1.5254, 1.5254, 1.5254, 1.5254, 1.5254, 1.5254, 1.5254, 1.5254, 1.5254, 1.5254, 1.5254, 1.5254, 1.5254, 1.5254, 1.5254, 1.5254, 1.5254, 1.5254, 1.0015, 1.3651, 1.4057, 0.6956, 0.3928, 0.5863, 0.9242, 0.7049, 0.0205, 0.4244, 0.9554, -0.2106, 0.3337, 0.0953, 0.5143, 0.6202, -0.1921, 1.1103, 0.6011, 0.376, 0.2866, 1.0878, -0.3679, 1.0904, -0.5371, 0.0565, 0.6739, 0.0321, 0.6363, 0.279, 0.0007, 0.17, 2.0026, 2.0026, 2.0026, 2.0026, 2.0026, 2.0026, 2.0026, 1.9957, 1.995, 1.9942, 1.9933, 1.9933, 1.9931, 1.993, 1.993, 1.9928, 1.9925, 1.9911, 1.991, 1.9906, 1.9901, 1.9897, 1.9894, 1.9862, 1.9832, 1.9164, 1.9164, 1.8946, 1.8813, 1.8789, 1.8152, 1.8496, 1.5364, 1.7501, 0.2834, 1.4262, 0.092, 1.0848, 1.372, -0.1884, 0.2375, -0.0752, 0.1333, 1.7083, 1.7248, 0.034, 0.6893, 0.7403, 0.3805, -0.3385, 0.3856, -0.1852, -0.5555, 0.2015, -0.7303, 0.3742, 1.1163, -0.8058, 0.0547, 0.1036, 2.6192, 2.2748, 2.2748, 2.2748, 2.2748, 2.2748, 2.2748, 2.2748, 2.2747, 2.2746, 2.2746, 2.2746, 2.2746, 2.2746, 2.2746, 2.2745, 2.0557, 2.0445, 1.9927, 1.9631, 1.9401, 1.9372, 1.9258, 1.9056, 1.8955, 1.8938, 1.8732, 1.8248, 1.819, 1.8113, 1.8055, 1.7817, 1.8052, 1.8052, 1.8051, 1.2413, 1.7534, 1.2488, 0.5458, 0.7134, -0.1914, -0.2222, 0.9397, 0.7051, -0.271, -0.0918, 1.1822, 0.6452, 1.1613, -0.6675, -0.4505, -0.5229, -0.6609, -0.9811, -0.8456, -0.2011, 1.127, 1.4704, 1.4713, 2.3422, 2.3075, 2.3075, 2.3075, 2.3074, 2.1164, 2.1106, 2.0863, 2.0442, 2.0373, 2.0126, 1.9577, 1.7531, 1.7427, 1.717, 1.6958, 1.6524, 1.6509, 1.631, 1.6295, 1.6116, 1.6067, 1.6036, 1.6002, 1.5932, 1.5707, 1.5564, 1.5442, 1.5089, 1.4852, 1.4752, 1.4713, 1.2849, 1.3771, 1.0851, 1.1142, 0.2616, 0.922, 0.2783, 0.6994, 0.0411, 0.1015, -0.4678, 0.1727, 0.211, -0.0915, -0.4288, -1.1673, -0.0018, 0.3911, -0.7187, -0.0413, 0.2223, 0.8529, 0.271, 0.8014, 2.5827, 2.5827, 2.5827, 2.5827, 2.5827, 2.5827, 2.5827, 2.5827, 2.5827, 2.5827, 2.5827, 2.5827, 2.5827, 2.5546, 2.5482, 2.5442, 2.5431, 2.5407, 2.5216, 2.1043, 2.0903, 2.0703, 2.0192, 2.0087, 2.007, 1.9949, 1.7841, 1.7714, 1.7398, 1.7091, 1.6774, 1.5257, 1.4711, 1.4252, -0.2143, 0.3616, 0.1844, -0.1381, -1.0072, -0.82, 0.8802, 1.0003, -0.7912, 0.2303, -0.6115, 0.4017, 0.5936, 0.9747, 2.7261, 2.7261, 2.7261, 2.7261, 2.7261, 2.7261, 2.7261, 2.4905, 2.475, 2.455, 2.4253, 2.4208, 2.4116, 2.3941, 2.3554, 2.3531, 2.2301, 2.1834, 2.1829, 2.1521, 2.1216, 2.091, 2.0215, 1.9935, 1.9629, 1.956, 1.9123, 1.8822, 1.8598, 1.7745, 1.6432, 1.5908, 0.7221, -0.0654, 0.0206, 1.4162, 0.2111, 0.9736, -0.7126, 1.0727, -1.207, 0.9085, -0.3668, -1.5396, -0.5545, 1.1363, 2.8588, 2.8339, 2.8339, 2.8339, 2.8339, 2.8339, 2.8338, 2.2672, 2.2344, 2.0268, 1.9835, 1.9651, 1.9627, 1.9162, 1.8837, 1.8805, 1.8367, 1.698, 1.6572, 1.4338, 1.388, 1.3678, 1.3651, 1.334, 1.3092, 1.3008, 1.2938, 1.2821, 1.279, 1.244, 0.6051, 0.8314, 0.6652, 0.6116, 0.8687, -0.4467, -0.0278, 0.65, -0.3017, 0.1739, -0.3664, -0.8033, -0.1869, -1.4293, 0.0765, 0.442, -0.1291, -0.6137, 0.3965, -1.1245], \"Freq\": [86.0, 34.0, 36.0, 90.0, 27.0, 9.0, 65.0, 22.0, 8.0, 30.0, 7.0, 23.0, 13.0, 39.0, 28.0, 10.0, 19.0, 4.0, 6.0, 9.0, 18.0, 3.0, 8.0, 2.0, 13.0, 6.0, 5.0, 3.0, 37.0, 4.0, 6.233720705700893, 1.8855484394015738, 1.8855325629770576, 6.382719374584945, 1.7608698511036924, 1.6143851368454472, 1.5920337349008755, 1.5319678389685025, 0.987674632299548, 0.9876745773786516, 0.9876741218490465, 0.9876739768033037, 0.9876739277851325, 0.9876737232282353, 0.9876733213497646, 0.9876731185788942, 0.9876730539891414, 0.9876727901025665, 0.9876723244311246, 0.9876723295398175, 0.9876720078429843, 0.9876719553063505, 0.9876717647363379, 0.9876717049147181, 0.9876714583788301, 0.9876713764100268, 0.9876707454435375, 0.9876702720652776, 0.9876696948221475, 0.9876695534715842, 1.5608940443586625, 1.4707566465859028, 9.498510074475236, 9.504294631242473, 10.351952417849727, 1.474446464129786, 14.991041923805048, 1.4222417296159853, 12.208567981495678, 1.3850656596364317, 1.7303171346926998, 5.802688915609828, 8.557629755494569, 17.90170741537567, 1.6438753238708985, 9.093861661534563, 15.642389504325319, 6.8049759191421675, 7.515212444686708, 1.3123148673178926, 2.843319408649963, 3.6635089209291207, 6.379528684414417, 9.628727950629484, 6.116013205436143, 3.8247692344457715, 5.067513940235985, 2.9443896673371266, 2.2139138844873902, 2.3280775256984745, 2.126437218852948, 1.8717340969505543, 1.8369510321188989, 1.8855602316412094, 1.6514760649059292, 1.4261439047993645, 1.3889783928434807, 0.8650616894740659, 0.86506167287142, 0.8650612664663858, 0.8650607815073347, 0.8650607480976107, 0.8650606349660623, 0.8650606145085973, 0.8650605176032017, 0.8650605223165435, 0.8650600643021477, 0.8650597649405735, 0.8650597103828864, 0.8650596027952909, 0.8650594904798473, 0.8650589503510477, 0.8650584958837862, 0.8650585092012305, 0.8650584282856275, 0.8650585189953021, 0.8650584007467828, 0.8650583649074512, 0.8650583493012473, 0.8650578819012127, 0.8650576873045319, 0.8650576254512081, 0.8650576909699136, 0.8650574418356306, 1.6514783427059454, 1.634274109847636, 1.6465294513991542, 32.90280121889208, 3.0770956687713045, 9.510425919433304, 2.5721565109637123, 2.363154813181386, 1.231877759158977, 18.96647436445892, 2.21742524751755, 1.6039945811507228, 9.398155385401447, 9.425238198361464, 1.2039726183196846, 16.954023714513312, 1.6439557430443803, 1.2036955358411208, 3.216088528354679, 2.437900002905288, 8.926264440212165, 3.6040407558630565, 1.4053735845569237, 2.8932511355091397, 1.1384161797610484, 1.6729800728718656, 7.161248654157108, 4.0244010236915075, 2.417699880051189, 4.7572559345472065, 3.1770348282429817, 4.622098220263622, 2.901892096943664, 3.016961498741318, 2.4267232253764304, 4.04419725968883, 2.4336980649036497, 3.2417677713594073, 2.3841557948112175, 2.364443891637571, 2.4981977181922663, 1.8379176152122216, 1.0048430828473838, 1.0048429402704027, 1.0048425292313383, 1.0048415511108386, 1.0048410309829359, 1.0048408464753094, 1.004840551406061, 1.004840727186263, 1.0048406545179556, 1.0048400967003452, 1.0048398232914006, 1.0048396405347846, 1.0048394269479128, 1.004838702552423, 1.004838210610557, 1.0048379972541586, 1.0048379148082673, 1.0048377879535513, 1.0048371533001998, 1.004837144221819, 1.0048354340059809, 1.0048346135007253, 1.0048344771601896, 1.0048338306440032, 1.004832721459373, 1.004831284794566, 1.0048307319030165, 1.0048263544082212, 1.0048255056120794, 1.9183329935008075, 1.8189184409338062, 2.505792643754339, 21.592138319446597, 2.272066831106746, 2.80182057523836, 3.7013068063009014, 2.7885735785500896, 5.946815775126223, 5.711631210384381, 2.840339752648447, 9.076574627865712, 7.448477667784242, 8.413975113593379, 3.1437034207540986, 14.913784445686474, 12.036809505425175, 2.887219876927505, 4.022821207718549, 1.4848975799054205, 3.794121053070211, 7.059402892888784, 2.9466347640113675, 1.9183273540829808, 3.3873084198404237, 2.3346353770875, 1.736037171165628, 5.007507041412024, 2.6300984315469123, 2.4279141410568204, 3.424967411614281, 2.731506180041152, 3.8597287810951966, 3.7752350496511378, 2.523292613183419, 2.7430151375918137, 1.5063913940091704, 1.38166308301676, 1.5063881416136164, 0.7890630177695342, 0.7890629154969886, 0.7890623602468947, 0.7890619593802838, 0.7890617446539613, 0.7890618649052225, 0.7890617017453613, 0.7890606693529945, 0.7890601249492167, 0.7890601954867053, 0.7890599534169946, 0.7890600462553132, 0.7890591955724365, 0.7890590871975739, 0.7890588140331665, 0.7890587474378338, 0.7890583107064684, 0.7890574364126836, 0.7890569218551604, 0.7890561850637132, 0.7890556637392968, 0.7890553950861118, 0.7890547857124515, 0.78905460622528, 0.7890544033016753, 0.7890497993786955, 0.7890474833876017, 11.565134254301253, 1.2970098283458416, 1.1073185927787368, 7.1703210347614865, 12.190026757091069, 6.667081928702428, 2.564471112638525, 3.5257996896512553, 11.493961019622658, 5.169685631857737, 1.9010648547258124, 8.723287334326745, 4.076469576876274, 4.143993804119042, 2.5778109671538467, 2.1032627848976087, 4.058616869303052, 1.158810992267991, 1.7760627772352406, 2.051104461414188, 2.026720528092672, 1.106461068286042, 3.233145409271887, 1.0954487007379612, 2.6895105552995746, 1.824926780339053, 1.2600929037955197, 1.6803385924750835, 1.2352225877319933, 1.2682170663670398, 1.2979130345986123, 1.2688657950237934, 0.7689383175304817, 0.7689351453944612, 0.7689344950439658, 0.7689330897635268, 0.768932850054518, 0.7689321746419865, 0.7689305957544537, 0.7628499174981801, 0.7622402568867389, 0.7615278455423831, 0.7607135675052887, 0.7628046955814985, 0.762691608268866, 0.7604668237671783, 0.7603974073879229, 0.7602851274517047, 0.7599794755958217, 0.7613653606143821, 0.7586559374063018, 0.7610684965855891, 0.7578338406104402, 0.7604692312202534, 0.7572579796578894, 0.758170256555579, 0.7518043343087817, 0.7063027557364129, 0.7124570158414638, 0.6992492842658239, 0.6908796046391887, 0.6806180340018699, 1.6581881257247488, 1.0341813737040395, 2.0736342969074206, 0.9238267893636369, 8.761977251487032, 1.4434400612343403, 5.529991984861811, 1.7859034021918232, 1.3629804424159147, 5.716482514959301, 2.7792732194159235, 2.7958867962734595, 2.36790631946042, 0.9004265800423735, 0.890139793287035, 2.352036017951056, 1.4622419993664804, 1.2785737549783873, 1.3820124732097965, 1.6458326683109448, 1.2691668189861895, 1.4868048489070531, 1.6183146911782236, 1.140750506431599, 1.379103521052198, 0.8674766990697463, 0.7772233911486023, 0.7707067371499716, 0.7689469001043491, 0.7689402628162002, 2.027219517022083, 0.7193845643106335, 0.7193837099891416, 0.7193825774621293, 0.7193825225178705, 0.7193822860088175, 0.7193773829093071, 0.7193754530009985, 0.7193752114086652, 0.7192874484295066, 0.7192842516548875, 0.7192733685837506, 0.7192694060186113, 0.7192557394965666, 0.7192156846808461, 0.7191921025345672, 0.5643472937832587, 0.5575045432888057, 0.5268359886066979, 0.5101537780693589, 0.49755500649824724, 0.496022400903451, 0.4899460778585294, 0.47931443615466646, 0.4741333049814274, 1.3731015329867282, 0.4628493261564538, 0.7192643381465074, 0.7193021883206364, 0.6215714330843289, 0.9069699199030564, 1.1714216499951378, 0.7193855572804293, 0.7193842448599652, 0.7192995558980512, 2.027077082709328, 0.7193789622462722, 1.5946877506268378, 3.5880723301660957, 2.5950879242101306, 4.200666310984534, 3.89490249866457, 1.3733003762521256, 1.5768727180657434, 2.8352866132583605, 2.0268851395981247, 0.9631313726321901, 1.2127108026409852, 0.9118032912447055, 1.082399748441957, 1.029587863006075, 0.9055093579739207, 0.8787795347873195, 0.7194126928789464, 0.7194080290528883, 0.7193947348803746, 0.7193881306975957, 0.7193849097847493, 0.7193843876115182, 0.927789532504783, 0.577153967790476, 0.5771506996389428, 0.57714298120018, 0.57710486401039, 0.499843437680087, 0.4976445981694675, 0.48837014487825653, 0.4726049973176676, 0.47006173009478536, 0.46101877624672255, 0.44138267681713, 0.35444036186303707, 0.5771565682729404, 0.36246799228371074, 1.1018209216294124, 0.5005478091403198, 0.3229393991552343, 0.33716006514512276, 0.4940419503462186, 0.33169219842103687, 0.3101283791845151, 1.7207845393906955, 0.4893285387870449, 0.4825992075829757, 0.3000315084305126, 0.4959873722002092, 0.2927888385334651, 0.30389705163835606, 0.29772194154546167, 0.5771528406774816, 0.5936731911299675, 0.8873386997573939, 0.5771600116438212, 1.3790829829221392, 0.9734915315798887, 5.442751774524443, 0.946757941048101, 2.365116430505215, 1.1914899495001972, 1.9939324757529233, 1.540089671219531, 2.0057078314201613, 1.301696994502688, 1.1479852171965543, 1.3376891576846424, 1.183612460657687, 1.3635410546759827, 0.8945679990538734, 0.6181553772863978, 0.7034708556206966, 0.6438537092543651, 0.5772329720966403, 0.5771602845972579, 0.5771583529276474, 0.5771539804664734, 0.5670512161469685, 0.5670508821659643, 0.5670502713737153, 0.567050114756968, 0.5670501247003276, 0.5670497958840953, 0.5670489725899904, 0.5670484063989523, 0.5670440309481759, 0.567043629918701, 0.567042441481406, 0.5670344061337587, 0.5670287888567682, 0.5544295817075596, 0.5516040315854898, 0.5498345336272139, 0.5493631657085005, 0.5482831435181937, 0.5398940958088442, 0.5670509710738169, 0.5670778943136529, 0.5670505239196553, 0.5670341285705826, 0.5491422373175777, 0.567049326770203, 1.0658348239656819, 0.5670539115936266, 0.5878070883223028, 0.5463848597285732, 0.5891926036339961, 1.5855154306348198, 1.5980463532286528, 1.0704988718519635, 1.0825337997680633, 2.6592408906116027, 1.5822905237155307, 1.6189752956708643, 1.0825722033299343, 1.1507236043212787, 1.0605556926007262, 0.6115855399071842, 0.5927868453357656, 0.619476883675129, 0.5994179519857151, 0.5888352967809298, 0.5670591597311228, 0.5670556122808027, 0.5670506074095817, 0.549771586056003, 0.5497711198693167, 0.5497710204353511, 0.5497709752211143, 0.5497692101840876, 0.5497685439324428, 0.5497661639546878, 0.44655526012803654, 0.44029804401903166, 0.4324865925737381, 0.4211184116054309, 0.4193644137088115, 0.4160110234353102, 0.40946735214390023, 0.39527146996294216, 0.39445522516675363, 0.3526251924224583, 0.5497724412046469, 0.5497699316655014, 0.5497717343480124, 0.8632438775461194, 1.0495590905662282, 0.42289491040435473, 0.43812363050719155, 0.5815927004220276, 0.43373863820224007, 0.43983665523067716, 0.4045718803881123, 0.3935986253342929, 0.5497693362494205, 0.5497723359500121, 0.5497711167189371, 0.8844402476426191, 1.1475675475434473, 1.080153679083985, 0.5497749222500891, 0.8982328662818756, 0.6326724996706564, 1.005244801789752, 0.5497762139717715, 0.838923603303491, 0.5497787817459868, 0.6172777246385572, 0.5752855839925948, 0.5389683291626475, 0.4502233200981213, 0.783841693812982, 0.4106511205647557, 0.4106508142769756, 0.4106504099189564, 0.4106496490383839, 0.4106496600870045, 0.41063152750030435, 0.41065101327152, 0.4106518094046793, 0.22972211771933956, 0.22190122309110147, 0.21864687690966209, 0.21822214931163836, 0.21016853892404488, 0.2046633195910722, 0.20413818039200862, 0.19692346597724095, 0.25107849480247274, 0.16944291670227676, 0.13605081418572257, 0.12961255027503416, 0.12798270873586765, 0.1276268560003427, 0.41304048067191335, 0.16640635597871323, 0.11893763478363799, 0.11919875831250264, 0.11772345570809423, 0.11759540878594521, 0.11269135850252168, 1.1614821605409364, 0.33385292320870946, 0.3918872700949895, 0.4106593916463767, 0.24641425570826747, 1.2918756921715946, 0.6870983631728768, 0.2949389522394159, 0.6477912970247899, 0.38484137755396947, 0.5522631753443522, 0.6911937799128579, 0.45422659183558345, 0.5057093261635583, 0.32943160525200493, 0.2840804258718928, 0.28716879910545495, 0.2857819276004125, 0.2580800207712598, 0.2803154665233937], \"Total\": [86.0, 34.0, 36.0, 90.0, 27.0, 9.0, 65.0, 22.0, 8.0, 30.0, 7.0, 23.0, 13.0, 39.0, 28.0, 10.0, 19.0, 4.0, 6.0, 9.0, 18.0, 3.0, 8.0, 2.0, 13.0, 6.0, 5.0, 3.0, 37.0, 4.0, 7.859319895350158, 2.453923086891149, 2.4539182809453735, 8.563931526649187, 2.438446894661935, 2.4586412381677474, 2.4590304065834063, 2.4045310642386872, 1.556038856686596, 1.5560388692906446, 1.5560387749874232, 1.5560386687883543, 1.5560386551164118, 1.5560386443143621, 1.556038491353098, 1.5560384516326087, 1.5560383668086109, 1.5560382443852188, 1.5560381364594478, 1.556038304193116, 1.5560381237782737, 1.5560381319945118, 1.5560379407239797, 1.5560381138153718, 1.5560377988548475, 1.5560379112391463, 1.5560377521519195, 1.556037472177566, 1.5560373871878908, 1.55603740229384, 2.459571304761478, 2.3378634044826607, 18.456697857029152, 19.14576732908686, 22.55660231864844, 2.4610742852868275, 37.428402162568155, 2.406207880927852, 36.877047761178495, 2.4081435449403954, 3.2204730450155026, 15.603808157076106, 28.657901722306118, 86.28867318882384, 3.1459650164842543, 39.41159690591654, 90.23749988922498, 27.097785214063208, 34.0402769044092, 2.3984990534145436, 7.973646265808957, 12.193550060218445, 29.72577943462326, 65.95001928144832, 30.18854975288579, 13.960838060727296, 23.396775698986914, 9.072957273557195, 7.75530617528135, 13.039934951178013, 10.392758531994614, 5.833726614390702, 6.149941797498906, 9.51889763137659, 2.2309955103239276, 2.202186461966329, 2.2681972056231925, 1.4445736886740124, 1.4445736702469512, 1.4445735626785472, 1.4445734768719114, 1.44457347529216, 1.4445734657747438, 1.4445735134640603, 1.4445733581320583, 1.4445734683934002, 1.444573418958983, 1.4445733420947129, 1.4445733799540479, 1.444573287108724, 1.444573265757505, 1.4445731354770495, 1.4445729721231508, 1.4445730687340435, 1.4445729764739337, 1.4445732330827854, 1.444573046630192, 1.4445730509603878, 1.4445731806129147, 1.4445729338379736, 1.4445728908390385, 1.4445729430141365, 1.444573068326649, 1.4445728033815275, 2.820225095882645, 2.904655405989781, 2.960096246983607, 90.23749988922498, 6.149941797498906, 23.396775698986914, 5.146581921834926, 4.798782100140955, 2.206052053263463, 65.95001928144832, 4.636010940696519, 3.1229638684598324, 30.18854975288579, 34.0402769044092, 2.2632165396571877, 86.28867318882384, 3.498391053239097, 2.278414016044106, 9.072957273557195, 6.191640714361335, 39.41159690591654, 11.284715139795262, 2.910953163636627, 8.609831212726366, 2.1726216539863157, 3.9707769294604547, 37.428402162568155, 15.603808157076106, 7.417667667913491, 27.097785214063208, 13.039934951178013, 29.72577943462326, 12.35075904595111, 13.960838060727296, 9.064788521034734, 36.877047761178495, 9.596651039924373, 22.55660231864844, 12.193550060218445, 13.819896169209928, 28.657901722306118, 2.4837728449828833, 1.5716486448214189, 1.5716485304307017, 1.5716483427395915, 1.5716480904764696, 1.571648192870296, 1.571648021208992, 1.571647648552643, 1.5716479623411073, 1.5716478510711367, 1.5716476875027567, 1.5716476158929895, 1.571647539690433, 1.571647459053323, 1.5716470837002998, 1.571646977406564, 1.5716471124687639, 1.5716470613928741, 1.5716471342220728, 1.5716466826484718, 1.5716470154857767, 1.5716462660149288, 1.5716456840610196, 1.5716458930233563, 1.5716459931471318, 1.5716452715009555, 1.57164472447168, 1.571644585116741, 1.5716432170564294, 1.5716431776582984, 3.202480234863061, 3.0559174391476134, 5.056286520087657, 86.28867318882384, 4.675228662608341, 6.211595962829905, 9.217102870848162, 6.579405559257889, 19.14576732908686, 18.456697857029152, 6.946624024971264, 39.41159690591654, 29.72577943462326, 36.877047761178495, 8.578263131003691, 90.23749988922498, 65.95001928144832, 7.892350863770486, 13.819896169209928, 2.920619603330802, 13.039934951178013, 37.428402162568155, 9.596651039924373, 4.684393498971344, 12.35075904595111, 6.733918369770618, 4.0495736239962925, 27.097785214063208, 8.609831212726366, 7.688124467482932, 15.603808157076106, 10.392758531994614, 30.18854975288579, 28.657901722306118, 13.960838060727296, 22.55660231864844, 2.092822398003844, 2.124218106035389, 2.6083283445380965, 1.375486710605979, 1.3754867004304263, 1.3754866727475727, 1.3754865934707616, 1.3754863609026449, 1.3754865943399182, 1.375486497500847, 1.3754864395616608, 1.3754863866916616, 1.3754865133177572, 1.3754862018639489, 1.3754864485312206, 1.3754863735285814, 1.3754862586748422, 1.3754861782559553, 1.3754860712742976, 1.3754862262390941, 1.3754861872076407, 1.3754863717878083, 1.3754861290236005, 1.3754860434145508, 1.375485989146414, 1.375485966742901, 1.3754856769332278, 1.3754862264616092, 1.3754853496261026, 1.3754854636460014, 34.0402769044092, 2.6539655133673286, 2.175584222833031, 28.657901722306118, 65.95001928144832, 29.72577943462326, 8.155216203325846, 13.960838060727296, 90.23749988922498, 27.097785214063208, 5.859775826116917, 86.28867318882384, 23.396775698986914, 30.18854975288579, 12.35075904595111, 9.064788521034734, 39.41159690591654, 3.0591757621108076, 7.8020211700565865, 11.284715139795262, 12.193550060218445, 2.9874098466577137, 37.428402162568155, 2.950136435877368, 36.877047761178495, 13.819896169209928, 5.146581921834926, 13.039934951178013, 5.238492661337009, 7.688124467482932, 10.392758531994614, 8.578263131003691, 1.3571922529998124, 1.357191972184053, 1.357191953698571, 1.3571917619658525, 1.3571915146235698, 1.357191731432357, 1.35719149120357, 1.3556732401886844, 1.355521287382726, 1.3553435896162425, 1.3551405533991192, 1.3589379935379533, 1.3589692650217282, 1.3550793413817215, 1.355061654560652, 1.3550339105056226, 1.3549576597374318, 1.3593468062429173, 1.354627881214874, 1.3594312977373948, 1.354422692584594, 1.3596014383445907, 1.354279196954343, 1.360255548348184, 1.3529196448076855, 1.3588314678794085, 1.370685389474107, 1.3748711161415128, 1.376667676839604, 1.3595034231505954, 3.529735752404018, 2.1270923503749453, 5.833726614390702, 2.0988364428324315, 86.28867318882384, 4.533907887175875, 65.95001928144832, 7.892350863770486, 4.51950349045846, 90.23749988922498, 28.657901722306118, 39.41159690591654, 27.097785214063208, 2.133019334030816, 2.074168352647083, 29.72577943462326, 9.596651039924373, 7.973646265808957, 12.35075904595111, 30.18854975288579, 11.284715139795262, 23.396775698986914, 36.877047761178495, 12.193550060218445, 37.428402162568155, 7.8020211700565865, 3.3279357326728047, 22.55660231864844, 9.51889763137659, 9.064788521034734, 2.6200971127672092, 1.3121418135425207, 1.3121417687576915, 1.3121417585275763, 1.3121419698448435, 1.3121418040176127, 1.3121416534287256, 1.31214201925707, 1.3121418872040072, 1.3121224795182456, 1.3121217225661765, 1.3121197057160374, 1.3121191850491027, 1.3121163619904046, 1.3121088636105147, 1.3121038890065675, 1.2814915262937494, 1.2801387835167983, 1.274075540947773, 1.270777603282603, 1.2682871787000551, 1.2679840194098726, 1.266782397465413, 1.2646810238318626, 1.2636563843070334, 3.66599591825294, 1.261425634949647, 2.057340336090277, 2.069404741823938, 1.8020632528447753, 2.6449076667710334, 3.498391053239097, 2.0985639099471265, 2.0985649137143394, 2.098546955159887, 10.392758531994614, 2.210029467726856, 8.11416932855579, 36.877047761178495, 22.55660231864844, 90.23749988922498, 86.28867318882384, 9.51889763137659, 13.819896169209928, 65.95001928144832, 39.41159690591654, 5.238492661337009, 11.284715139795262, 5.064146814564813, 37.428402162568155, 28.657901722306118, 27.097785214063208, 30.18854975288579, 34.0402769044092, 29.72577943462326, 15.603808157076106, 4.134599899876311, 2.9329130967224124, 2.9304457840486404, 1.836535863431328, 1.182853666621851, 1.1828543909758424, 1.1828571215432984, 1.1828662816789626, 1.2401460053137074, 1.241774967277329, 1.2486467607729879, 1.2603290502434368, 1.2622137480542321, 1.268914680138535, 1.2834648981022583, 1.2646216278739155, 2.0807413244084088, 1.3408080700261977, 4.163108125749306, 1.9751295259525505, 1.276186607744544, 1.359175969824305, 1.9946201919035424, 1.3632878826008317, 1.2808902018567643, 7.129553021417516, 2.0343601281600106, 2.0204381109326937, 1.284597184128815, 2.1543214936822443, 1.2872563738566585, 1.384167058596545, 1.3885477377829907, 2.718806619970172, 2.8076211774266113, 5.056286520087657, 2.998983659339431, 9.596651039924373, 6.579405559257889, 86.28867318882384, 7.75530617528135, 36.877047761178495, 12.193550060218445, 39.41159690591654, 28.657901722306118, 65.95001928144832, 22.55660231864844, 19.14576732908686, 30.18854975288579, 37.428402162568155, 90.23749988922498, 18.456697857029152, 8.609831212726366, 29.72577943462326, 13.819896169209928, 9.51889763137659, 5.066104953726402, 9.064788521034734, 5.33340771793558, 1.1736580472618607, 1.1736584775848498, 1.1736585020752899, 1.1736584808183599, 1.1736586971656002, 1.1736585970397972, 1.1736587773894862, 1.173659070196215, 1.1736601445463843, 1.1736604490766391, 1.173660910196133, 1.1736630166028836, 1.1736648268658303, 1.1802915916346104, 1.1817762419690045, 1.182706176527167, 1.1829539620651988, 1.183521195210146, 1.1879301337789911, 1.8938127319307476, 1.9204273647787955, 1.9591544114612116, 2.061767579968171, 2.017807646122601, 2.0871552520560392, 3.9707769294604547, 2.6083283445380965, 2.738518253540705, 2.6271235574271556, 2.9213678444455216, 8.11416932855579, 9.51889763137659, 6.733918369770618, 7.129553021417516, 90.23749988922498, 30.18854975288579, 36.877047761178495, 34.0402769044092, 86.28867318882384, 65.95001928144832, 6.946624024971264, 5.971177484851606, 37.428402162568155, 13.039934951178013, 29.72577943462326, 10.392758531994614, 8.578263131003691, 5.859775826116917, 1.1579513191350135, 1.1579515437586623, 1.1579514059450284, 1.1579514599253204, 1.1579521025939012, 1.1579520610755205, 1.157952856286061, 1.1904932620208364, 1.192152327620189, 1.1946303972072008, 1.198293753884532, 1.198697468855453, 1.200020916508135, 1.2020343644078562, 1.2061296169105629, 1.2064500444720365, 1.219628793505215, 1.9925326137247115, 1.99355612353367, 2.0558378742181396, 3.3279357326728047, 4.172218728228723, 1.8020632528447753, 1.9199901557198547, 2.627917831719202, 1.9732789712306502, 2.090379720427814, 1.9815520520957854, 1.971508824509314, 2.998983659339431, 3.4197834662106628, 3.603689893542272, 13.819896169209928, 39.41159690591654, 34.0402769044092, 4.291216081072342, 23.396775698986914, 7.688124467482932, 65.95001928144832, 6.050467762524222, 90.23749988922498, 7.129553021417516, 28.657901722306118, 86.28867318882384, 30.18854975288579, 4.649250453095758, 1.9204273647787955, 1.0314820274769434, 1.0314822532395804, 1.0314825667449807, 1.0314828347412435, 1.031482938201648, 1.0314982965543495, 1.817903959634179, 1.8785962616126362, 1.2932753917080533, 1.3045913485667011, 1.3093000166664535, 1.309914703567618, 1.3215679810336889, 1.3295330840087995, 1.330292866346867, 1.3407321715256928, 1.9638590960910491, 1.3804948381342437, 1.3859323228251739, 1.3821645029523268, 1.3927109805512556, 1.3925952553418053, 4.649250453095758, 1.9199901557198547, 1.3839524539467642, 1.3967755145868057, 1.3956327796704777, 1.3984463451155917, 1.3879548248321598, 27.097785214063208, 6.211595962829905, 8.609831212726366, 9.51889763137659, 4.417125554950902, 86.28867318882384, 30.18854975288579, 6.579405559257889, 37.428402162568155, 13.819896169209928, 34.0402769044092, 65.95001928144832, 23.396775698986914, 90.23749988922498, 13.039934951178013, 7.8020211700565865, 13.960838060727296, 22.55660231864844, 7.417667667913491, 36.877047761178495], \"logprob\": [30.0, 29.0, 28.0, 27.0, 26.0, 25.0, 24.0, 23.0, 22.0, 21.0, 20.0, 19.0, 18.0, 17.0, 16.0, 15.0, 14.0, 13.0, 12.0, 11.0, 10.0, 9.0, 8.0, 7.0, 6.0, 5.0, 4.0, 3.0, 2.0, 1.0, -4.3559, -5.5516, -5.5516, -4.3323, -5.62, -5.7069, -5.7208, -5.7593, -6.1983, -6.1983, -6.1983, -6.1983, -6.1983, -6.1983, -6.1983, -6.1983, -6.1983, -6.1983, -6.1983, -6.1983, -6.1983, -6.1983, -6.1983, -6.1983, -6.1983, -6.1983, -6.1983, -6.1983, -6.1983, -6.1983, -5.7406, -5.8001, -3.9347, -3.9341, -3.8487, -5.7976, -3.4784, -5.8336, -3.6837, -5.8601, -5.6376, -4.4275, -4.039, -3.301, -5.6888, -3.9783, -3.4359, -4.2682, -4.1689, -5.9141, -5.1409, -4.8874, -4.3328, -3.9211, -4.3749, -4.8444, -4.563, -5.106, -5.3911, -5.3408, -5.4314, -5.559, -5.5777, -5.5516, -5.5997, -5.7464, -5.7728, -6.2463, -6.2463, -6.2463, -6.2463, -6.2463, -6.2463, -6.2463, -6.2463, -6.2463, -6.2463, -6.2463, -6.2463, -6.2463, -6.2463, -6.2463, -6.2463, -6.2463, -6.2463, -6.2463, -6.2463, -6.2463, -6.2463, -6.2463, -6.2463, -6.2463, -6.2463, -6.2463, -5.5997, -5.6102, -5.6027, -2.6078, -4.9774, -3.849, -5.1566, -5.2414, -5.8928, -3.1587, -5.305, -5.6289, -3.8609, -3.858, -5.9158, -3.2709, -5.6043, -5.916, -4.9332, -5.2102, -3.9124, -4.8193, -5.7611, -5.039, -5.9717, -5.5868, -4.1327, -4.709, -5.2186, -4.5417, -4.9454, -4.5705, -5.036, -4.9971, -5.2148, -4.7041, -5.212, -4.9253, -5.2325, -5.2408, -5.1858, -5.4453, -6.0491, -6.0491, -6.0491, -6.0491, -6.0491, -6.0491, -6.0492, -6.0492, -6.0492, -6.0492, -6.0492, -6.0492, -6.0492, -6.0492, -6.0492, -6.0492, -6.0492, -6.0492, -6.0492, -6.0492, -6.0492, -6.0492, -6.0492, -6.0492, -6.0492, -6.0492, -6.0492, -6.0492, -6.0492, -5.4025, -5.4557, -5.1354, -2.9816, -5.2333, -5.0237, -4.7453, -5.0284, -4.2711, -4.3115, -5.0101, -3.8483, -4.046, -3.9241, -4.9086, -3.3517, -3.566, -4.9937, -4.662, -5.6586, -4.7205, -4.0996, -4.9733, -5.4025, -4.8339, -5.2061, -5.5024, -4.443, -5.087, -5.1669, -4.8229, -5.0491, -4.7034, -4.7255, -5.1284, -5.0449, -5.2292, -5.3156, -5.2292, -5.8758, -5.8758, -5.8758, -5.8758, -5.8758, -5.8758, -5.8758, -5.8758, -5.8758, -5.8758, -5.8758, -5.8758, -5.8758, -5.8758, -5.8758, -5.8758, -5.8758, -5.8758, -5.8758, -5.8758, -5.8758, -5.8758, -5.8758, -5.8758, -5.8758, -5.8759, -5.8759, -3.1909, -5.3789, -5.537, -3.669, -3.1383, -3.7417, -4.6972, -4.3788, -3.1971, -3.9961, -4.9965, -3.4729, -4.2337, -4.2173, -4.692, -4.8954, -4.2381, -5.4915, -5.0645, -4.9206, -4.9325, -5.5378, -4.4655, -5.5478, -4.6496, -5.0374, -5.4077, -5.1199, -5.4277, -5.4013, -5.3782, -5.4008, -5.412, -5.412, -5.412, -5.412, -5.412, -5.412, -5.412, -5.42, -5.4208, -5.4217, -5.4228, -5.42, -5.4202, -5.4231, -5.4232, -5.4234, -5.4238, -5.4219, -5.4255, -5.4223, -5.4266, -5.4231, -5.4273, -5.4261, -5.4346, -5.497, -5.4883, -5.507, -5.5191, -5.534, -4.6436, -5.1157, -4.42, -5.2285, -2.9789, -4.7823, -3.4391, -4.5694, -4.8396, -3.4059, -4.1271, -4.1211, -4.2873, -5.2542, -5.2657, -4.294, -4.7693, -4.9035, -4.8258, -4.651, -4.9109, -4.7527, -4.6679, -5.0176, -4.8279, -5.2915, -5.4013, -5.4097, -5.412, -5.412, -4.1376, -5.1736, -5.1736, -5.1736, -5.1736, -5.1736, -5.1736, -5.1736, -5.1736, -5.1737, -5.1737, -5.1737, -5.1738, -5.1738, -5.1738, -5.1739, -5.4163, -5.4285, -5.4851, -5.5173, -5.5423, -5.5454, -5.5577, -5.5796, -5.5905, -4.5272, -5.6146, -5.1738, -5.1737, -5.3197, -4.9419, -4.686, -5.1736, -5.1736, -5.1737, -4.1376, -5.1736, -4.3776, -3.5666, -3.8906, -3.409, -3.4846, -4.527, -4.3888, -3.8021, -4.1377, -4.8818, -4.6514, -4.9366, -4.7651, -4.8151, -4.9435, -4.9735, -5.1736, -5.1736, -5.1736, -5.1736, -5.1736, -5.1736, -4.7699, -5.2446, -5.2446, -5.2446, -5.2447, -5.3884, -5.3928, -5.4116, -5.4445, -5.4499, -5.4693, -5.5128, -5.7322, -5.2446, -5.7098, -4.598, -5.387, -5.8253, -5.7822, -5.4001, -5.7985, -5.8657, -4.1522, -5.4097, -5.4235, -5.8988, -5.3962, -5.9233, -5.886, -5.9066, -5.2446, -5.2164, -4.8145, -5.2446, -4.3735, -4.7218, -3.0007, -4.7497, -3.8341, -4.5198, -4.0049, -4.2631, -3.999, -4.4313, -4.557, -4.404, -4.5264, -4.3849, -4.8064, -5.176, -5.0467, -5.1352, -5.2445, -5.2446, -5.2446, -5.2446, -4.9772, -4.9772, -4.9772, -4.9772, -4.9772, -4.9772, -4.9772, -4.9772, -4.9772, -4.9772, -4.9772, -4.9772, -4.9772, -4.9997, -5.0048, -5.008, -5.0089, -5.0108, -5.0263, -4.9772, -4.9771, -4.9772, -4.9772, -5.0093, -4.9772, -4.3461, -4.9772, -4.9412, -5.0143, -4.9389, -3.949, -3.9411, -4.3417, -4.3306, -3.4318, -3.951, -3.9281, -4.3305, -4.2695, -4.3511, -4.9016, -4.9328, -4.8887, -4.9217, -4.9395, -4.9772, -4.9772, -4.9772, -4.8472, -4.8472, -4.8472, -4.8472, -4.8472, -4.8472, -4.8472, -5.0552, -5.0693, -5.0872, -5.1138, -5.118, -5.126, -5.1419, -5.1772, -5.1792, -5.2913, -4.8472, -4.8472, -4.8472, -4.396, -4.2006, -5.1096, -5.0742, -4.791, -5.0843, -5.0703, -5.1539, -5.1814, -4.8472, -4.8472, -4.8472, -4.3718, -4.1113, -4.1719, -4.8472, -4.3563, -4.7068, -4.2438, -4.8472, -4.4246, -4.8472, -4.7314, -4.8019, -4.8671, -5.047, -4.2087, -4.8551, -4.8551, -4.8551, -4.8551, -4.8551, -4.8552, -4.8551, -4.8551, -5.436, -5.4707, -5.4854, -5.4874, -5.525, -5.5515, -5.5541, -5.5901, -5.3471, -5.7404, -5.9599, -6.0083, -6.021, -6.0238, -4.8493, -5.7584, -6.0943, -6.0921, -6.1045, -6.1056, -6.1482, -3.8154, -5.0622, -4.9019, -4.8551, -5.3659, -3.709, -4.3404, -5.1861, -4.3993, -4.9201, -4.5589, -4.3345, -4.7543, -4.6469, -5.0755, -5.2236, -5.2128, -5.2177, -5.3196, -5.237]}};\n",
       "\n",
       "function LDAvis_load_lib(url, callback){\n",
       "  var s = document.createElement('script');\n",
       "  s.src = url;\n",
       "  s.async = true;\n",
       "  s.onreadystatechange = s.onload = callback;\n",
       "  s.onerror = function(){console.warn(\"failed to load library \" + url);};\n",
       "  document.getElementsByTagName(\"head\")[0].appendChild(s);\n",
       "}\n",
       "\n",
       "if(typeof(LDAvis) !== \"undefined\"){\n",
       "   // already loaded: just create the visualization\n",
       "   !function(LDAvis){\n",
       "       new LDAvis(\"#\" + \"ldavis_el132541404889530741286113736041\", ldavis_el132541404889530741286113736041_data);\n",
       "   }(LDAvis);\n",
       "}else if(typeof define === \"function\" && define.amd){\n",
       "   // require.js is available: use it to load d3/LDAvis\n",
       "   require.config({paths: {d3: \"https://cdnjs.cloudflare.com/ajax/libs/d3/3.5.5/d3.min\"}});\n",
       "   require([\"d3\"], function(d3){\n",
       "      window.d3 = d3;\n",
       "      LDAvis_load_lib(\"https://cdn.rawgit.com/bmabey/pyLDAvis/files/ldavis.v1.0.0.js\", function(){\n",
       "        new LDAvis(\"#\" + \"ldavis_el132541404889530741286113736041\", ldavis_el132541404889530741286113736041_data);\n",
       "      });\n",
       "    });\n",
       "}else{\n",
       "    // require.js not available: dynamically load d3 & LDAvis\n",
       "    LDAvis_load_lib(\"https://cdnjs.cloudflare.com/ajax/libs/d3/3.5.5/d3.min.js\", function(){\n",
       "         LDAvis_load_lib(\"https://cdn.rawgit.com/bmabey/pyLDAvis/files/ldavis.v1.0.0.js\", function(){\n",
       "                 new LDAvis(\"#\" + \"ldavis_el132541404889530741286113736041\", ldavis_el132541404889530741286113736041_data);\n",
       "            })\n",
       "         });\n",
       "}\n",
       "</script>"
      ],
      "text/plain": [
       "PreparedData(topic_coordinates=            Freq  cluster  topics         x         y\n",
       "topic                                                \n",
       "7      21.563616        1       1 -0.070746  0.008497\n",
       "3      19.816954        1       2 -0.045112  0.079307\n",
       "4      18.899423        1       3 -0.058830 -0.056347\n",
       "6      12.479424        1       4 -0.055244  0.059223\n",
       "1       7.648013        1       5 -0.012700 -0.070751\n",
       "5       5.637198        1       6  0.058573  0.028214\n",
       "0       4.855499        1       7  0.002775 -0.063485\n",
       "9       3.651075        1       8  0.067675  0.015124\n",
       "8       3.108495        1       9  0.088788  0.011441\n",
       "2       2.340301        1      10  0.024823 -0.011223, topic_info=     Category       Freq       Term      Total  loglift  logprob\n",
       "term                                                            \n",
       "594   Default  86.000000        the  86.000000  30.0000  30.0000\n",
       "547   Default  34.000000         it  34.000000  29.0000  29.0000\n",
       "189   Default  36.000000          a  36.000000  28.0000  28.0000\n",
       "221   Default  90.000000          ,  90.000000  27.0000  27.0000\n",
       "325   Default  27.000000       that  27.000000  26.0000  26.0000\n",
       "458   Default   9.000000      movie   9.000000  25.0000  25.0000\n",
       "510   Default  65.000000          .  65.000000  24.0000  24.0000\n",
       "367   Default  22.000000          -  22.000000  23.0000  23.0000\n",
       "107   Default   8.000000       from   8.000000  22.0000  22.0000\n",
       "626   Default  30.000000        '_s  30.000000  21.0000  21.0000\n",
       "678   Default   7.000000          ?   7.000000  20.0000  20.0000\n",
       "311   Default  23.000000          \"  23.000000  19.0000  19.0000\n",
       "693   Default  13.000000         on  13.000000  18.0000  18.0000\n",
       "351   Default  39.000000        and  39.000000  17.0000  17.0000\n",
       "15    Default  28.000000         to  28.000000  16.0000  16.0000\n",
       "666   Default  10.000000        for  10.000000  15.0000  15.0000\n",
       "410   Default  19.000000          (  19.000000  14.0000  14.0000\n",
       "208   Default   4.000000       over   4.000000  13.0000  13.0000\n",
       "239   Default   6.000000        not   6.000000  12.0000  12.0000\n",
       "454   Default   9.000000        are   9.000000  11.0000  11.0000\n",
       "559   Default  18.000000          )  18.000000  10.0000  10.0000\n",
       "512   Default   3.000000       much   3.000000   9.0000   9.0000\n",
       "763   Default   8.000000         as   8.000000   8.0000   8.0000\n",
       "21    Default   2.000000       very   2.000000   7.0000   7.0000\n",
       "136   Default  13.000000       this  13.000000   6.0000   6.0000\n",
       "680   Default   6.000000         be   6.000000   5.0000   5.0000\n",
       "263   Default   5.000000        out   5.000000   4.0000   4.0000\n",
       "452   Default   3.000000        see   3.000000   3.0000   3.0000\n",
       "697   Default  37.000000         of  37.000000   2.0000   2.0000\n",
       "640   Default   4.000000         --   4.000000   1.0000   1.0000\n",
       "...       ...        ...        ...        ...      ...      ...\n",
       "575   Topic10   0.129613       hand   1.382165   1.3880  -6.0083\n",
       "632   Topic10   0.127983        bit   1.392711   1.3678  -6.0210\n",
       "492   Topic10   0.127627      point   1.392595   1.3651  -6.0238\n",
       "640   Topic10   0.413040         --   4.649250   1.3340  -4.8493\n",
       "3     Topic10   0.166406          d   1.919990   1.3092  -5.7584\n",
       "503   Topic10   0.118938  considers   1.383952   1.3008  -6.0943\n",
       "354   Topic10   0.119199        sad   1.396776   1.2938  -6.0921\n",
       "758   Topic10   0.117723    figured   1.395633   1.2821  -6.1045\n",
       "38    Topic10   0.117595        dig   1.398446   1.2790  -6.1056\n",
       "502   Topic10   0.112691     basing   1.387955   1.2440  -6.1482\n",
       "325   Topic10   1.161482       that  27.097785   0.6051  -3.8154\n",
       "377   Topic10   0.333853       most   6.211596   0.8314  -5.0622\n",
       "763   Topic10   0.391887         as   8.609831   0.6652  -4.9019\n",
       "458   Topic10   0.410659      movie   9.518898   0.6116  -4.8551\n",
       "764   Topic10   0.246414         at   4.417126   0.8687  -5.3659\n",
       "594   Topic10   1.291876        the  86.288673  -0.4467  -3.7090\n",
       "626   Topic10   0.687098        '_s  30.188550  -0.0278  -4.3404\n",
       "680   Topic10   0.294939         be   6.579406   0.6500  -5.1861\n",
       "697   Topic10   0.647791         of  37.428402  -0.3017  -4.3993\n",
       "693   Topic10   0.384841         on  13.819896   0.1739  -4.9201\n",
       "547   Topic10   0.552263         it  34.040277  -0.3664  -4.5589\n",
       "510   Topic10   0.691194          .  65.950019  -0.8033  -4.3345\n",
       "311   Topic10   0.454227          \"  23.396776  -0.1869  -4.7543\n",
       "221   Topic10   0.505709          ,  90.237500  -1.4293  -4.6469\n",
       "623   Topic10   0.329432        '_t  13.039935   0.0765  -5.0755\n",
       "61    Topic10   0.284080       even   7.802021   0.4420  -5.2236\n",
       "136   Topic10   0.287169       this  13.960838  -0.1291  -5.2128\n",
       "367   Topic10   0.285782          -  22.556602  -0.6137  -5.2177\n",
       "779   Topic10   0.258080        you   7.417668   0.3965  -5.3196\n",
       "189   Topic10   0.280315          a  36.877048  -1.1245  -5.2370\n",
       "\n",
       "[612 rows x 6 columns], token_table=      Topic      Freq      Term\n",
       "term                           \n",
       "159       8  0.520717         !\n",
       "159      10  0.520717         !\n",
       "311       1  0.213705         \"\n",
       "311       2  0.427409         \"\n",
       "311       3  0.042741         \"\n",
       "311       4  0.170964         \"\n",
       "311       5  0.042741         \"\n",
       "311       9  0.042741         \"\n",
       "266       1  0.108494         '\n",
       "266       2  0.216988         '\n",
       "266       3  0.433976         '\n",
       "266       4  0.108494         '\n",
       "626       1  0.198751       '_s\n",
       "626       2  0.298126       '_s\n",
       "626       3  0.132501       '_s\n",
       "626       4  0.132501       '_s\n",
       "626       5  0.066250       '_s\n",
       "626       6  0.033125       '_s\n",
       "626       7  0.033125       '_s\n",
       "626       8  0.066250       '_s\n",
       "626       9  0.033125       '_s\n",
       "626      10  0.033125       '_s\n",
       "623       1  0.153375       '_t\n",
       "623       2  0.230062       '_t\n",
       "623       3  0.306750       '_t\n",
       "623       4  0.153375       '_t\n",
       "623       5  0.076687       '_t\n",
       "623       8  0.076687       '_t\n",
       "410       1  0.522309         (\n",
       "410       2  0.052231         (\n",
       "...     ...       ...       ...\n",
       "589       2  0.440879      well\n",
       "63        1  0.240205      what\n",
       "63        2  0.240205      what\n",
       "63        7  0.240205      what\n",
       "494       7  0.845404  whatever\n",
       "448       8  0.852032     where\n",
       "376       1  0.221263       who\n",
       "376       3  0.221263       who\n",
       "376       5  0.221263       who\n",
       "788       1  0.642658   william\n",
       "98        4  0.727016       win\n",
       "148       2  0.692246   winston\n",
       "740       1  0.328042      with\n",
       "740       2  0.164021      with\n",
       "740       3  0.164021      with\n",
       "740       4  0.164021      with\n",
       "740       5  0.082011      with\n",
       "740       7  0.082011      with\n",
       "707       7  0.845413    within\n",
       "246       4  0.727016    wooden\n",
       "444       6  0.784883   worried\n",
       "320       9  0.863594   wrapped\n",
       "280       3  0.636277   written\n",
       "182       5  0.736816     wrong\n",
       "210       9  0.863594     years\n",
       "779       1  0.134813       you\n",
       "779       2  0.269627       you\n",
       "779       3  0.134813       you\n",
       "779       4  0.134813       you\n",
       "779       5  0.134813       you\n",
       "\n",
       "[712 rows x 3 columns], R=30, lambda_step=0.01, plot_opts={'xlab': 'PC1', 'ylab': 'PC2'}, topic_order=[8, 4, 5, 7, 2, 6, 1, 10, 9, 3])"
      ]
     },
     "execution_count": 28,
     "metadata": {},
     "output_type": "execute_result"
    }
   ],
   "source": [
    "pyLDAvis.gensim.prepare(LDA_model, corpus_processed,\n",
    "                        id2word)"
   ]
  },
  {
   "cell_type": "markdown",
   "metadata": {},
   "source": [
    "## Wordnet\n",
    "\n",
    "More details at: \n",
    "* http://www.nltk.org/howto/wordnet.html\n",
    "* https://wordnet.princeton.edu/"
   ]
  },
  {
   "cell_type": "code",
   "execution_count": 29,
   "metadata": {
    "collapsed": false
   },
   "outputs": [
    {
     "name": "stdout",
     "output_type": "stream",
     "text": [
      "[nltk_data] Downloading package wordnet to\n",
      "[nltk_data]     /homed/smishra8/nltk_data...\n",
      "[nltk_data]   Package wordnet is already up-to-date!\n"
     ]
    },
    {
     "data": {
      "text/plain": [
       "True"
      ]
     },
     "execution_count": 29,
     "metadata": {},
     "output_type": "execute_result"
    }
   ],
   "source": [
    "nltk.download(\"wordnet\")"
   ]
  },
  {
   "cell_type": "code",
   "execution_count": 30,
   "metadata": {
    "collapsed": true
   },
   "outputs": [],
   "source": [
    "from nltk.corpus import wordnet as wn"
   ]
  },
  {
   "cell_type": "code",
   "execution_count": 31,
   "metadata": {
    "collapsed": false
   },
   "outputs": [
    {
     "data": {
      "text/plain": [
       "[Synset('dog.n.01'),\n",
       " Synset('frump.n.01'),\n",
       " Synset('dog.n.03'),\n",
       " Synset('cad.n.01'),\n",
       " Synset('frank.n.02'),\n",
       " Synset('pawl.n.01'),\n",
       " Synset('andiron.n.01'),\n",
       " Synset('chase.v.01')]"
      ]
     },
     "execution_count": 31,
     "metadata": {},
     "output_type": "execute_result"
    }
   ],
   "source": [
    "wn.synsets('dog')"
   ]
  },
  {
   "cell_type": "markdown",
   "metadata": {},
   "source": [
    "## Sentiwordnet\n",
    "\n",
    "More details at: \n",
    "* http://www.nltk.org/howto/sentiwordnet.html\n",
    "* http://sentiwordnet.isti.cnr.it/"
   ]
  },
  {
   "cell_type": "code",
   "execution_count": 32,
   "metadata": {
    "collapsed": false
   },
   "outputs": [
    {
     "name": "stdout",
     "output_type": "stream",
     "text": [
      "[nltk_data] Downloading package sentiwordnet to\n",
      "[nltk_data]     /homed/smishra8/nltk_data...\n",
      "[nltk_data]   Package sentiwordnet is already up-to-date!\n"
     ]
    },
    {
     "data": {
      "text/plain": [
       "True"
      ]
     },
     "execution_count": 32,
     "metadata": {},
     "output_type": "execute_result"
    }
   ],
   "source": [
    "nltk.download(\"sentiwordnet\")"
   ]
  },
  {
   "cell_type": "code",
   "execution_count": 33,
   "metadata": {
    "collapsed": true
   },
   "outputs": [],
   "source": [
    "from nltk.corpus import sentiwordnet as swn"
   ]
  },
  {
   "cell_type": "code",
   "execution_count": 34,
   "metadata": {
    "collapsed": false
   },
   "outputs": [
    {
     "name": "stdout",
     "output_type": "stream",
     "text": [
      "<breakdown.n.03: PosScore=0.0 NegScore=0.25>\n"
     ]
    }
   ],
   "source": [
    "breakdown = swn.senti_synset('breakdown.n.03')\n",
    "print breakdown"
   ]
  },
  {
   "cell_type": "markdown",
   "metadata": {},
   "source": [
    "## POS Tagging"
   ]
  },
  {
   "cell_type": "code",
   "execution_count": 35,
   "metadata": {
    "collapsed": false
   },
   "outputs": [
    {
     "name": "stdout",
     "output_type": "stream",
     "text": [
      "[nltk_data] Downloading package averaged_perceptron_tagger to\n",
      "[nltk_data]     /homed/smishra8/nltk_data...\n",
      "[nltk_data]   Package averaged_perceptron_tagger is already up-to-\n",
      "[nltk_data]       date!\n"
     ]
    },
    {
     "data": {
      "text/plain": [
       "True"
      ]
     },
     "execution_count": 35,
     "metadata": {},
     "output_type": "execute_result"
    }
   ],
   "source": [
    "nltk.download(\"averaged_perceptron_tagger\")"
   ]
  },
  {
   "cell_type": "code",
   "execution_count": 36,
   "metadata": {
    "collapsed": false
   },
   "outputs": [
    {
     "data": {
      "text/plain": [
       "[('And', 'CC'),\n",
       " ('now', 'RB'),\n",
       " ('for', 'IN'),\n",
       " ('something', 'NN'),\n",
       " ('completely', 'RB'),\n",
       " ('different', 'JJ')]"
      ]
     },
     "execution_count": 36,
     "metadata": {},
     "output_type": "execute_result"
    }
   ],
   "source": [
    "text = nltk.word_tokenize(\"And now for something completely different\")\n",
    "nltk.pos_tag(text)\n",
    "    "
   ]
  },
  {
   "cell_type": "markdown",
   "metadata": {},
   "source": [
    "## Named Entity Recognition"
   ]
  },
  {
   "cell_type": "code",
   "execution_count": 37,
   "metadata": {
    "collapsed": false
   },
   "outputs": [
    {
     "name": "stdout",
     "output_type": "stream",
     "text": [
      "[nltk_data] Downloading package maxent_ne_chunker to\n",
      "[nltk_data]     /homed/smishra8/nltk_data...\n",
      "[nltk_data]   Package maxent_ne_chunker is already up-to-date!\n",
      "[nltk_data] Downloading package words to /homed/smishra8/nltk_data...\n",
      "[nltk_data]   Package words is already up-to-date!\n",
      "[nltk_data] Downloading package stopwords to\n",
      "[nltk_data]     /homed/smishra8/nltk_data...\n",
      "[nltk_data]   Package stopwords is already up-to-date!\n"
     ]
    },
    {
     "data": {
      "text/plain": [
       "True"
      ]
     },
     "execution_count": 37,
     "metadata": {},
     "output_type": "execute_result"
    }
   ],
   "source": [
    "nltk.download([\"maxent_ne_chunker\", \"words\", \"stopwords\"])"
   ]
  },
  {
   "cell_type": "code",
   "execution_count": 38,
   "metadata": {
    "collapsed": false
   },
   "outputs": [
    {
     "name": "stdout",
     "output_type": "stream",
     "text": [
      "[('US', 'NNP'), ('president', 'NN'), ('Barack', 'NNP'), ('Obama', 'NNP'), ('signed', 'VBD'), ('a', 'DT'), ('new', 'JJ'), ('treaty', 'NN'), ('with', 'IN'), ('the', 'DT'), ('Indian', 'JJ'), ('prime', 'JJ'), ('minister', 'NN'), ('Narendra', 'NNP'), ('Modi', 'NNP'), (',', ','), ('in', 'IN'), ('New', 'NNP'), ('Delhi', 'NNP'), ('.', '.')]\n"
     ]
    }
   ],
   "source": [
    "text = nltk.word_tokenize(\"US president Barack Obama signed a new treaty with the Indian prime minister Narendra Modi, in New Delhi.\")\n",
    "pos_tags = nltk.pos_tag(text)\n",
    "print pos_tags"
   ]
  },
  {
   "cell_type": "code",
   "execution_count": 39,
   "metadata": {
    "collapsed": false
   },
   "outputs": [
    {
     "name": "stdout",
     "output_type": "stream",
     "text": [
      "(S\n",
      "  (GPE US/NNP)\n",
      "  president/NN\n",
      "  (PERSON Barack/NNP Obama/NNP)\n",
      "  signed/VBD\n",
      "  a/DT\n",
      "  new/JJ\n",
      "  treaty/NN\n",
      "  with/IN\n",
      "  the/DT\n",
      "  (GPE Indian/JJ)\n",
      "  prime/JJ\n",
      "  minister/NN\n",
      "  (PERSON Narendra/NNP Modi/NNP)\n",
      "  ,/,\n",
      "  in/IN\n",
      "  (GPE New/NNP Delhi/NNP)\n",
      "  ./.)\n"
     ]
    }
   ],
   "source": [
    "try:\n",
    "    chunk_tags = nltk.ne_chunk(pos_tags, binary=False)\n",
    "except:\n",
    "    print \"Done\"\n",
    "print chunk_tags"
   ]
  },
  {
   "cell_type": "code",
   "execution_count": null,
   "metadata": {
    "collapsed": true
   },
   "outputs": [],
   "source": []
  }
 ],
 "metadata": {
  "anaconda-cloud": {},
  "kernelspec": {
   "display_name": "Python 2",
   "language": "python",
   "name": "python2"
  },
  "language_info": {
   "codemirror_mode": {
    "name": "ipython",
    "version": 2
   },
   "file_extension": ".py",
   "mimetype": "text/x-python",
   "name": "python",
   "nbconvert_exporter": "python",
   "pygments_lexer": "ipython2",
   "version": "2.7.12"
  }
 },
 "nbformat": 4,
 "nbformat_minor": 1
}
