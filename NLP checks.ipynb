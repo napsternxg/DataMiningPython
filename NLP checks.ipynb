{
 "cells": [
  {
   "cell_type": "code",
   "execution_count": 1,
   "metadata": {
    "collapsed": true
   },
   "outputs": [],
   "source": [
    "%matplotlib inline\n",
    "import numpy as np\n",
    "import pandas as pd\n",
    "\n",
    "import matplotlib.pyplot as plt\n",
    "import seaborn as sns\n",
    "\n",
    "import nltk\n",
    "\n",
    "import gensim\n",
    "import sklearn\n",
    "\"\"\"\n",
    "from gensim import corpora, models, similarities\n",
    "from gensim.utils import smart_open, simple_preprocess\n",
    "from gensim.matutils import corpus2csc\n",
    "from gensim.parsing.preprocessing import STOPWORDS\n",
    "\"\"\"\n",
    "import pyLDAvis\n",
    "pyLDAvis.enable_notebook()\n",
    "import pyLDAvis.gensim"
   ]
  },
  {
   "cell_type": "code",
   "execution_count": 2,
   "metadata": {
    "collapsed": true
   },
   "outputs": [],
   "source": [
    "sns.set_context(\"poster\")\n",
    "sns.set_style(\"ticks\")"
   ]
  },
  {
   "cell_type": "code",
   "execution_count": 3,
   "metadata": {
    "collapsed": false
   },
   "outputs": [
    {
     "name": "stdout",
     "output_type": "stream",
     "text": [
      "Numpy version:  1.11.2\n",
      "Pandas version:  0.19.0\n",
      "Matplotlib version:  1.5.3\n",
      "Seaborn version:  0.7.1\n",
      "Sklearn version:  0.18\n",
      "NLTK version:  3.2.1\n",
      "Gensim version:  0.12.4\n",
      "PyLDAvis version:  2.0.0\n"
     ]
    }
   ],
   "source": [
    "print \"Numpy version: \", np.__version__\n",
    "print \"Pandas version: \", pd.__version__\n",
    "print \"Matplotlib version: \", plt.matplotlib.__version__\n",
    "print \"Seaborn version: \", sns.__version__\n",
    "print \"Sklearn version: \", sklearn.__version__\n",
    "print \"NLTK version: \", nltk.__version__\n",
    "print \"Gensim version: \", gensim.__version__\n",
    "print \"PyLDAvis version: \", pyLDAvis.__version__"
   ]
  },
  {
   "cell_type": "markdown",
   "metadata": {},
   "source": [
    "## NLTK checks\n",
    "\n",
    "More details at: http://www.nltk.org/"
   ]
  },
  {
   "cell_type": "code",
   "execution_count": 4,
   "metadata": {
    "collapsed": false
   },
   "outputs": [
    {
     "name": "stdout",
     "output_type": "stream",
     "text": [
      "[nltk_data] Downloading package movie_reviews to\n",
      "[nltk_data]     /homed/smishra8/nltk_data...\n",
      "[nltk_data]   Package movie_reviews is already up-to-date!\n"
     ]
    },
    {
     "data": {
      "text/plain": [
       "True"
      ]
     },
     "execution_count": 4,
     "metadata": {},
     "output_type": "execute_result"
    }
   ],
   "source": [
    "nltk.download(\"movie_reviews\")"
   ]
  },
  {
   "cell_type": "code",
   "execution_count": 5,
   "metadata": {
    "collapsed": true
   },
   "outputs": [],
   "source": [
    "from nltk.corpus import movie_reviews"
   ]
  },
  {
   "cell_type": "code",
   "execution_count": 6,
   "metadata": {
    "collapsed": false
   },
   "outputs": [
    {
     "data": {
      "text/plain": [
       "[u'neg', u'pos']"
      ]
     },
     "execution_count": 6,
     "metadata": {},
     "output_type": "execute_result"
    }
   ],
   "source": [
    "movie_reviews.categories()"
   ]
  },
  {
   "cell_type": "code",
   "execution_count": 7,
   "metadata": {
    "collapsed": false
   },
   "outputs": [
    {
     "data": {
      "text/plain": [
       "[u'plot', u':', u'two', u'teen', u'couples', u'go', ...]"
      ]
     },
     "execution_count": 7,
     "metadata": {},
     "output_type": "execute_result"
    }
   ],
   "source": [
    "movie_reviews.words()"
   ]
  },
  {
   "cell_type": "code",
   "execution_count": 8,
   "metadata": {
    "collapsed": true
   },
   "outputs": [],
   "source": [
    "sents = movie_reviews.sents()"
   ]
  },
  {
   "cell_type": "code",
   "execution_count": 9,
   "metadata": {
    "collapsed": false
   },
   "outputs": [
    {
     "data": {
      "text/plain": [
       "71532"
      ]
     },
     "execution_count": 9,
     "metadata": {},
     "output_type": "execute_result"
    }
   ],
   "source": [
    "len(sents)"
   ]
  },
  {
   "cell_type": "code",
   "execution_count": 10,
   "metadata": {
    "collapsed": false
   },
   "outputs": [
    {
     "data": {
      "text/plain": [
       "[u'plot',\n",
       " u':',\n",
       " u'two',\n",
       " u'teen',\n",
       " u'couples',\n",
       " u'go',\n",
       " u'to',\n",
       " u'a',\n",
       " u'church',\n",
       " u'party',\n",
       " u',',\n",
       " u'drink',\n",
       " u'and',\n",
       " u'then',\n",
       " u'drive',\n",
       " u'.']"
      ]
     },
     "execution_count": 10,
     "metadata": {},
     "output_type": "execute_result"
    }
   ],
   "source": [
    "sents[0]"
   ]
  },
  {
   "cell_type": "code",
   "execution_count": 11,
   "metadata": {
    "collapsed": false
   },
   "outputs": [
    {
     "name": "stdout",
     "output_type": "stream",
     "text": [
      "S[0]:\tplot : two teen couples go to a church party , drink and then drive .\n",
      "S[1]:\tthey get into an accident .\n",
      "S[2]:\tone of the guys dies , but his girlfriend continues to see him in her life , and has nightmares .\n",
      "S[3]:\twhat ' s the deal ?\n",
      "S[4]:\twatch the movie and \" sorta \" find out .\n",
      "S[5]:\t.\n",
      "S[6]:\t.\n",
      "S[7]:\tcritique : a mind - fuck movie for the teen generation that touches on a very cool idea , but presents it in a very bad package .\n",
      "S[8]:\twhich is what makes this review an even harder one to write , since i generally applaud films which attempt to break the mold , mess with your head and such ( lost highway & memento ) , but there are good and bad ways of making all types of films , and these folks just didn ' t snag this one correctly .\n",
      "S[9]:\tthey seem to have taken this pretty neat concept , but executed it terribly .\n"
     ]
    }
   ],
   "source": [
    "for i, s in enumerate(sents[:10]):\n",
    "    print \"S[%s]:\\t%s\" % (i, \" \".join(s))"
   ]
  },
  {
   "cell_type": "markdown",
   "metadata": {},
   "source": [
    "## Gensim checks\n",
    "More details at: https://radimrehurek.com/gensim/"
   ]
  },
  {
   "cell_type": "code",
   "execution_count": 12,
   "metadata": {
    "collapsed": true
   },
   "outputs": [],
   "source": [
    "bigrams = gensim.models.Phrases(sents[:100])"
   ]
  },
  {
   "cell_type": "code",
   "execution_count": 13,
   "metadata": {
    "collapsed": false
   },
   "outputs": [
    {
     "data": {
      "text/plain": [
       "[('of_making', 1),\n",
       " ('and_most', 1),\n",
       " ('mir_)', 1),\n",
       " ('keeping_score', 1),\n",
       " ('\"_into', 1),\n",
       " ('before_it', 1),\n",
       " ('the_tale', 1),\n",
       " ('they_are', 4),\n",
       " ('i_checked', 1),\n",
       " ('poorly', 2)]"
      ]
     },
     "execution_count": 13,
     "metadata": {},
     "output_type": "execute_result"
    }
   ],
   "source": [
    "bigrams.vocab.items()[0:10]"
   ]
  },
  {
   "cell_type": "code",
   "execution_count": 14,
   "metadata": {
    "collapsed": false
   },
   "outputs": [
    {
     "data": {
      "text/plain": [
       "[(',', 116),\n",
       " ('the', 112),\n",
       " ('.', 86),\n",
       " (\"'\", 67),\n",
       " ('and', 50),\n",
       " ('a', 47),\n",
       " ('of', 46),\n",
       " ('it', 45),\n",
       " (\"'_s\", 40),\n",
       " ('s', 40)]"
      ]
     },
     "execution_count": 14,
     "metadata": {},
     "output_type": "execute_result"
    }
   ],
   "source": [
    "sorted(bigrams.vocab.iteritems(), key=lambda x: x[1], reverse=True)[:10]"
   ]
  },
  {
   "cell_type": "code",
   "execution_count": 15,
   "metadata": {
    "collapsed": true
   },
   "outputs": [],
   "source": [
    "word_frequencies = map(lambda x: x[1], bigrams.vocab.iteritems())"
   ]
  },
  {
   "cell_type": "code",
   "execution_count": 16,
   "metadata": {
    "collapsed": false
   },
   "outputs": [
    {
     "data": {
      "image/png": "[encoded data removed]",
      "text/plain": [
       "<matplotlib.figure.Figure at 0x7f7b3d976a10>"
      ]
     },
     "metadata": {},
     "output_type": "display_data"
    }
   ],
   "source": [
    "plt.hist(word_frequencies, bins=range(0,70000, 1000), log=True)\n",
    "plt.xscale(\"symlog\")"
   ]
  },
  {
   "cell_type": "code",
   "execution_count": 17,
   "metadata": {
    "collapsed": false
   },
   "outputs": [
    {
     "data": {
      "text/plain": [
       "[(\"'_s\", 40),\n",
       " (\"'_t\", 16),\n",
       " (',_and', 13),\n",
       " (',_but', 11),\n",
       " (\"it_'\", 10),\n",
       " ('the_film', 9),\n",
       " ('there_are', 9),\n",
       " ('that_the', 8),\n",
       " ('of_the', 8),\n",
       " ('/_10', 8),\n",
       " ('10_)', 8),\n",
       " (',_it', 8),\n",
       " (')_-', 7),\n",
       " (\"don_'\", 7),\n",
       " (',_there', 6),\n",
       " (')_,', 6),\n",
       " ('with_the', 6),\n",
       " (',_the', 6),\n",
       " ('film_is', 6),\n",
       " ('and_the', 5),\n",
       " ('for_the', 5),\n",
       " ('they_are', 4),\n",
       " ('the_movie', 4),\n",
       " ('the_characters', 4),\n",
       " ('in_a', 4),\n",
       " ('this_film', 4),\n",
       " ('on_the', 4),\n",
       " (',_as', 4),\n",
       " ('most_of', 4),\n",
       " ('of_a', 4)]"
      ]
     },
     "execution_count": 17,
     "metadata": {},
     "output_type": "execute_result"
    }
   ],
   "source": [
    "sorted(filter(lambda x: isinstance(x[0], str) and \"_\" in x[0], \n",
    "        bigrams.vocab.iteritems()), key=lambda x: x[1], reverse=True)[:30]"
   ]
  },
  {
   "cell_type": "code",
   "execution_count": 18,
   "metadata": {
    "collapsed": false
   },
   "outputs": [],
   "source": [
    "corpus = bigrams[sents[:100]]\n",
    "id2word = gensim.corpora.Dictionary(corpus)"
   ]
  },
  {
   "cell_type": "code",
   "execution_count": 19,
   "metadata": {
    "collapsed": false
   },
   "outputs": [
    {
     "data": {
      "text/plain": [
       "804"
      ]
     },
     "execution_count": 19,
     "metadata": {},
     "output_type": "execute_result"
    }
   ],
   "source": [
    "len(id2word.keys())"
   ]
  },
  {
   "cell_type": "code",
   "execution_count": 20,
   "metadata": {
    "collapsed": false
   },
   "outputs": [
    {
     "name": "stdout",
     "output_type": "stream",
     "text": [
      "100\n"
     ]
    }
   ],
   "source": [
    "corpus_processed = [id2word.doc2bow(k) for k in corpus]\n",
    "print len(corpus_processed)"
   ]
  },
  {
   "cell_type": "code",
   "execution_count": 21,
   "metadata": {
    "collapsed": false
   },
   "outputs": [
    {
     "data": {
      "text/plain": [
       "[(0, 1),\n",
       " (1, 1),\n",
       " (2, 1),\n",
       " (3, 1),\n",
       " (4, 1),\n",
       " (5, 1),\n",
       " (6, 1),\n",
       " (7, 1),\n",
       " (8, 1),\n",
       " (9, 1),\n",
       " (10, 1),\n",
       " (11, 1),\n",
       " (12, 1),\n",
       " (13, 1),\n",
       " (14, 1),\n",
       " (15, 1)]"
      ]
     },
     "execution_count": 21,
     "metadata": {},
     "output_type": "execute_result"
    }
   ],
   "source": [
    "corpus_processed[0]"
   ]
  },
  {
   "cell_type": "code",
   "execution_count": 22,
   "metadata": {
    "collapsed": false
   },
   "outputs": [
    {
     "data": {
      "text/plain": [
       "[u'plot',\n",
       " u':',\n",
       " u'two',\n",
       " u'teen',\n",
       " u'couples',\n",
       " u'go',\n",
       " u'to',\n",
       " u'a',\n",
       " u'church',\n",
       " u'party',\n",
       " u',',\n",
       " u'drink',\n",
       " u'and',\n",
       " u'then',\n",
       " u'drive',\n",
       " u'.']"
      ]
     },
     "execution_count": 22,
     "metadata": {},
     "output_type": "execute_result"
    }
   ],
   "source": [
    "corpus[0]"
   ]
  },
  {
   "cell_type": "code",
   "execution_count": 23,
   "metadata": {
    "collapsed": false
   },
   "outputs": [],
   "source": [
    "LDA_model = gensim.models.ldamodel.LdaModel(corpus_processed, num_topics=10, id2word=id2word)"
   ]
  },
  {
   "cell_type": "code",
   "execution_count": 24,
   "metadata": {
    "collapsed": false
   },
   "outputs": [
    {
     "data": {
      "text/plain": [
       "[(0,\n",
       "  u'0.030*to + 0.026*the + 0.025*it + 0.017*. + 0.016*on + 0.015*, + 0.014*that + 0.012*- + 0.010*\" + 0.010*us'),\n",
       " (1,\n",
       "  u'0.039*, + 0.036*. + 0.031*the + 0.025*a + 0.022*to + 0.022*of + 0.020*and + 0.016*is + 0.014*in + 0.013*film'),\n",
       " (2,\n",
       "  u'0.053*, + 0.043*the + 0.022*. + 0.021*it + 0.021*a + 0.020*\\'_s + 0.019*and + 0.018*of + 0.017*\" + 0.014*in'),\n",
       " (3,\n",
       "  u'0.046*. + 0.026*the + 0.022*and + 0.021*\" + 0.018*are + 0.015*, + 0.015*they + 0.014*to + 0.012*as + 0.012*\\'_t'),\n",
       " (4,\n",
       "  u\"0.047*the + 0.046*, + 0.033*. + 0.029*a + 0.024*of + 0.018*- + 0.016*and + 0.015*'_s + 0.013*movie + 0.012*(\"),\n",
       " (5,\n",
       "  u\"0.019*from + 0.017*! + 0.016*, + 0.013*'_s + 0.009*it + 0.009*the + 0.009*coming + 0.009*? + 0.009*where + 0.009*joblo\"),\n",
       " (6,\n",
       "  u'0.013*, + 0.011*it + 0.010*concept + 0.010*. + 0.010*pretty + 0.010*to + 0.010*have + 0.010*seem + 0.010*taken + 0.010*neat'),\n",
       " (7,\n",
       "  u'0.008*to + 0.008*the + 0.007*is + 0.007*of + 0.006*, + 0.005*\" + 0.005*it + 0.004*. + 0.004*an + 0.004*showmanship'),\n",
       " (8,\n",
       "  u\"0.044*, + 0.030*the + 0.027*it + 0.026*and + 0.024*. + 0.016*of + 0.014*is + 0.014*'_s + 0.013*on + 0.013*for\"),\n",
       " (9,\n",
       "  u\"0.054*the + 0.051*, + 0.033*. + 0.028*is + 0.018*and + 0.018*'_s + 0.017*that + 0.016*it + 0.015*- + 0.014*with\")]"
      ]
     },
     "execution_count": 24,
     "metadata": {},
     "output_type": "execute_result"
    }
   ],
   "source": [
    "LDA_model.print_topics()"
   ]
  },
  {
   "cell_type": "code",
   "execution_count": 25,
   "metadata": {
    "collapsed": false
   },
   "outputs": [
    {
     "data": {
      "text/plain": [
       "[(4, 0.94705370792200227)]"
      ]
     },
     "execution_count": 25,
     "metadata": {},
     "output_type": "execute_result"
    }
   ],
   "source": [
    "LDA_model.get_document_topics(corpus_processed[0])"
   ]
  },
  {
   "cell_type": "code",
   "execution_count": 26,
   "metadata": {
    "collapsed": true
   },
   "outputs": [],
   "source": [
    "doc_topics = LDA_model[corpus_processed]"
   ]
  },
  {
   "cell_type": "code",
   "execution_count": 27,
   "metadata": {
    "collapsed": false
   },
   "outputs": [
    {
     "data": {
      "text/plain": [
       "[(0, 0.014285974106823539),\n",
       " (1, 0.014287095451446376),\n",
       " (2, 0.014287482059759993),\n",
       " (3, 0.87141916727490265),\n",
       " (4, 0.014288223663307119),\n",
       " (5, 0.014285724335599888),\n",
       " (6, 0.014286101434451703),\n",
       " (7, 0.014285968846338315),\n",
       " (8, 0.014286409645002111),\n",
       " (9, 0.014287853182368462)]"
      ]
     },
     "execution_count": 27,
     "metadata": {},
     "output_type": "execute_result"
    }
   ],
   "source": [
    "doc_topics[1]"
   ]
  },
  {
   "cell_type": "code",
   "execution_count": 28,
   "metadata": {
    "collapsed": false
   },
   "outputs": [
    {
     "data": {
      "text/html": [
       "\n",
       "<link rel=\"stylesheet\" type=\"text/css\" href=\"https://cdn.rawgit.com/bmabey/pyLDAvis/files/ldavis.v1.0.0.css\">\n",
       "\n",
       "\n",
       "<div id=\"ldavis_el62781401672802080806686625889\"></div>\n",
       "<script type=\"text/javascript\">\n",
       "\n",
       "var ldavis_el62781401672802080806686625889_data = {\"plot.opts\": {\"xlab\": \"PC1\", \"ylab\": \"PC2\"}, \"topic.order\": [10, 5, 3, 4, 2, 9, 1, 6, 7, 8], \"token.table\": {\"Topic\": [6, 8, 1, 2, 3, 4, 5, 6, 7, 1, 1, 2, 3, 4, 5, 7, 1, 2, 3, 4, 5, 6, 7, 1, 2, 3, 4, 5, 6, 1, 2, 3, 4, 5, 6, 7, 1, 2, 3, 4, 5, 7, 1, 2, 3, 4, 5, 6, 7, 8, 1, 2, 3, 4, 5, 6, 7, 3, 4, 7, 1, 2, 3, 4, 5, 6, 7, 1, 2, 1, 2, 1, 2, 2, 1, 2, 3, 4, 5, 7, 1, 2, 3, 4, 5, 6, 7, 2, 4, 5, 7, 1, 2, 3, 4, 5, 6, 7, 5, 1, 2, 3, 4, 5, 1, 2, 3, 4, 5, 6, 7, 1, 2, 1, 2, 2, 1, 1, 2, 4, 5, 3, 6, 1, 2, 3, 4, 6, 2, 4, 2, 3, 7, 3, 2, 2, 3, 3, 5, 1, 2, 4, 5, 7, 5, 6, 5, 3, 4, 7, 5, 3, 6, 2, 4, 6, 1, 2, 3, 5, 6, 7, 1, 6, 1, 5, 6, 3, 4, 1, 4, 5, 2, 4, 6, 7, 3, 4, 4, 5, 1, 2, 2, 2, 1, 1, 7, 7, 6, 1, 6, 5, 1, 6, 3, 1, 2, 3, 3, 3, 2, 2, 6, 5, 7, 4, 2, 1, 2, 5, 3, 4, 5, 6, 1, 3, 4, 5, 3, 3, 2, 2, 4, 5, 2, 6, 3, 6, 3, 1, 4, 6, 3, 4, 2, 5, 1, 2, 3, 4, 6, 5, 7, 4, 5, 6, 5, 2, 6, 3, 2, 5, 7, 5, 6, 1, 2, 3, 5, 6, 1, 2, 7, 7, 6, 3, 4, 7, 1, 2, 4, 5, 6, 1, 2, 3, 4, 8, 2, 2, 1, 1, 2, 4, 5, 5, 7, 2, 3, 6, 3, 7, 5, 1, 3, 2, 7, 1, 2, 3, 5, 7, 3, 4, 5, 1, 4, 5, 3, 7, 5, 5, 1, 3, 5, 1, 2, 4, 1, 1, 4, 5, 6, 1, 2, 3, 5, 4, 1, 2, 3, 5, 7, 2, 7, 7, 7, 1, 2, 3, 4, 6, 1, 2, 3, 4, 5, 6, 7, 1, 2, 3, 4, 5, 6, 7, 1, 3, 4, 6, 7, 1, 1, 3, 5, 1, 1, 1, 3, 4, 1, 4, 2, 3, 4, 1, 2, 3, 5, 1, 2, 3, 4, 5, 6, 2, 4, 2, 7, 1, 2, 1, 2, 4, 4, 1, 2, 3, 6, 1, 1, 3, 4, 1, 1, 7, 2, 5, 1, 7, 2, 3, 4, 5, 6, 2, 1, 2, 3, 6, 1, 2, 4, 6, 4, 4, 5, 4, 5, 5, 5, 1, 3, 5, 2, 3, 6, 3, 1, 2, 4, 5, 6, 5, 7, 1, 2, 3, 4, 5, 6, 7, 3, 2, 4, 1, 2, 1, 2, 3, 5, 6, 7, 1, 2, 5, 7, 1, 2, 5, 2, 2, 2, 3, 5, 3, 3, 5, 6, 5, 1, 5, 4, 1, 2, 5, 6, 1, 7, 2, 5, 1, 5, 6, 1, 5, 6, 1, 2, 6, 4, 2, 3, 1, 6, 5, 1, 4, 5, 7, 2, 4, 4, 7, 5, 7, 2, 5, 7, 6, 7, 2, 3, 4, 1, 2, 7, 2, 1, 2, 4, 4, 7, 1, 1, 1, 2, 3, 6, 6, 1, 6, 7, 1, 3, 2, 6, 1, 2, 6, 4, 3, 2, 3, 7, 6, 1, 4, 3, 5, 1, 2, 3, 1, 7, 1, 1, 2, 3, 4, 5, 6, 7, 1, 2, 3, 4, 5, 6, 7, 3, 1, 2, 4, 2, 3, 4, 2, 3, 4, 1, 2, 3, 4, 5, 6, 7, 4, 4, 3, 3, 5, 3, 1, 2, 3, 4, 5, 6, 7, 2, 1, 3, 1, 2, 1, 2, 7, 4, 5, 7, 3, 4, 5, 2, 7, 1, 3, 2, 6, 7, 5, 1, 2, 1, 2, 3, 4, 5, 2, 5, 1, 2, 3, 5, 1, 2, 3, 5, 1, 2, 4, 5, 3, 3, 1, 3, 4, 6, 4, 6, 2, 7, 1, 4, 6, 7, 2, 3, 4, 5, 7, 1, 1, 2, 4], \"Freq\": [0.528943819583399, 0.528943819583399, 0.2925637259497631, 0.0835896359856466, 0.2089740899641165, 0.2089740899641165, 0.0417948179928233, 0.0835896359856466, 0.0417948179928233, 0.7201432568795073, 0.4225632383171282, 0.10564080957928206, 0.10564080957928206, 0.2112816191585641, 0.10564080957928206, 0.10564080957928206, 0.3097355124850045, 0.2477884099880036, 0.18584130749100272, 0.03097355124850045, 0.09292065374550136, 0.0619471024970009, 0.03097355124850045, 0.15179747911782998, 0.15179747911782998, 0.22769621867674497, 0.22769621867674497, 0.07589873955891499, 0.15179747911782998, 0.32064993841780054, 0.32064993841780054, 0.10688331280593351, 0.10688331280593351, 0.053441656402966754, 0.053441656402966754, 0.053441656402966754, 0.3360988534869711, 0.3360988534869711, 0.11203295116232372, 0.11203295116232372, 0.05601647558116186, 0.05601647558116186, 0.32198579566372026, 0.2361229168200615, 0.18245861754277481, 0.042931439421829365, 0.10732859855457341, 0.08586287884365873, 0.021465719710914682, 0.010732859855457341, 0.3816820007565889, 0.3816820007565889, 0.0848182223903531, 0.04240911119517655, 0.04240911119517655, 0.04240911119517655, 0.0848182223903531, 0.20272154461632627, 0.40544308923265254, 0.20272154461632627, 0.2765700810681625, 0.23290112089950527, 0.10189424039353355, 0.16011952061840987, 0.1310068805059717, 0.058225280224876316, 0.029112640112438158, 0.26500140024691843, 0.6625035006172961, 0.42830688201194234, 0.42830688201194234, 0.42899417933886597, 0.42899417933886597, 0.6287111215857065, 0.12422130199216347, 0.3726639059764904, 0.12422130199216347, 0.24844260398432694, 0.12422130199216347, 0.12422130199216347, 0.18185102583245333, 0.36370205166490666, 0.15587230785638856, 0.07793615392819428, 0.15587230785638856, 0.05195743595212952, 0.02597871797606476, 0.5687989714949829, 0.7278879598467544, 0.4995895167213838, 0.8174247636757332, 0.11820122319377992, 0.35460366958133976, 0.11820122319377992, 0.11820122319377992, 0.11820122319377992, 0.23640244638755983, 0.8174250407723607, 0.7805875161471098, 0.37923473864308715, 0.25282315909539144, 0.12641157954769572, 0.12641157954769572, 0.12641157954769572, 0.2484706107448931, 0.19877648859591449, 0.14908236644693587, 0.12423530537244655, 0.12423530537244655, 0.12423530537244655, 0.02484706107448931, 0.6710611884200222, 0.686637339159654, 0.5169501951143849, 0.5107803329777438, 0.6992164437889075, 0.6710611024879344, 0.10094130587392922, 0.20188261174785843, 0.40376522349571686, 0.10094130587392922, 0.64962551088146, 0.776248919716014, 0.10657693522405763, 0.21315387044811526, 0.10657693522405763, 0.3197308056721729, 0.10657693522405763, 0.43432686097159334, 0.43432686097159334, 0.2249727335298697, 0.2249727335298697, 0.2249727335298697, 0.5714114544957357, 0.6866379576855928, 0.4509446534159449, 0.4509446534159449, 0.3630933624645124, 0.7261867249290248, 0.15013998387379726, 0.15013998387379726, 0.3002799677475945, 0.15013998387379726, 0.15013998387379726, 0.7805873830431185, 0.5082368260758376, 0.7805874830037479, 0.357206426972407, 0.357206426972407, 0.357206426972407, 0.4961185789411849, 0.6956202408614099, 0.7762496401978762, 0.6866378725035759, 0.7866619723075168, 0.7502448744793802, 0.35402355946637476, 0.26551766959978107, 0.08850588986659369, 0.17701177973318738, 0.08850588986659369, 0.08850588986659369, 0.4634475808043846, 0.4634475808043846, 0.36433541068403497, 0.36433541068403497, 0.36433541068403497, 0.6956206735746727, 0.7278895892556174, 0.8606972469662109, 0.7319144953608635, 0.5091915046687766, 0.2397126965788983, 0.2397126965788983, 0.2397126965788983, 0.2397126965788983, 0.6956203652247565, 0.7278868566704321, 0.7278880398497131, 0.8586328965254268, 0.6710609674208432, 0.686637558748878, 0.6866379115671727, 0.5846927450067234, 0.6710612377590147, 0.6710609083144572, 0.8174248754734812, 0.8839095225710663, 0.7725408832094072, 0.6710611145257497, 0.776248956422502, 0.7738797161540543, 0.7256870022825392, 0.7732308770928077, 0.4577884500883031, 0.42899610019427237, 0.42899610019427237, 0.6956203819976265, 0.6956207420088323, 0.6956207010167896, 0.686638017263756, 0.6828363613738577, 0.34141818068692886, 0.7709166000469679, 0.8756920697205028, 0.7314326412570562, 0.6998489076166167, 0.34723476831426625, 0.34723476831426625, 0.34723476831426625, 0.2722540929483375, 0.2722540929483375, 0.2722540929483375, 0.3614663600964042, 0.14701973110305436, 0.2940394622061087, 0.2940394622061087, 0.14701973110305436, 0.7121833383958761, 0.6963072057158877, 0.7062536560644547, 0.6866380856895458, 0.7278848924862928, 0.8591390629206077, 0.6866373769586946, 0.7434474253803118, 0.6956214802988713, 0.7736162889156498, 0.6956211624246282, 0.32823331628294594, 0.32823331628294594, 0.7737139305005855, 0.4519347569561906, 0.7324598510961462, 0.6866379575752991, 0.8653436526639445, 0.1190877923584037, 0.2381755847168074, 0.1190877923584037, 0.2381755847168074, 0.1190877923584037, 0.5617537408733884, 0.5617537408733884, 0.7278857940508444, 0.7805874355727176, 0.7729161930129017, 0.8550101109396876, 0.7045945611137646, 0.7735991729236295, 0.6963663520860253, 0.686637859240338, 0.5148487788996592, 0.5148487788996592, 0.7801597850636179, 0.4871468464005298, 0.24140833398404732, 0.24140833398404732, 0.0804694446613491, 0.24140833398404732, 0.0804694446613491, 0.647235957012851, 0.3236179785064255, 0.8174248954665745, 0.8174249725549985, 0.7477899035289703, 0.7222388562979611, 0.5243437938250979, 0.5243437938250979, 0.29728948980559017, 0.19819299320372677, 0.19819299320372677, 0.09909649660186338, 0.19819299320372677, 0.2372487983386515, 0.2372487983386515, 0.2372487983386515, 0.11862439916932575, 0.11862439916932575, 0.686637711740291, 0.6866382447689489, 0.6710609024138389, 0.7301707101412092, 0.2724312913115405, 0.544862582623081, 0.2724312913115405, 0.7712874012340725, 0.5479335580353435, 0.265157278720225, 0.265157278720225, 0.265157278720225, 0.49183706543154804, 0.49183706543154804, 0.7694408802325469, 0.6211371805429341, 0.31056859027146705, 0.6992191502223628, 0.8174245963648266, 0.722237400081275, 0.23483434599393624, 0.23483434599393624, 0.4696686919878725, 0.23483434599393624, 0.39265165877397074, 0.3638171932159618, 0.3638171932159618, 0.39865975243509993, 0.1328865841450333, 0.39865975243509993, 0.6956206806547972, 0.541213789261513, 0.8540416069269625, 0.7701454374177281, 0.6710611086744681, 0.7085310779806732, 0.7802740504592308, 0.6710613538974435, 0.8684517193521217, 0.7278857492122042, 0.6710610668662189, 0.2583446092938591, 0.2583446092938591, 0.2583446092938591, 0.12917230464692955, 0.21740167733396673, 0.43480335466793346, 0.21740167733396673, 0.21740167733396673, 0.7278861697557267, 0.2622403191120076, 0.19668023933400572, 0.2622403191120076, 0.19668023933400572, 0.8174248606184417, 0.6866381281272165, 0.8814222317173777, 0.8174247887266083, 0.8825925826631261, 0.15867939813230328, 0.31735879626460656, 0.15867939813230328, 0.15867939813230328, 0.15867939813230328, 0.5341407008631839, 0.13353517521579597, 0.03338379380394899, 0.03338379380394899, 0.13353517521579597, 0.10015138141184698, 0.03338379380394899, 0.2592154415585301, 0.1728102943723534, 0.20161201010107896, 0.057603431457451136, 0.0864051471861767, 0.14400857864362784, 0.0864051471861767, 0.3786591843268936, 0.1893295921634468, 0.1893295921634468, 0.1893295921634468, 0.1893295921634468, 0.6710611913861978, 0.3540616458837947, 0.3540616458837947, 0.17703082294189734, 0.6710608554788318, 0.6710606751711473, 0.5003271473584501, 0.25016357367922504, 0.7278848959923053, 0.6710611765409467, 0.7278852243041333, 0.1851248552661203, 0.3702497105322406, 0.3702497105322406, 0.42457170144240386, 0.6866378796332889, 0.6956211371829205, 0.7704419546812445, 0.10676055984142924, 0.42704223936571695, 0.10676055984142924, 0.10676055984142924, 0.10676055984142924, 0.10676055984142924, 0.44434017386874247, 0.49028508495245193, 0.6866378447635374, 0.8174248281776725, 0.43187195679588164, 0.43187195679588164, 0.6710610974051661, 0.7042024784815295, 0.7319698902534907, 0.727884976094801, 0.31670647317759193, 0.15835323658879596, 0.15835323658879596, 0.15835323658879596, 0.7208959466589537, 0.7169743215474434, 0.6956224917704269, 0.7278850037337007, 0.8398619638298637, 0.41394987720236553, 0.41394987720236553, 0.49630897961869086, 0.49630897961869086, 0.8447090413500455, 0.8803956768243225, 0.1703611432954156, 0.1703611432954156, 0.3407222865908312, 0.1703611432954156, 0.1703611432954156, 0.686637725233434, 0.27091634745054194, 0.5418326949010839, 0.09030544915018064, 0.09030544915018064, 0.46176242625428915, 0.45057608241484864, 0.22528804120742432, 0.22528804120742432, 0.7322294091663185, 0.36190622900855757, 0.36190622900855757, 0.7278849557199819, 0.7805885012351378, 0.7805875936990933, 0.7805873582790717, 0.6211370934994701, 0.31056854674973505, 0.7713630471252809, 0.26897727986373565, 0.26897727986373565, 0.26897727986373565, 0.6965557853227303, 0.4195503041747598, 0.2797002027831732, 0.1398501013915866, 0.1398501013915866, 0.1398501013915866, 0.48964915868126757, 0.8174248114075499, 0.216381021797063, 0.3245715326955945, 0.16228576634779726, 0.05409525544926575, 0.1352381386231644, 0.08114288317389863, 0.027047627724632876, 0.6965262667190065, 0.6866379999981449, 0.7278874620869239, 0.6710612846300619, 0.6866378720622301, 0.13871617776932352, 0.27743235553864704, 0.20807426665398526, 0.06935808888466176, 0.13871617776932352, 0.13871617776932352, 0.39080126622311023, 0.26053417748207347, 0.26053417748207347, 0.13026708874103674, 0.6292057013298284, 0.20973523377660946, 0.20973523377660946, 0.6866378179821832, 0.3422610794094736, 0.4985805506619648, 0.16619351688732162, 0.16619351688732162, 0.6956201268503015, 0.23865677153545717, 0.7159703146063715, 0.7735970203639897, 0.7802309780486921, 0.6710609026512759, 0.7805874705619967, 0.7278848268624692, 0.18484407596079064, 0.18484407596079064, 0.18484407596079064, 0.3696881519215813, 0.674757321975506, 0.337378660987753, 0.6866381740121839, 0.8537653621853286, 0.30581052506267137, 0.30581052506267137, 0.30581052506267137, 0.6710611700227321, 0.8624664930293158, 0.7725046553540019, 0.6710612047526596, 0.686637852918201, 0.7732078693523151, 0.7278890813653985, 0.4367503634493024, 0.4367503634493024, 0.6710610330962634, 0.7732533489759881, 0.6314703971989968, 0.27631624614643224, 0.27631624614643224, 0.27631624614643224, 0.8868721173677063, 0.6558672383712899, 0.32793361918564495, 0.7278848439155706, 0.5278312678686453, 0.6344187434511309, 0.31720937172556546, 0.5577560408134167, 0.7805875318892768, 0.8174248919017378, 0.7452691198967809, 0.8174248693500153, 0.32814211926977116, 0.32814211926977116, 0.7662588764570487, 0.18511415650366067, 0.37022831300732134, 0.18511415650366067, 0.6866381587052267, 0.6248830690281296, 0.3124415345140648, 0.73238799946675, 0.7278868822199475, 0.8174249988477146, 0.6710611690776239, 0.7227427747115309, 0.1842620406176713, 0.3685240812353426, 0.1842620406176713, 0.1842620406176713, 0.7762493092961533, 0.6710605883953753, 0.7762495997598295, 0.817424988091137, 0.8467906385761266, 0.6968604004050523, 0.6866376309428883, 0.7739103705201933, 0.3331448870059794, 0.3331448870059794, 0.3331448870059794, 0.7278862977076986, 0.44672418362947425, 0.7030346338394324, 0.6956204617546321, 0.8874923892699259, 0.7468792898182524, 0.7124569260176747, 0.7278858750908458, 0.4850117158260812, 0.4850117158260812, 0.516596148516074, 0.34439743234404935, 0.17219871617202467, 0.8428808263161981, 0.8174249651065837, 0.6710611648792331, 0.35219497752685436, 0.17609748876342718, 0.14087799101074175, 0.07043899550537087, 0.1056584932580563, 0.07043899550537087, 0.07043899550537087, 0.3506033018695776, 0.2519961232187589, 0.14243259138451592, 0.0657381191005458, 0.0876508254673944, 0.0657381191005458, 0.0328690595502729, 0.6918062338337099, 0.1277876715729295, 0.6389383578646475, 0.1277876715729295, 0.2234655321180511, 0.2234655321180511, 0.4469310642361022, 0.3299625506323042, 0.3299625506323042, 0.3299625506323042, 0.22413058746861328, 0.0747101958228711, 0.22413058746861328, 0.1494203916457422, 0.1494203916457422, 0.1494203916457422, 0.0747101958228711, 0.7278851062283068, 0.9403286577330474, 0.6956210814980979, 0.4206342840847232, 0.4206342840847232, 0.6956218483308371, 0.2861171996716955, 0.14305859983584776, 0.03576464995896194, 0.10729394987688581, 0.17882324979480968, 0.07152929991792388, 0.14305859983584776, 0.7018014009720548, 0.8398625068502736, 0.44570900379901957, 0.6710609559648122, 0.6866379375338704, 0.27004676564841495, 0.27004676564841495, 0.27004676564841495, 0.773308674779228, 0.7802834797921943, 0.8174247717372127, 0.44196058010670836, 0.22098029005335418, 0.22098029005335418, 0.3696775512088286, 0.3696775512088286, 0.6363894088980725, 0.31819470444903625, 0.6547894544706142, 0.3273947272353071, 0.8174251008588321, 0.7805877340682797, 0.6101678715156476, 0.20338929050521587, 0.1303903671609958, 0.1303903671609958, 0.39117110148298745, 0.2607807343219916, 0.1303903671609958, 0.6999029053939775, 0.7805875159877388, 0.4166122906317227, 0.20830614531586136, 0.4166122906317227, 0.780593544405253, 0.32254189589544785, 0.16127094794772392, 0.16127094794772392, 0.16127094794772392, 0.22002998519145184, 0.22002998519145184, 0.4400599703829037, 0.22002998519145184, 0.4578517688510155, 0.6956208310320112, 0.6107841047335041, 0.07634801309168801, 0.15269602618337602, 0.07634801309168801, 0.7278874808615416, 0.7762492235639832, 0.6866375165340549, 0.817424885135702, 0.7125900072728598, 0.7278857160551091, 0.7762487589199188, 0.817425144826488, 0.4020073923901377, 0.1340024641300459, 0.1340024641300459, 0.1340024641300459, 0.1340024641300459, 0.6710608242944586, 0.33885094130176197, 0.33885094130176197, 0.33885094130176197], \"Term\": [\"!\", \"!\", \"\\\"\", \"\\\"\", \"\\\"\", \"\\\"\", \"\\\"\", \"\\\"\", \"\\\"\", \"&\", \"'\", \"'\", \"'\", \"'\", \"'\", \"'\", \"'_s\", \"'_s\", \"'_s\", \"'_s\", \"'_s\", \"'_s\", \"'_s\", \"'_t\", \"'_t\", \"'_t\", \"'_t\", \"'_t\", \"'_t\", \"(\", \"(\", \"(\", \"(\", \"(\", \"(\", \"(\", \")\", \")\", \")\", \")\", \")\", \")\", \",\", \",\", \",\", \",\", \",\", \",\", \",\", \",\", \"-\", \"-\", \"-\", \"-\", \"-\", \"-\", \"-\", \"--\", \"--\", \"--\", \".\", \".\", \".\", \".\", \".\", \".\", \".\", \"/_10\", \"/_10\", \"10\", \"10\", \"9\", \"9\", \":\", \"?\", \"?\", \"?\", \"?\", \"?\", \"?\", \"a\", \"a\", \"a\", \"a\", \"a\", \"a\", \"a\", \"about\", \"accident\", \"again\", \"ago\", \"all\", \"all\", \"all\", \"all\", \"all\", \"all\", \"also\", \"although\", \"an\", \"an\", \"an\", \"an\", \"an\", \"and\", \"and\", \"and\", \"and\", \"and\", \"and\", \"and\", \"angry\", \"animated\", \"animation\", \"any\", \"apparitions\", \"appears\", \"are\", \"are\", \"are\", \"are\", \"around\", \"arrival\", \"as\", \"as\", \"as\", \"as\", \"as\", \"at\", \"at\", \"audience\", \"audience\", \"audience\", \"away\", \"awfully\", \"back\", \"back\", \"baldwin\", \"baldwin\", \"be\", \"be\", \"be\", \"be\", \"be\", \"beauty\", \"before\", \"bentley\", \"big\", \"big\", \"big\", \"biggest\", \"blowing\", \"bordering\", \"bored\", \"bottom\", \"bringing\", \"but\", \"but\", \"but\", \"but\", \"but\", \"but\", \"came\", \"came\", \"camelot\", \"camelot\", \"camelot\", \"car\", \"case\", \"cast\", \"celine\", \"character\", \"characters\", \"characters\", \"characters\", \"characters\", \"chases\", \"chasing\", \"clich\", \"climb\", \"clothes\", \"clout\", \"comedy\", \"coming\", \"compare\", \"complete\", \"completely\", \"computerized\", \"confusing\", \"content\", \"contest\", \"continues\", \"correctly\", \"craziness\", \"crew\", \"crow\", \"crow\", \"cute\", \"cuts\", \"dane\", \"danes\", \"dead\", \"dead\", \"dies\", \"differentiates\", \"dion\", \"disappearances\", \"disney\", \"disney\", \"disney\", \"do\", \"do\", \"do\", \"doesn\", \"don\", \"don\", \"don\", \"don\", \"donald\", \"downshifts\", \"dreams\", \"drive\", \"dull\", \"element\", \"empire\", \"empty\", \"end\", \"ending\", \"engaging\", \"enough\", \"enough\", \"entertain\", \"entertaining\", \"enthusiastic\", \"epps\", \"essential\", \"even\", \"even\", \"even\", \"even\", \"even\", \"ever\", \"ever\", \"evidence\", \"exact\", \"excites\", \"expected\", \"explained\", \"explanation\", \"fantasy\", \"feature\", \"fed\", \"fed\", \"feeling\", \"feels\", \"film\", \"film\", \"film\", \"film\", \"film\", \"films\", \"films\", \"final\", \"five\", \"flash\", \"flashy\", \"footage\", \"footage\", \"for\", \"for\", \"for\", \"for\", \"for\", \"from\", \"from\", \"from\", \"from\", \"from\", \"fully\", \"further\", \"geared\", \"generally\", \"get\", \"get\", \"get\", \"girlfriend\", \"given\", \"going\", \"going\", \"going\", \"got\", \"got\", \"guys\", \"hair\", \"hair\", \"happen\", \"hard\", \"harder\", \"has\", \"has\", \"has\", \"has\", \"have\", \"he\", \"he\", \"her\", \"her\", \"her\", \"hey\", \"hide\", \"high\", \"him\", \"hip\", \"hit\", \"holds\", \"hot\", \"hour\", \"however\", \"hydra\", \"i\", \"i\", \"i\", \"i\", \"if\", \"if\", \"if\", \"if\", \"immediately\", \"in\", \"in\", \"in\", \"in\", \"information\", \"insight\", \"instantly\", \"instead\", \"integrated\", \"into\", \"into\", \"into\", \"into\", \"into\", \"is\", \"is\", \"is\", \"is\", \"is\", \"is\", \"is\", \"it\", \"it\", \"it\", \"it\", \"it\", \"it\", \"it\", \"its\", \"its\", \"its\", \"its\", \"its\", \"jaded\", \"just\", \"just\", \"just\", \"justify\", \"juvenile\", \"kayley\", \"kayley\", \"keeping\", \"kids\", \"kingdom\", \"know\", \"know\", \"know\", \"late\", \"length\", \"let\", \"life\", \"like\", \"like\", \"like\", \"like\", \"like\", \"like\", \"likely\", \"line\", \"lines\", \"literally\", \"look\", \"look\", \"looking\", \"looooot\", \"loss\", \"magic\", \"make\", \"make\", \"make\", \"make\", \"makes\", \"making\", \"meantime\", \"mediocre\", \"mindset\", \"minutes\", \"minutes\", \"missing\", \"missing\", \"mod\", \"morning\", \"most\", \"most\", \"most\", \"most\", \"most\", \"mouse\", \"movie\", \"movie\", \"movie\", \"movie\", \"movies\", \"much\", \"much\", \"much\", \"musical\", \"my\", \"my\", \"nearly\", \"need\", \"neighborhood\", \"new\", \"nice\", \"nice\", \"nightmares\", \"no\", \"no\", \"no\", \"normal\", \"not\", \"not\", \"not\", \"not\", \"not\", \"now\", \"obviously\", \"of\", \"of\", \"of\", \"of\", \"of\", \"of\", \"of\", \"off\", \"offering\", \"okay\", \"older\", \"omar\", \"on\", \"on\", \"on\", \"on\", \"on\", \"on\", \"one\", \"one\", \"one\", \"one\", \"only\", \"only\", \"only\", \"onto\", \"others\", \"out\", \"out\", \"out\", \"outfits\", \"over\", \"over\", \"overall\", \"own\", \"packaged\", \"playing\", \"pocahontas\", \"pretty\", \"pretty\", \"pretty\", \"pretty\", \"production\", \"production\", \"pulse\", \"pure\", \"quest\", \"quest\", \"quest\", \"r\", \"ranks\", \"rarely\", \"rating\", \"reason\", \"redundant\", \"rest\", \"robots\", \"robots\", \"run\", \"runtime\", \"sagemiller\", \"same\", \"same\", \"same\", \"saturday\", \"scenes\", \"scenes\", \"score\", \"secret\", \"see\", \"see\", \"seem\", \"seemed\", \"seems\", \"sequences\", \"shelves\", \"ship\", \"ship\", \"should\", \"show\", \"show\", \"show\", \"signs\", \"simply\", \"simply\", \"singers\", \"single\", \"sitting\", \"slick\", \"snag\", \"so\", \"so\", \"so\", \"so\", \"sometimes\", \"soundtrack\", \"spectacular\", \"spoon\", \"squad\", \"starts\", \"steal\", \"stick\", \"still\", \"still\", \"still\", \"stolen\", \"story\", \"strange\", \"stuff\", \"subpar\", \"substance\", \"such\", \"suspicion\", \"sutherland\", \"sutherland\", \"teen\", \"teen\", \"teen\", \"teenage\", \"telling\", \"thankful\", \"that\", \"that\", \"that\", \"that\", \"that\", \"that\", \"that\", \"the\", \"the\", \"the\", \"the\", \"the\", \"the\", \"the\", \"themselves\", \"there_are\", \"there_are\", \"there_are\", \"they\", \"they\", \"they\", \"things\", \"things\", \"things\", \"this\", \"this\", \"this\", \"this\", \"this\", \"this\", \"this\", \"those\", \"though\", \"thrilling\", \"throughout\", \"throughout\", \"tie\", \"to\", \"to\", \"to\", \"to\", \"to\", \"to\", \"to\", \"tons\", \"too\", \"took\", \"towards\", \"transfers\", \"two\", \"two\", \"two\", \"understanding\", \"unraveling\", \"until\", \"up\", \"up\", \"up\", \"us\", \"us\", \"ve\", \"ve\", \"very\", \"very\", \"want\", \"wasted\", \"way\", \"way\", \"we\", \"we\", \"we\", \"we\", \"we\", \"weird\", \"wes\", \"what\", \"what\", \"what\", \"whatever\", \"which\", \"which\", \"which\", \"which\", \"who\", \"who\", \"who\", \"who\", \"why\", \"win\", \"with\", \"with\", \"with\", \"with\", \"within\", \"wooden\", \"worried\", \"wrapped\", \"write\", \"wrong\", \"year\", \"years\", \"you\", \"you\", \"you\", \"you\", \"you\", \"young\", \"your\", \"your\", \"your\"]}, \"mdsDat\": {\"y\": [-0.03718558184784356, -0.041623136552717294, -0.011712946540141671, 0.13570431732127822, 0.004741593537450945, 0.007276766148149353, 0.008167549398232731, -0.042601377623204525, -0.016310938470459523, -0.0064562453707446826], \"cluster\": [1, 1, 1, 1, 1, 1, 1, 1, 1, 1], \"Freq\": [25.910044194314725, 21.706515072909443, 13.736767993568833, 10.950379345524478, 10.75502824200124, 8.161868393177306, 5.689250505033656, 1.6782228202016052, 1.018043394123311, 0.393880039145409], \"topics\": [1, 2, 3, 4, 5, 6, 7, 8, 9, 10], \"x\": [0.06298422156772318, 0.08109913110243762, 0.06865477163501647, 0.002042887699108598, 0.05329090267116932, 0.03143716975153041, -0.04960092027016674, -0.1040048735678388, -0.08072915228018893, -0.06517413830879071]}, \"R\": 30, \"lambda.step\": 0.01, \"tinfo\": {\"Category\": [\"Default\", \"Default\", \"Default\", \"Default\", \"Default\", \"Default\", \"Default\", \"Default\", \"Default\", \"Default\", \"Default\", \"Default\", \"Default\", \"Default\", \"Default\", \"Default\", \"Default\", \"Default\", \"Default\", \"Default\", \"Default\", \"Default\", \"Default\", \"Default\", \"Default\", \"Default\", \"Default\", \"Default\", \"Default\", \"Default\", \"Topic1\", \"Topic1\", \"Topic1\", \"Topic1\", \"Topic1\", \"Topic1\", \"Topic1\", \"Topic1\", \"Topic1\", \"Topic1\", \"Topic1\", \"Topic1\", \"Topic1\", \"Topic1\", \"Topic1\", \"Topic1\", \"Topic1\", \"Topic1\", \"Topic1\", \"Topic1\", \"Topic1\", \"Topic1\", \"Topic1\", \"Topic1\", \"Topic1\", \"Topic1\", \"Topic1\", \"Topic1\", \"Topic1\", \"Topic1\", \"Topic1\", \"Topic1\", \"Topic1\", \"Topic1\", \"Topic1\", \"Topic1\", \"Topic1\", \"Topic1\", \"Topic1\", \"Topic1\", \"Topic1\", \"Topic1\", \"Topic1\", \"Topic1\", \"Topic1\", \"Topic1\", \"Topic1\", \"Topic1\", \"Topic1\", \"Topic1\", \"Topic1\", \"Topic1\", \"Topic1\", \"Topic1\", \"Topic1\", \"Topic1\", \"Topic1\", \"Topic1\", \"Topic1\", \"Topic1\", \"Topic1\", \"Topic1\", \"Topic1\", \"Topic1\", \"Topic1\", \"Topic1\", \"Topic1\", \"Topic1\", \"Topic1\", \"Topic1\", \"Topic2\", \"Topic2\", \"Topic2\", \"Topic2\", \"Topic2\", \"Topic2\", \"Topic2\", \"Topic2\", \"Topic2\", \"Topic2\", \"Topic2\", \"Topic2\", \"Topic2\", \"Topic2\", \"Topic2\", \"Topic2\", \"Topic2\", \"Topic2\", \"Topic2\", \"Topic2\", \"Topic2\", \"Topic2\", \"Topic2\", \"Topic2\", \"Topic2\", \"Topic2\", \"Topic2\", \"Topic2\", \"Topic2\", \"Topic2\", \"Topic2\", \"Topic2\", \"Topic2\", \"Topic2\", \"Topic2\", \"Topic2\", \"Topic2\", \"Topic2\", \"Topic2\", \"Topic2\", \"Topic2\", \"Topic2\", \"Topic2\", \"Topic2\", \"Topic2\", \"Topic2\", \"Topic2\", \"Topic2\", \"Topic2\", \"Topic2\", \"Topic2\", \"Topic2\", \"Topic2\", \"Topic2\", \"Topic2\", \"Topic2\", \"Topic2\", \"Topic2\", \"Topic2\", \"Topic2\", \"Topic2\", \"Topic2\", \"Topic2\", \"Topic2\", \"Topic2\", \"Topic2\", \"Topic3\", \"Topic3\", \"Topic3\", \"Topic3\", \"Topic3\", \"Topic3\", \"Topic3\", \"Topic3\", \"Topic3\", \"Topic3\", \"Topic3\", \"Topic3\", \"Topic3\", \"Topic3\", \"Topic3\", \"Topic3\", \"Topic3\", \"Topic3\", \"Topic3\", \"Topic3\", \"Topic3\", \"Topic3\", \"Topic3\", \"Topic3\", \"Topic3\", \"Topic3\", \"Topic3\", \"Topic3\", \"Topic3\", \"Topic3\", \"Topic3\", \"Topic3\", \"Topic3\", \"Topic3\", \"Topic3\", \"Topic3\", \"Topic3\", \"Topic3\", \"Topic3\", \"Topic3\", \"Topic3\", \"Topic3\", \"Topic3\", \"Topic3\", \"Topic3\", \"Topic3\", \"Topic3\", \"Topic3\", \"Topic3\", \"Topic3\", \"Topic3\", \"Topic3\", \"Topic3\", \"Topic3\", \"Topic3\", \"Topic3\", \"Topic3\", \"Topic3\", \"Topic3\", \"Topic3\", \"Topic3\", \"Topic3\", \"Topic3\", \"Topic4\", \"Topic4\", \"Topic4\", \"Topic4\", \"Topic4\", \"Topic4\", \"Topic4\", \"Topic4\", \"Topic4\", \"Topic4\", \"Topic4\", \"Topic4\", \"Topic4\", \"Topic4\", \"Topic4\", \"Topic4\", \"Topic4\", \"Topic4\", \"Topic4\", \"Topic4\", \"Topic4\", \"Topic4\", \"Topic4\", \"Topic4\", \"Topic4\", \"Topic4\", \"Topic4\", \"Topic4\", \"Topic4\", \"Topic4\", \"Topic4\", \"Topic4\", \"Topic4\", \"Topic4\", \"Topic4\", \"Topic4\", \"Topic4\", \"Topic4\", \"Topic4\", \"Topic4\", \"Topic4\", \"Topic4\", \"Topic4\", \"Topic4\", \"Topic4\", \"Topic4\", \"Topic4\", \"Topic4\", \"Topic4\", \"Topic4\", \"Topic4\", \"Topic4\", \"Topic4\", \"Topic4\", \"Topic4\", \"Topic4\", \"Topic4\", \"Topic4\", \"Topic4\", \"Topic4\", \"Topic4\", \"Topic4\", \"Topic4\", \"Topic4\", \"Topic4\", \"Topic4\", \"Topic5\", \"Topic5\", \"Topic5\", \"Topic5\", \"Topic5\", \"Topic5\", \"Topic5\", \"Topic5\", \"Topic5\", \"Topic5\", \"Topic5\", \"Topic5\", \"Topic5\", \"Topic5\", \"Topic5\", \"Topic5\", \"Topic5\", \"Topic5\", \"Topic5\", \"Topic5\", \"Topic5\", \"Topic5\", \"Topic5\", \"Topic5\", \"Topic5\", \"Topic5\", \"Topic5\", \"Topic5\", \"Topic5\", \"Topic5\", \"Topic5\", \"Topic5\", \"Topic5\", \"Topic5\", \"Topic5\", \"Topic5\", \"Topic5\", \"Topic5\", \"Topic5\", \"Topic5\", \"Topic5\", \"Topic5\", \"Topic5\", \"Topic5\", \"Topic5\", \"Topic5\", \"Topic5\", \"Topic5\", \"Topic5\", \"Topic5\", \"Topic5\", \"Topic5\", \"Topic5\", \"Topic5\", \"Topic5\", \"Topic5\", \"Topic6\", \"Topic6\", \"Topic6\", \"Topic6\", \"Topic6\", \"Topic6\", \"Topic6\", \"Topic6\", \"Topic6\", \"Topic6\", \"Topic6\", \"Topic6\", \"Topic6\", \"Topic6\", \"Topic6\", \"Topic6\", \"Topic6\", \"Topic6\", \"Topic6\", \"Topic6\", \"Topic6\", \"Topic6\", \"Topic6\", \"Topic6\", \"Topic6\", \"Topic6\", \"Topic6\", \"Topic6\", \"Topic6\", \"Topic6\", \"Topic6\", \"Topic6\", \"Topic6\", \"Topic6\", \"Topic6\", \"Topic6\", \"Topic6\", \"Topic6\", \"Topic6\", \"Topic6\", \"Topic6\", \"Topic6\", \"Topic6\", \"Topic6\", \"Topic6\", \"Topic6\", \"Topic6\", \"Topic6\", \"Topic6\", \"Topic6\", \"Topic6\", \"Topic6\", \"Topic6\", \"Topic6\", \"Topic6\", \"Topic6\", \"Topic6\", \"Topic6\", \"Topic6\", \"Topic7\", \"Topic7\", \"Topic7\", \"Topic7\", \"Topic7\", \"Topic7\", \"Topic7\", \"Topic7\", \"Topic7\", \"Topic7\", \"Topic7\", \"Topic7\", \"Topic7\", \"Topic7\", \"Topic7\", \"Topic7\", \"Topic7\", \"Topic7\", \"Topic7\", \"Topic7\", \"Topic7\", \"Topic7\", \"Topic7\", \"Topic7\", \"Topic7\", \"Topic7\", \"Topic7\", \"Topic7\", \"Topic7\", \"Topic7\", \"Topic7\", \"Topic7\", \"Topic7\", \"Topic7\", \"Topic7\", \"Topic7\", \"Topic7\", \"Topic7\", \"Topic7\", \"Topic7\", \"Topic7\", \"Topic7\", \"Topic7\", \"Topic7\", \"Topic7\", \"Topic7\", \"Topic7\", \"Topic7\", \"Topic7\", \"Topic7\", \"Topic7\", \"Topic7\", \"Topic7\", \"Topic7\", \"Topic7\", \"Topic7\", \"Topic7\", \"Topic7\", \"Topic7\", \"Topic7\", \"Topic7\", \"Topic7\", \"Topic8\", \"Topic8\", \"Topic8\", \"Topic8\", \"Topic8\", \"Topic8\", \"Topic8\", \"Topic8\", \"Topic8\", \"Topic8\", \"Topic8\", \"Topic8\", \"Topic8\", \"Topic8\", \"Topic8\", \"Topic8\", \"Topic8\", \"Topic8\", \"Topic8\", \"Topic8\", \"Topic8\", \"Topic8\", \"Topic8\", \"Topic8\", \"Topic8\", \"Topic8\", \"Topic8\", \"Topic8\", \"Topic8\", \"Topic8\", \"Topic8\", \"Topic8\", \"Topic8\", \"Topic8\", \"Topic8\", \"Topic8\", \"Topic8\", \"Topic8\", \"Topic8\", \"Topic8\", \"Topic8\", \"Topic8\", \"Topic9\", \"Topic9\", \"Topic9\", \"Topic9\", \"Topic9\", \"Topic9\", \"Topic9\", \"Topic9\", \"Topic9\", \"Topic9\", \"Topic9\", \"Topic9\", \"Topic9\", \"Topic9\", \"Topic9\", \"Topic9\", \"Topic9\", \"Topic9\", \"Topic9\", \"Topic9\", \"Topic9\", \"Topic9\", \"Topic9\", \"Topic9\", \"Topic9\", \"Topic9\", \"Topic9\", \"Topic9\", \"Topic9\", \"Topic9\", \"Topic9\", \"Topic9\", \"Topic9\", \"Topic9\", \"Topic9\", \"Topic9\", \"Topic9\", \"Topic9\", \"Topic9\", \"Topic9\", \"Topic9\", \"Topic9\", \"Topic9\", \"Topic9\", \"Topic9\", \"Topic9\", \"Topic9\", \"Topic9\", \"Topic9\", \"Topic10\", \"Topic10\", \"Topic10\", \"Topic10\", \"Topic10\", \"Topic10\", \"Topic10\", \"Topic10\", \"Topic10\", \"Topic10\", \"Topic10\", \"Topic10\", \"Topic10\", \"Topic10\", \"Topic10\", \"Topic10\", \"Topic10\", \"Topic10\", \"Topic10\", \"Topic10\", \"Topic10\", \"Topic10\", \"Topic10\", \"Topic10\", \"Topic10\", \"Topic10\", \"Topic10\", \"Topic10\", \"Topic10\", \"Topic10\", \"Topic10\", \"Topic10\", \"Topic10\", \"Topic10\", \"Topic10\", \"Topic10\", \"Topic10\", \"Topic10\", \"Topic10\", \"Topic10\", \"Topic10\", \"Topic10\", \"Topic10\", \"Topic10\", \"Topic10\", \"Topic10\", \"Topic10\", \"Topic10\", \"Topic10\", \"Topic10\", \"Topic10\", \"Topic10\", \"Topic10\", \"Topic10\", \"Topic10\", \"Topic10\", \"Topic10\"], \"Term\": [\"to\", \"it\", \",\", \"is\", \"from\", \"\\\"\", \".\", \"they\", \"for\", \"'_s\", \"there_are\", \"pretty\", \"this\", \"on\", \"but\", \"movie\", \"of\", \"i\", \"are\", \"in\", \"and\", \"the\", \"with\", \"just\", \"?\", \"have\", \"'_t\", \"--\", \"a\", \"!\", \"mindset\", \"too\", \"cast\", \"teenage\", \"mod\", \"soundtrack\", \"young\", \"juvenile\", \"justify\", \"clothes\", \"packaged\", \"appears\", \"towards\", \"looking\", \"hip\", \"run\", \"content\", \"complete\", \"r\", \"geared\", \"jaded\", \"older\", \"thankful\", \"kids\", \"rating\", \"hydra\", \"hot\", \"compare\", \"angry\", \"slick\", \"with\", \"squad\", \"only\", \"is\", \"simply\", \"way\", \"the\", \"production\", \"hair\", \"nice\", \",\", \"late\", \"'\", \"kayley\", \"films\", \"that\", \"-\", \".\", \"'_s\", \"not\", \"(\", \"ve\", \"to\", \"and\", \")\", \"it\", \"\\\"\", \"of\", \"an\", \"teen\", \"in\", \"but\", \"a\", \"film\", \"one\", \"her\", \"this\", \"for\", \"which\", \"movie\", \"hour\", \":\", \"there_are\", \"very\", \"likely\", \"animated\", \"empire\", \"steal\", \"clout\", \"worried\", \"mouse\", \"onto\", \"fully\", \"omar\", \"feature\", \"reason\", \"length\", \"bored\", \"lines\", \"awfully\", \"drive\", \"offering\", \"danes\", \"comedy\", \"transfers\", \"epps\", \"pulse\", \"further\", \"insight\", \"signs\", \"/_10\", \"movie\", \"a\", \"scenes\", \"-\", \"if\", \"dead\", \"the\", \"of\", \"crow\", \"9\", \",\", \"like\", \".\", \"(\", \")\", \"out\", \"you\", \"'_s\", \"and\", \"into\", \"so\", \"10\", \"?\", \"show\", \"that\", \"on\", \"it\", \"but\", \"film\", \"all\", \"in\", \"to\", \"is\", \"are\", \"'_t\", \"around\", \"outfits\", \"blowing\", \"cute\", \"stuff\", \"chases\", \"car\", \"hey\", \"cuts\", \"dane\", \"win\", \"engaging\", \"thrilling\", \"let\", \"end\", \"tie\", \"meantime\", \"downshifts\", \"fantasy\", \"off\", \"normal\", \"starts\", \"why\", \"took\", \"story\", \"crew\", \"themselves\", \"hit\", \"donald\", \"have\", \"entertaining\", \"robots\", \"we\", \",\", \"in\", \"the\", \"\\\"\", \"it\", \"'_s\", \"know\", \"a\", \"of\", \"and\", \"on\", \"they\", \".\", \"this\", \"don\", \"up\", \"that\", \"'_t\", \"what\", \"ship\", \"from\", \"just\", \")\", \"(\", \"make\", \"-\", \"as\", \"is\", \"all\", \"to\", \"though\", \"pocahontas\", \"nearly\", \"dull\", \"keeping\", \"magic\", \"score\", \"kingdom\", \"those\", \"mediocre\", \"wrong\", \"evidence\", \"however\", \"suspicion\", \"immediately\", \"stolen\", \"chasing\", \"single\", \"within\", \"accident\", \"okay\", \"clich\", \"rest\", \"case\", \"dion\", \"celine\", \"loss\", \"musical\", \"singers\", \"enthusiastic\", \"are\", \"at\", \"--\", \"line\", \"they\", \"get\", \"as\", \".\", \"\\\"\", \"be\", \"don\", \"enough\", \"'_t\", \"and\", \"i\", \"do\", \"who\", \"even\", \"the\", \"know\", \"up\", \"to\", \"with\", \"most\", \"we\", \"this\", \",\", \"?\", \"a\", \"of\", \")\", \"(\", \"it\", \"that\", \"'\", \"for\", \"character\", \"again\", \"over\", \"biggest\", \"baldwin\", \"exact\", \"beauty\", \"playing\", \"new\", \"neighborhood\", \"although\", \"bentley\", \"seemed\", \"wes\", \"wasted\", \"need\", \"whatever\", \"now\", \"continues\", \"unraveling\", \"holds\", \"own\", \"nightmares\", \"girlfriend\", \"see\", \"dies\", \"life\", \"him\", \"feeling\", \"guys\", \"he\", \"my\", \"her\", \"film\", \"to\", \"has\", \".\", \"a\", \"in\", \",\", \"of\", \"the\", \"and\", \"same\", \"is\", \"i\", \"that\", \"out\", \"'_s\", \"but\", \"one\", \"it\", \"sutherland\", \"this\", \"we\", \")\", \"year\", \"contest\", \"arrival\", \"sometimes\", \"spectacular\", \"bordering\", \"wooden\", \"stick\", \"entertain\", \"ending\", \"explanation\", \"overall\", \"runtime\", \"craziness\", \"redundant\", \"excites\", \"confusing\", \"rarely\", \"feels\", \"before\", \"doesn\", \"bringing\", \"flash\", \"substance\", \"!\", \"sequences\", \"empty\", \"pretty\", \"virus\", \"action\", \"no\", \"came\", \"for\", \"all\", \"it\", \"and\", \",\", \"on\", \"the\", \".\", \"of\", \"'_t\", \"is\", \"that\", \"'_s\", \"\\\"\", \"this\", \"going\", \"a\", \"to\", \"even\", \"like\", \"most\", \"as\", \"still\", \"make\", \"much\", \"film\", \"with\", \"hide\", \"literally\", \"telling\", \"want\", \"five\", \"spoon\", \"until\", \"seems\", \"information\", \"final\", \"completely\", \"instead\", \"hard\", \"shelves\", \"also\", \"ago\", \"obviously\", \"wrapped\", \"sitting\", \"years\", \"us\", \"differentiates\", \"morning\", \"instantly\", \"integrated\", \"computerized\", \"saturday\", \"subpar\", \"songs\", \"something\", \"ever\", \"footage\", \"to\", \"secret\", \"fed\", \"it\", \"on\", \"characters\", \"got\", \"see\", \"the\", \"that\", \".\", \"-\", \",\", \"\\\"\", \"be\", \"'_s\", \"--\", \"of\", \"show\", \"and\", \"two\", \"(\", \")\", \"audience\", \"big\", \"is\", \"?\", \"its\", \"this\", \"but\", \"where\", \"joblo\", \"skip\", \"melissa\", \"plain\", \"visions\", \"running\", \"showing\", \"20\", \"mean\", \"lazy\", \"!\", \"sagemiller\", \"coming\", \"away\", \"about\", \"throughout\", \"minutes\", \"forgettable\", \"something\", \"songs\", \"subpar\", \"saturday\", \"computerized\", \"integrated\", \"instantly\", \"morning\", \"differentiates\", \"animation\", \"from\", \"just\", \"i\", \"?\", \"for\", \"movie\", \"'_s\", \",\", \"any\", \"it\", \"\\\"\", \"is\", \"the\", \"concept\", \"taken\", \"neat\", \"executed\", \"terribly\", \"seem\", \"have\", \"pretty\", \"dreams\", \"explained\", \"looooot\", \"skip\", \"joblo\", \"where\", \"melissa\", \"plain\", \"visions\", \"running\", \"showing\", \"20\", \"mean\", \"lazy\", \"strange\", \"tons\", \"coming\", \"disappearances\", \"weird\", \"they\", \"happen\", \"apparitions\", \"there_are\", \"but\", \"this\", \"dead\", \"to\", \"it\", \"back\", \",\", \".\", \"others\", \"look\", \"things\", \"of\", \"simply\", \"most\", \"that\", \"not\", \"the\", \"is\", \"showmanship\", \"essential\", \"ranks\", \"climb\", \"element\", \"expected\", \"high\", \"pure\", \"ever\", \"bottom\", \"enter\", \"missing\", \"generally\", \"sure\", \"understanding\", \"password\", \"correctly\", \"should\", \"harder\", \"camelot\", \"makes\", \"&\", \"snag\", \"skip\", \"where\", \"joblo\", \"melissa\", \"making\", \"plain\", \"visions\", \"such\", \"disney\", \"secret\", \"write\", \"flashy\", \"quest\", \"given\", \"before\", \"to\", \"if\", \"an\", \"your\", \"is\", \"of\", \"\\\"\", \"the\", \"movies\", \"it\", \",\", \"for\", \".\", \"that\", \"'_t\", \"'_s\", \"and\", \"this\", \"i\"], \"loglift\": [30.0, 29.0, 28.0, 27.0, 26.0, 25.0, 24.0, 23.0, 22.0, 21.0, 20.0, 19.0, 18.0, 17.0, 16.0, 15.0, 14.0, 13.0, 12.0, 11.0, 10.0, 9.0, 8.0, 7.0, 6.0, 5.0, 4.0, 3.0, 2.0, 1.0, 1.1096, 1.1096, 1.0501, 1.0328, 0.9833, 0.9317, 0.9317, 0.9317, 0.9317, 0.9317, 0.9317, 0.9317, 0.9317, 0.9317, 0.9317, 0.9317, 0.9317, 0.9317, 0.9317, 0.9317, 0.9317, 0.9317, 0.9317, 0.9317, 0.9317, 0.9317, 0.9317, 0.9317, 0.9317, 0.9317, 0.8944, 0.9238, 0.8654, 0.7404, 0.8457, 0.7741, 0.2946, 0.8233, 0.8079, 0.8079, 0.2118, 0.8519, 0.5601, 0.7262, 0.78, 0.3069, 0.3308, 0.0714, 0.2154, 0.543, 0.2662, 0.7325, 0.1119, 0.0032, 0.2215, 0.0211, 0.1047, -0.1791, 0.3972, 0.5265, 0.0798, 0.2089, -0.404, 0.0678, 0.3371, 0.3269, -0.0921, 0.0626, 0.4108, -0.0628, 1.2517, 1.2447, 1.1367, 1.135, 1.116, 1.093, 1.093, 1.093, 1.093, 1.093, 1.093, 1.093, 1.093, 1.093, 1.093, 1.093, 1.093, 1.093, 1.093, 1.093, 1.093, 1.093, 1.093, 1.093, 1.093, 1.093, 1.093, 1.093, 1.093, 1.093, 1.0456, 0.9429, 0.532, 0.9602, 0.5672, 0.8581, 0.9437, 0.1566, 0.3599, 0.9873, 0.9869, 0.1047, 0.6202, 0.0659, 0.3802, 0.3838, 0.6855, 0.5916, 0.0772, -0.0998, 0.5486, 0.6003, 0.9128, 0.4194, 0.5651, -0.1253, 0.1365, -0.2962, 0.1814, 0.1093, 0.3283, -0.0608, -0.4584, -0.517, 0.1303, -0.1468, 1.667, 1.5414, 1.5414, 1.5414, 1.5414, 1.5414, 1.5414, 1.5414, 1.5414, 1.5414, 1.5414, 1.5414, 1.5414, 1.5414, 1.5414, 1.5414, 1.5414, 1.5341, 1.5335, 1.5318, 1.5314, 1.5282, 1.5077, 1.4721, 1.4678, 1.4652, 1.3886, 1.388, 1.3818, 1.3615, 1.3444, 1.3035, 0.991, 0.257, 0.7216, 0.0515, 0.487, 0.3267, 0.3458, 1.0045, 0.1824, 0.1078, 0.0518, 0.4691, 0.6709, -0.3371, 0.4511, 0.7819, 0.9604, -0.0129, 0.3615, 0.897, 1.1401, 0.5292, 0.6941, -0.246, -0.2942, 0.5217, -0.7453, 0.1201, -1.0502, 0.1852, -0.9882, 1.8726, 1.7344, 1.7344, 1.7344, 1.7344, 1.7344, 1.7344, 1.7344, 1.7344, 1.7344, 1.7344, 1.7344, 1.7344, 1.7344, 1.7344, 1.7344, 1.7344, 1.7344, 1.7344, 1.7344, 1.7344, 1.7344, 1.7344, 1.7343, 1.6982, 1.6931, 1.6926, 1.6898, 1.6882, 1.6874, 1.3923, 1.4867, 1.4729, 1.6165, 1.3073, 1.3982, 1.0898, 0.4014, 0.6961, 1.1364, 1.1243, 1.4096, 0.7368, 0.1891, 0.9248, 1.2578, 1.1515, 0.797, -0.4555, 1.0119, 1.0937, 0.0877, 0.4412, 0.8754, 0.6614, 0.2791, -0.9934, 0.5907, -0.5094, -0.5738, -0.0362, -0.0832, -0.6293, -0.616, 0.4203, 0.3573, 1.8641, 1.8034, 1.7824, 1.7148, 1.7113, 1.6948, 1.6948, 1.6948, 1.6948, 1.6948, 1.6948, 1.6948, 1.6948, 1.6948, 1.6948, 1.6948, 1.6946, 1.6764, 1.6367, 1.6289, 1.6268, 1.6171, 1.614, 1.6133, 1.6111, 1.6099, 1.6055, 1.6028, 1.6008, 1.5963, 1.578, 1.4707, 1.2261, 0.8825, 0.5589, 1.1884, 0.1667, 0.3766, 0.6902, -0.0519, 0.2775, -0.2659, 0.109, 1.2112, 0.1906, 0.7958, -0.003, 0.8177, -0.1488, 0.4421, 0.6371, -0.3913, 1.3737, 0.09, 0.4424, -0.4458, 1.9755, 1.9755, 1.9755, 1.9755, 1.9755, 1.9755, 1.9755, 1.9549, 1.9531, 1.9522, 1.9521, 1.9521, 1.949, 1.9488, 1.9486, 1.9459, 1.9425, 1.9422, 1.9205, 1.9028, 1.8369, 1.6651, 1.6302, 1.6169, 1.5962, 1.593, 1.5652, 1.5623, 1.4968, 1.488, 1.4227, 1.4289, 1.0813, 1.0876, 0.5537, 0.3933, 0.0712, 0.7346, -0.3032, -0.2599, -0.0359, 0.5676, 0.0275, 0.0359, -0.0554, 0.0626, 0.415, 1.2176, -0.4308, -0.231, 0.5779, 0.4266, 0.7276, 0.3064, 1.2629, 0.5725, 0.8853, -0.0499, -0.1112, 2.5235, 2.2892, 2.2892, 2.2892, 2.2892, 2.2892, 2.2892, 2.2892, 2.2892, 2.2892, 2.2892, 2.2892, 2.2892, 2.2892, 2.2892, 2.2892, 2.2892, 2.2892, 2.2892, 2.2892, 2.1423, 2.099, 2.0819, 2.0781, 2.0738, 2.069, 2.0579, 2.0556, 2.0535, 2.0137, 1.9141, 1.8654, 0.8727, 1.8519, 1.827, 0.4775, 0.8862, 1.4591, 1.7812, 1.528, -0.4444, 0.109, -0.5586, 0.1432, -1.0164, -0.0294, 0.9357, -0.4114, 1.1349, -0.5726, 0.9565, -0.9063, 1.2655, -0.2873, -0.2464, 1.0731, 1.5045, -0.8226, 0.4462, 0.8266, -0.1033, 0.0662, 3.0856, 3.0856, 3.0856, 3.082, 3.0806, 3.0805, 3.0798, 3.0794, 3.0788, 3.0786, 3.0766, 2.9868, 2.5159, 2.4427, 2.4149, 2.4116, 2.1089, 2.0949, 2.0152, 1.9564, 1.8494, 1.8433, 1.8365, 1.8032, 1.7881, 1.7744, 1.7623, 1.7047, 1.6698, 1.6392, 1.2453, 0.9305, 0.8937, 0.6628, 0.5707, -0.0946, -0.971, 1.4767, -0.5103, -0.2579, -0.4236, -1.4965, 3.2398, 3.169, 3.1575, 3.1556, 3.1146, 2.5186, 2.1845, 1.4373, 1.0183, 0.9923, 0.9759, 0.9577, 0.9577, 0.9577, 0.9565, 0.956, 0.956, 0.9558, 0.9556, 0.9554, 0.9554, 0.9547, 0.9494, 0.9248, 0.8912, 0.886, 0.8795, 0.8707, 0.8621, 0.8621, 0.7148, 0.67, 0.4991, 0.5809, -0.2064, -0.3159, 0.5932, -1.1441, -1.0971, 0.3957, 0.445, 0.2519, -1.7344, 0.1906, -0.3278, -1.8718, -0.6114, -3.0994, -2.0472, 1.9735, 1.9412, 1.9259, 1.8981, 1.8954, 1.8954, 1.8804, 1.8696, 1.494, 1.3585, 1.309, 1.2838, 1.1775, 1.1745, 1.1735, 1.1237, 1.1209, 1.0878, 1.059, 1.0523, 1.0358, 1.0285, 0.9854, 0.9741, 0.9741, 0.9741, 0.9729, 0.9726, 0.9724, 0.9724, 0.9641, 0.9425, 0.9414, 0.9451, 0.9384, 0.8337, 0.8622, 0.8096, -0.3996, 0.418, 0.1576, 0.6019, -0.612, -0.8883, -0.6697, -1.6171, 0.7592, -1.1707, -1.8659, -0.3333, -1.9482, -1.3566, -0.7282, -1.5337, -1.7606, -0.7962, -0.3071], \"Freq\": [27.0, 34.0, 93.0, 29.0, 8.0, 23.0, 68.0, 8.0, 10.0, 32.0, 7.0, 5.0, 13.0, 14.0, 11.0, 11.0, 36.0, 7.0, 9.0, 15.0, 40.0, 91.0, 13.0, 5.0, 8.0, 2.0, 13.0, 4.0, 38.0, 1.0, 1.871437432885798, 1.8714338600229647, 1.720607408372872, 1.7269529195838618, 1.639968826196869, 0.9802818096066703, 0.9802807910217594, 0.9802809166343969, 0.9802801236918217, 0.980279839305161, 0.9802797584456396, 0.9802794527484227, 0.9802795393876236, 0.9802792394162034, 0.9802788712020892, 0.980278962736116, 0.9802788278524938, 0.9802791055632426, 0.9802787170908129, 0.980278927962866, 0.9802785033626279, 0.9802782889405649, 0.9802784030029427, 0.9802782982688956, 0.980278193725037, 0.9802782620506196, 0.9802778142522698, 0.9802779358744722, 0.9802778486131674, 0.9802777470607895, 8.300276981145991, 1.5413757382291113, 2.935103114340009, 16.27320251786803, 1.931943691221676, 2.76259715758749, 31.75060546255567, 1.7494161485453106, 1.8714432254071334, 1.8714407110509803, 29.836954516676386, 1.4305103290888266, 4.294025257848351, 2.1411629226452367, 1.7465954277358187, 9.999613201139312, 8.505323754009048, 19.11782651335615, 10.37547256982713, 3.1889198635621607, 6.326906919075559, 1.6939124644402732, 8.10209264305792, 10.461200475633648, 5.772229395257917, 9.187767209803168, 6.8836098906134335, 8.008315626683267, 3.049129065085772, 2.547348598869165, 4.280272879561497, 3.6077726053344374, 6.65857474601695, 3.445625404499342, 2.7863253362750005, 2.7037617059309733, 3.162796237526208, 2.783469751561754, 2.4227149961737173, 2.6945652537332103, 1.7476903207327819, 2.3973025481079597, 5.293906406810555, 2.0628343629306563, 1.4912975113257663, 0.9430953657044268, 0.9430943078154308, 0.9430939160484245, 0.9430939888704094, 0.9430940329955225, 0.9430933468801636, 0.9430927342477442, 0.9430928159298906, 0.9430925500012397, 0.9430924220658355, 0.9430920946280276, 0.9430919538896465, 0.9430917970073106, 0.9430913503758342, 0.9430909069771192, 0.9430907173876923, 0.9430906616678135, 0.9430905900780495, 0.9430907320811912, 0.9430905919144879, 0.94309041839457, 0.9430900581788314, 0.943089811662611, 0.9430899377765685, 0.9430898751629021, 4.66091436416008, 6.17133151009946, 14.223217822947932, 1.7290425310599682, 9.024962895345912, 2.354993004502599, 1.633579696784127, 23.17084748627891, 11.501524107758275, 1.3580499371760208, 1.3575257456038166, 22.457319342429553, 3.7804704449972175, 15.928540275373523, 5.940353536679185, 5.687935235873068, 2.5922048215401596, 2.9269374086359785, 7.570830629957552, 7.906354506742332, 2.3676412938885862, 2.147183116242402, 1.2625739831529743, 2.6577847281332856, 2.0633593417720877, 5.437274561129067, 3.587397279091218, 5.6046328260624705, 2.9403383496756033, 3.008959334092404, 2.5501524677298146, 3.115586201589584, 3.8376092675305093, 3.8772417323363557, 2.4495923599931686, 2.4694119182777565, 2.2399000589069384, 0.9224082591317132, 0.9224070339166047, 0.9224063227541844, 0.9224061782022923, 0.9224062705348132, 0.9224056865317527, 0.9224039930695084, 0.9224038343368381, 0.922403624748231, 0.9224030237497238, 0.9224020903758486, 0.9224017379232189, 0.9224013315060247, 0.9223983003586405, 0.9223970632897653, 0.9223937190777796, 0.9148075593082674, 0.9141526389240727, 0.912386497588643, 0.9120612144484123, 0.9086973508375897, 1.3550135692273035, 1.3433039434197278, 1.334410417389716, 1.298791705224306, 0.7960737604893706, 0.7768468185901342, 0.7680527541280836, 1.3651167326261158, 1.1659096747257336, 1.1581782559747076, 2.837947372324197, 16.5501513094187, 4.311485601856477, 13.200513884082829, 5.349151017113898, 6.612404472600075, 6.2672375196917445, 2.026057480758593, 6.345841643581339, 5.657057166406018, 5.822708115105409, 3.165903384692387, 2.4047639472991587, 6.7367752597869215, 2.8868705979922495, 2.0422250335441356, 1.6241504508214708, 3.8505235712425243, 2.5979763965457527, 1.6171763355265583, 1.3090351536312745, 1.9657372285254664, 1.553437854014972, 1.9175561366228902, 1.9153587942003572, 1.4616000281719788, 1.5371927505078327, 1.453431650500669, 1.4395885400720017, 1.398631963993638, 1.4297984755050033, 1.5150964961960085, 0.8523134757861985, 0.8523133070958385, 0.8523129121067252, 0.8523126778158576, 0.8523125008017987, 0.8523123463674467, 0.8523116553223785, 0.8523115515119001, 0.8523116346146775, 0.8523073480113617, 0.852306368253447, 0.8523059012029691, 0.852305422552628, 0.8523041142350262, 0.8523018339450784, 0.8522998333537103, 0.8522973311029727, 0.8522915397877348, 0.8522901743742145, 0.8522899976023672, 0.8522879168195943, 0.8522817723170362, 0.8522761982259723, 0.8180027049243923, 0.8133687117753536, 0.812836092113687, 0.8103425142218602, 0.8088201631682299, 0.8081314903240161, 4.365497559028747, 2.2300116134999963, 2.35611594110061, 1.1246742777649255, 3.62256571898323, 1.6270919989128703, 3.0553191227141734, 11.238327978384325, 5.255410730138137, 2.2723507224176864, 2.292538959626181, 1.3658605071396388, 3.014295098112747, 5.324699007901602, 2.1375042408183145, 1.41479003733332, 1.574141959549411, 2.0403827687408556, 6.338074466629844, 1.6271210830675966, 1.4793778564279045, 3.3423866857078948, 2.2295900260470125, 1.5426234978035933, 1.6271097033004973, 1.937603555499648, 3.7783086660170975, 1.5914199457201186, 2.5327068825473433, 2.280958205999497, 1.885269609765494, 1.8855021366857847, 2.0263422447318766, 1.6792607045363555, 1.5780283073924124, 1.5795831377521086, 1.362326044905071, 1.3068188122553672, 2.678694310574186, 1.2043774896763473, 1.639857155985864, 0.7502812027406303, 0.7502808885832926, 0.7502805937668436, 0.7502806305331898, 0.7502801835327083, 0.7502798473192553, 0.7502795873081023, 0.7502791337659749, 0.7502788919859913, 0.7502769698985298, 0.75026935596919, 0.7501715675117108, 1.1742744575257205, 0.7140548491436213, 0.7027286285987054, 0.7012448274536596, 0.6945138864324819, 0.7003002739927893, 0.6998828573540249, 1.6981224642263553, 0.6978474686295749, 0.6952428494325809, 0.6936145440960847, 0.6833402640999586, 0.6897340429909264, 1.4323441800171248, 1.293368671516999, 2.7581269343818646, 3.2303072140171842, 5.258651443664328, 1.5029556856025825, 8.728657765671437, 6.033132012090369, 3.2713233105024004, 9.514141947722054, 5.247876318346347, 7.524281707229025, 4.82695799272149, 1.30690046445078, 3.8981026992417758, 1.8452047473022395, 3.0446683186357055, 1.4659203056101036, 2.9922001508431624, 1.8908216817642585, 1.561200103198761, 2.525058129519716, 0.8758919054507394, 1.5751446537086398, 1.2838057170474213, 1.229375057903169, 0.7581553127891498, 0.7581542929983223, 0.7581522990203167, 0.7581478126462896, 0.7581467616200065, 0.7581465502921207, 0.7581468946236741, 0.7448743578867422, 0.7437548817137148, 0.7431977374520837, 0.7431011809084233, 0.7430880196148553, 0.741126410633091, 0.7409982826169504, 0.7408674968778599, 0.7391993742432176, 0.7370532207660785, 0.7368461349096912, 1.1434332030398326, 1.0767491731350534, 1.4173739036434108, 0.5751087521339053, 0.5571722254255193, 0.5504845752837081, 0.7614165139484846, 0.5386272943781636, 0.5251504047359538, 2.1061766873962373, 0.49330021477257113, 0.48932814239390016, 1.2587143310150826, 0.7351229671712919, 2.42859732964133, 2.048810935975253, 4.92984794137302, 4.867547728564217, 8.165469224904458, 2.453232582296565, 5.501238544540625, 4.323794381032976, 2.91118557548958, 1.8969885698730105, 2.5131177449934947, 2.402032218411543, 2.4929724537878686, 2.0790782090705036, 1.6544606466223968, 1.0401565000297892, 2.0421404698762813, 1.8113414284827576, 1.2215376790843213, 1.1712971365942595, 0.9917891338686307, 1.0404122191396468, 0.866229984813993, 0.9136909790848389, 0.8780878085541048, 0.9649220466761301, 0.9564922933151031, 1.311111170333668, 0.6867740165810914, 0.6867735581198303, 0.6867732618777206, 0.6867731240888928, 0.6867730504314066, 0.6867727998805114, 0.6867723862507111, 0.6867722258699085, 0.6867721017114116, 0.6867719810868057, 0.6867718449328023, 0.6867713632577094, 0.6867709989206533, 0.6867705270949265, 0.6867706036368487, 0.6867704813144767, 0.6867699386316601, 0.6867679509185329, 0.6867676639759573, 1.3111162449776457, 0.5299942741169681, 0.5182429353534762, 0.5156951006286687, 0.5127971441725625, 0.5095457106600191, 0.5022665719217962, 0.5007477424849566, 0.4993771798162238, 0.47437699582489357, 0.6867715900768818, 0.7007327485803518, 3.807358556893613, 0.6867708504884661, 0.6867735923240293, 3.1841668368490335, 1.9898780494698318, 1.0210630112868782, 0.6867721656144327, 0.826659142200654, 3.3294601360417384, 1.8014851015998201, 2.235722961801393, 1.5480174610689892, 1.918382622550219, 1.3217729708478203, 0.9659339214667626, 1.2172565409378082, 0.8730815636512043, 1.186436266068601, 0.7998548761018894, 0.9250920619180526, 0.7468451889577186, 0.7987724802187064, 0.7938304416050477, 0.7395246905936713, 0.7170288148768921, 0.7486010781825467, 0.7155752982534365, 0.6867790713230334, 0.6867786285805318, 0.6867768610801142, 0.3301915436207473, 0.33019148820156646, 0.33018277597352824, 0.3293846745646814, 0.32906775220543183, 0.32905557765569154, 0.32890213643892574, 0.32881759448291953, 0.32866471228296734, 0.3286353231607232, 0.32818941371438953, 0.6288833587421583, 0.3289480773954883, 0.33019396369293863, 0.3286218650054327, 0.3290242501338198, 0.3287163191860056, 0.3293991546574896, 0.13918285802224, 0.13214002830517893, 0.12012022459901199, 0.11946064105077132, 0.11873089815641076, 0.115231106424948, 0.11366779868277366, 0.11227471498019927, 0.11104967886018112, 0.10539961107741364, 0.17242623874674093, 0.7287237088752683, 0.3293306496784372, 0.32945997295421625, 0.3301937073874675, 0.3285923040365281, 0.32885497210603587, 0.49289486427021906, 0.5921766709978874, 0.14385447333850898, 0.3498086796759069, 0.31024733932798837, 0.32910809635396143, 0.3429895660398627, 0.23624564296744946, 0.22652685355766775, 0.22496385945733868, 0.2247016287501184, 0.21915453656830358, 0.22654472670655465, 0.23040532567395391, 0.23184269755049394, 0.03990669629160851, 0.03897347903252506, 0.03836290146124078, 0.02385340052644747, 0.023852774928098584, 0.02385256582930713, 0.02385166554355039, 0.023851676306630282, 0.023851721212092194, 0.0238516813089555, 0.023851730363619504, 0.023851723327893325, 0.023851960838294897, 0.023851851104531523, 0.037418626728527346, 0.036576629063731304, 0.04245002206223416, 0.035280699393678165, 0.03505007404346245, 0.21763521529554586, 0.03448037968021036, 0.034480219908499664, 0.16281414897876578, 0.2247788277937548, 0.22446358621160106, 0.053305718587022474, 0.23155896765136919, 0.2577127861155314, 0.04085641358316374, 0.302115934369285, 0.23348698454514843, 0.044184378451157046, 0.03678410220670874, 0.039692148964136434, 0.0664333561379783, 0.03942452630709159, 0.04305495188422687, 0.04447125708755859, 0.03949665246219714, 0.04188206162649941, 0.039366759385771756, 0.03276535497584634, 0.03171332366765923, 0.0313340028651874, 0.030611540232553688, 0.030511333385507225, 0.030657797863189038, 0.030237517251679565, 0.029920377492516703, 0.031235570753639297, 0.019478889602360765, 0.018605444772821687, 0.028652530092331475, 0.01751168554707883, 0.016367498377563836, 0.016469080902728087, 0.015595760791170863, 0.01665074580922445, 0.015254683545388031, 0.015725625915036654, 0.030965064619865482, 0.015393067520551574, 0.015297174725408228, 0.014599401491913667, 0.009381615273608772, 0.009381374904378972, 0.009381212151184745, 0.009380838071716087, 0.014529138919067444, 0.009380839757694263, 0.009380912164885355, 0.014498013374997417, 0.029111947858058054, 0.01913002579858511, 0.01422295263771523, 0.013938760306013877, 0.029646577795855347, 0.017024436928474947, 0.017413670751396527, 0.07385497132981672, 0.027519653991916436, 0.036476123306966785, 0.021219768782672354, 0.0639801516162923, 0.05990265296460912, 0.048237947217657694, 0.07135207645113495, 0.018224095549732436, 0.042412680031615836, 0.05679170202166015, 0.028480343116497785, 0.038567601241620744, 0.028801882046119935, 0.025054497332103985, 0.02743305753197318, 0.02725775968972577, 0.023778910969254087, 0.02242970618529931], \"Total\": [27.0, 34.0, 93.0, 29.0, 8.0, 23.0, 68.0, 8.0, 10.0, 32.0, 7.0, 5.0, 13.0, 14.0, 11.0, 11.0, 36.0, 7.0, 9.0, 15.0, 40.0, 91.0, 13.0, 5.0, 8.0, 2.0, 13.0, 4.0, 38.0, 1.0, 2.381343704243705, 2.381342164565217, 2.323697452326713, 2.3728146821668483, 2.367679167732744, 1.4901784090631476, 1.4901778852183514, 1.490178216366143, 1.490177815969396, 1.4901775673876572, 1.4901777112168624, 1.4901772674537932, 1.4901775928272545, 1.4901772787407326, 1.4901772537158016, 1.4901774215469168, 1.4901772407222806, 1.4901776986410344, 1.490177117484126, 1.4901777117441222, 1.490177070043821, 1.4901768629839423, 1.4901771289059234, 1.4901771030095976, 1.4901770403618861, 1.4901773465563866, 1.4901767091669347, 1.4901769670670664, 1.4901770766305928, 1.4901771195828597, 13.09791780434519, 2.3618588927281814, 4.7679161101997165, 29.954654221525573, 3.2005987986049407, 4.9166797205301, 91.27124539147613, 2.9640285994148887, 3.219900631695894, 3.219901082918833, 93.1718119371073, 2.355314771574942, 9.466038777840991, 3.9973845324190203, 3.090063180714618, 28.393363443797305, 23.579838667162075, 68.69868181915645, 32.28561013159296, 7.150513228445611, 18.711994861455793, 3.142729863250019, 27.960570036263395, 40.24620847520307, 17.851890709387945, 34.72015380676242, 23.926411168286762, 36.97181912516778, 7.910667706060069, 5.807244224753747, 15.253184611522407, 11.298683076429327, 38.49304653606619, 12.427077186979988, 7.676536028128646, 7.525214124765171, 13.385053927189269, 10.091174100913637, 6.200744850362947, 11.073528889014995, 2.302948978547743, 3.1811112152043552, 7.825481031863795, 3.0544169371465593, 2.250527993661448, 1.4563728812415841, 1.4563728010689927, 1.4563722623631967, 1.4563724154881645, 1.45637250502668, 1.4563720623710752, 1.4563718656491884, 1.4563720909902964, 1.4563717509443896, 1.4563717781398628, 1.4563717915492342, 1.4563717348860328, 1.4563717500082871, 1.4563718088454292, 1.4563715693356611, 1.4563712978370045, 1.4563714795899756, 1.4563714429693067, 1.4563716671536737, 1.4563716120778314, 1.456371569569596, 1.45637111050318, 1.4563709604269075, 1.4563712078259738, 1.4563711429694943, 7.54712993265875, 11.073528889014995, 38.49304653606619, 3.049397626517502, 23.579838667162075, 4.599780518086005, 2.9289594303033692, 91.27124539147613, 36.97181912516778, 2.3310235210696475, 2.331033958412037, 93.1718119371073, 9.366754927899343, 68.69868181915645, 18.711994861455793, 17.851890709387945, 6.017081885799403, 7.462549338119081, 32.28561013159296, 40.24620847520307, 6.30201533261566, 5.427053758049486, 2.3347745319957696, 8.050149080413641, 5.402071991075544, 28.393363443797305, 14.417928983927723, 34.72015380676242, 11.298683076429327, 12.427077186979988, 8.46014933670012, 15.253184611522407, 27.960570036263395, 29.954654221525573, 9.906747206628685, 13.175449365977528, 3.0786968284023386, 1.4375662253015884, 1.437565989686652, 1.437565698015174, 1.4375655331897532, 1.4375657326779065, 1.4375650954437211, 1.4375650808119829, 1.4375649540181523, 1.4375650387320256, 1.4375647700434977, 1.4375640851903377, 1.437564252432356, 1.4375641373546129, 1.4375634282747474, 1.437562667704481, 1.4375613379821903, 1.436147711514603, 1.4360257312898792, 1.43569603585879, 1.435635194009159, 1.4350076420166031, 2.184112999081585, 2.2436163314549575, 2.238517717745562, 2.184415093493751, 1.4454914556904253, 1.4113706950583151, 1.4041328209845558, 2.546786643210511, 2.2127087695911323, 2.2896374764347027, 7.66927819725577, 93.1718119371073, 15.253184611522407, 91.27124539147613, 23.926411168286762, 34.72015380676242, 32.28561013159296, 5.4017597937482895, 38.49304653606619, 36.97181912516778, 40.24620847520307, 14.417928983927723, 8.94992610736698, 68.69868181915645, 13.385053927189269, 6.801808114443116, 4.525290467120651, 28.393363443797305, 13.175449365977528, 4.800626493681536, 3.047460052447224, 8.429968935586254, 5.6487338384469155, 17.851890709387945, 18.711994861455793, 6.3149956486001715, 23.579838667162075, 9.382893192581408, 29.954654221525573, 8.46014933670012, 27.960570036263395, 2.126915928332566, 1.373843722379098, 1.3738434791674703, 1.3738435985176483, 1.373843591900238, 1.3738434407111026, 1.373843690192281, 1.3738429722296006, 1.3738431950912076, 1.3738433885441794, 1.373842044077547, 1.373841896865139, 1.3738419814954572, 1.3738417439068895, 1.3738411877444967, 1.3738409462429193, 1.3738398912356973, 1.3738398430126226, 1.3738387131159073, 1.3738378090640964, 1.3738387485517378, 1.3738376580641025, 1.3738356922790582, 1.3738347336752799, 1.3671798927121683, 1.3662798131999825, 1.3661764142425135, 1.365692209957194, 1.3653964848251168, 1.365262544429531, 9.906747206628685, 4.604826870541649, 4.932874805648381, 2.0396296577061497, 8.94992610736698, 3.6706502956609484, 9.382893192581408, 68.69868181915645, 23.926411168286762, 6.6604509618208505, 6.801808114443116, 3.0466133399388777, 13.175449365977528, 40.24620847520307, 7.74159757181177, 3.67303936249641, 4.544835101133525, 8.397166327430309, 91.27124539147613, 5.4017597937482895, 4.525290467120651, 27.960570036263395, 13.09791780434519, 5.869883123911331, 7.66927819725577, 13.385053927189269, 93.1718119371073, 8.050149080413641, 38.49304653606619, 36.97181912516778, 17.851890709387945, 18.711994861455793, 34.72015380676242, 28.393363443797305, 9.466038777840991, 10.091174100913637, 1.9638976511410748, 2.0016432821941903, 4.1901178565613435, 2.0156471505949196, 2.7541125874966577, 1.2810864669712487, 1.281086553181915, 1.2810864095474574, 1.281086593824243, 1.281086207457055, 1.2810863347339772, 1.2810863891282749, 1.2810863088982134, 1.281086334995534, 1.2810859770857324, 1.2810847180270832, 1.2810764413404372, 2.042278603507089, 1.2921904775714945, 1.2815855082134007, 1.2816009957161196, 1.2816717461038731, 1.2964064116459872, 1.296533559863656, 3.1524919789102346, 1.2971571761965888, 1.2979563144555526, 1.2984560466305775, 1.2817887042440355, 1.2996450093706635, 2.748633156010305, 2.7631466933838107, 7.525214124765171, 12.427077186979988, 27.960570036263395, 4.258320884738987, 68.69868181915645, 38.49304653606619, 15.253184611522407, 93.1718119371073, 36.97181912516778, 91.27124539147613, 40.24620847520307, 3.619041637783598, 29.954654221525573, 7.74159757181177, 28.393363443797305, 6.017081885799403, 32.28561013159296, 11.298683076429327, 7.676536028128646, 34.72015380676242, 2.0618058644145965, 13.385053927189269, 7.66927819725577, 17.851890709387945, 1.2882468261738815, 1.2882464984026507, 1.288246559319972, 1.2882459127812012, 1.2882454307343907, 1.2882453636243707, 1.2882460550604002, 1.292139294280083, 1.2924673585145476, 1.2926304866223333, 1.292659086256186, 1.2926626831234227, 1.2932372052759815, 1.2932747897494712, 1.2933132727136616, 1.293801331942476, 1.2944298764431048, 1.2944905808260119, 2.052769113438548, 1.9675866617559565, 2.7665091704060565, 1.3328981430148832, 1.3372740060821893, 1.3389044436395374, 1.890559947912066, 1.3417971754129556, 1.3450850266761611, 5.409965100597118, 1.352854141375329, 1.3538226925156107, 3.717786128652211, 2.1577413313159304, 10.091174100913637, 8.46014933670012, 34.72015380676242, 40.24620847520307, 93.1718119371073, 14.417928983927723, 91.27124539147613, 68.69868181915645, 36.97181912516778, 13.175449365977528, 29.954654221525573, 28.393363443797305, 32.28561013159296, 23.926411168286762, 13.385053927189269, 3.7713465940911566, 38.49304653606619, 27.960570036263395, 8.397166327430309, 9.366754927899343, 5.869883123911331, 9.382893192581408, 3.0016969763130468, 6.3149956486001715, 4.438762016130687, 12.427077186979988, 13.09791780434519, 1.8476986725790958, 1.223354081658312, 1.2233538767311938, 1.223353673565131, 1.2233538655839358, 1.223353842332634, 1.2233541661268394, 1.2233539862891885, 1.2233540331076143, 1.2233539809540719, 1.2233540108756353, 1.2233541407005886, 1.223354428588405, 1.223354020039984, 1.223353763490203, 1.2233541781916129, 1.2233541067563978, 1.2233539964152038, 1.223353826234398, 1.2233536077633953, 2.7050601172022644, 1.1419539294436831, 1.135852919686183, 1.1345300402187308, 1.1330256107326553, 1.1313375118883846, 1.1275582808579714, 1.1267702259651216, 1.1260580809487362, 1.113078552435796, 1.7801394583420966, 1.907145677657365, 27.960570036263395, 1.8945448306576211, 1.9423179018452983, 34.72015380676242, 14.417928983927723, 4.171660551450445, 2.033193653517307, 3.1524919789102346, 91.27124539147613, 28.393363443797305, 68.69868181915645, 23.579838667162075, 93.1718119371073, 23.926411168286762, 6.6604509618208505, 32.28561013159296, 4.932874805648381, 36.97181912516778, 5.402071991075544, 40.24620847520307, 3.703062310703404, 18.711994861455793, 17.851890709387945, 4.4449831066627, 2.799501701231279, 29.954654221525573, 8.050149080413641, 5.281794507520555, 13.385053927189269, 11.298683076429327, 0.8992113241009618, 0.8992122007578296, 0.8992217055694449, 0.9002599938584724, 0.9006708268077929, 0.9006860476952193, 0.9008850688978823, 0.900994612895184, 0.9011930009144757, 0.9012304347773686, 0.9018087898442964, 1.890559947912066, 1.583605509356708, 1.7102999969471162, 1.7500524221770963, 1.7580903801068501, 2.377362088247144, 2.4157514111572866, 1.1054733222246853, 1.113078552435796, 1.1260580809487362, 1.1267702259651216, 1.1275582808579714, 1.1313375118883846, 1.1330256107326553, 1.1345300402187308, 1.135852919686183, 1.1419539294436831, 1.9344223282065527, 8.429968935586254, 5.6487338384469155, 7.74159757181177, 8.050149080413641, 10.091174100913637, 11.073528889014995, 32.28561013159296, 93.1718119371073, 1.9577887703119001, 34.72015380676242, 23.926411168286762, 29.954654221525573, 91.27124539147613, 0.9089925013572279, 0.9355869154560673, 0.9398631490520246, 0.9405807037632782, 0.9557589353741077, 1.792898555686867, 2.546786643210511, 5.409965100597118, 1.415921873696803, 1.4192559170756058, 1.4200461238879734, 0.8992217055694449, 0.8992122007578296, 0.8992113241009618, 0.9002599938584724, 0.9006708268077929, 0.9006860476952193, 0.9008850688978823, 0.900994612895184, 0.9011930009144757, 0.9012304347773686, 0.9018087898442964, 1.422405030800221, 1.4249045365468276, 1.7102999969471162, 1.4288798469452049, 1.4287696083174521, 8.94992610736698, 1.4301667791592723, 1.4301723148574845, 7.825481031863795, 11.298683076429327, 13.385053927189269, 2.9289594303033692, 27.960570036263395, 34.72015380676242, 2.217567039380361, 93.1718119371073, 68.69868181915645, 2.9217461761219483, 2.315501120793162, 3.0306469570068155, 36.97181912516778, 3.2005987986049407, 5.869883123911331, 28.393363443797305, 7.150513228445611, 91.27124539147613, 29.954654221525573, 1.1560755573910408, 1.1556102560196961, 1.1594653335315246, 1.1646420770117638, 1.1639559218743254, 1.169576812256598, 1.1709031408882165, 1.171281998885928, 1.7801394583420966, 1.2711940264084438, 1.2758269168057321, 2.0148738811219773, 1.3695427468004133, 1.2839321331410105, 1.293144681566504, 1.2870920792424232, 1.378004562372828, 1.305041978272017, 1.3845862868462195, 2.7447235999446584, 1.3871627446853807, 1.3886125995724177, 1.3836181211207972, 0.8992217055694449, 0.8992113241009618, 0.8992122007578296, 0.9002599938584724, 1.3947500906890264, 0.9006708268077929, 0.9006860476952193, 1.4035936257782857, 2.879895941454071, 1.8945448306576211, 1.403331494679643, 1.3845834951691494, 3.2699986365579297, 1.825038794093164, 1.9675866617559565, 27.960570036263395, 4.599780518086005, 7.910667706060069, 2.95115013155432, 29.954654221525573, 36.97181912516778, 23.926411168286762, 91.27124539147613, 2.1656157866974377, 34.72015380676242, 93.1718119371073, 10.091174100913637, 68.69868181915645, 28.393363443797305, 13.175449365977528, 32.28561013159296, 40.24620847520307, 13.385053927189269, 7.74159757181177], \"logprob\": [30.0, 29.0, 28.0, 27.0, 26.0, 25.0, 24.0, 23.0, 22.0, 21.0, 20.0, 19.0, 18.0, 17.0, 16.0, 15.0, 14.0, 13.0, 12.0, 11.0, 10.0, 9.0, 8.0, 7.0, 6.0, 5.0, 4.0, 3.0, 2.0, 1.0, -5.7428, -5.7428, -5.8268, -5.8231, -5.8748, -6.3894, -6.3894, -6.3894, -6.3894, -6.3894, -6.3894, -6.3894, -6.3894, -6.3894, -6.3894, -6.3894, -6.3894, -6.3894, -6.3894, -6.3894, -6.3894, -6.3894, -6.3894, -6.3894, -6.3894, -6.3894, -6.3894, -6.3894, -6.3894, -6.3894, -4.2532, -5.9368, -5.2927, -3.58, -5.711, -5.3533, -2.9116, -5.8102, -5.7428, -5.7428, -2.9737, -6.0114, -4.9123, -5.6081, -5.8118, -4.0669, -4.2288, -3.4189, -4.03, -5.2098, -4.5247, -5.8424, -4.2774, -4.0218, -4.6164, -4.1516, -4.4403, -4.289, -5.2546, -5.4344, -4.9155, -5.0864, -4.4736, -5.1324, -5.3448, -5.3748, -5.218, -5.3458, -5.4846, -5.3782, -5.6342, -5.3181, -4.5259, -5.4684, -5.7928, -6.251, -6.251, -6.251, -6.251, -6.251, -6.2511, -6.2511, -6.2511, -6.2511, -6.2511, -6.2511, -6.2511, -6.2511, -6.2511, -6.2511, -6.2511, -6.2511, -6.2511, -6.2511, -6.2511, -6.2511, -6.2511, -6.2511, -6.2511, -6.2511, -4.6532, -4.3725, -3.5376, -5.6449, -3.9925, -5.3359, -5.7017, -3.0496, -3.75, -5.8864, -5.8868, -3.0808, -4.8626, -3.4243, -4.4107, -4.4541, -5.24, -5.1185, -4.1682, -4.1248, -5.3306, -5.4283, -5.9593, -5.215, -5.4681, -4.4992, -4.915, -4.4689, -5.1139, -5.0909, -5.2563, -5.056, -4.8476, -4.8373, -5.2965, -5.2885, -4.9285, -5.8157, -5.8157, -5.8157, -5.8157, -5.8157, -5.8157, -5.8157, -5.8157, -5.8157, -5.8157, -5.8157, -5.8157, -5.8157, -5.8157, -5.8157, -5.8157, -5.824, -5.8247, -5.8266, -5.827, -5.8307, -5.4311, -5.4398, -5.4464, -5.4735, -5.963, -5.9874, -5.9988, -5.4237, -5.5814, -5.5881, -4.6918, -2.9285, -4.2736, -3.1547, -4.058, -3.846, -3.8996, -5.0288, -3.8871, -4.002, -3.9732, -4.5825, -4.8575, -3.8273, -4.6748, -5.0209, -5.2499, -4.3867, -4.7802, -5.2542, -5.4656, -5.0591, -5.2945, -5.0839, -5.085, -5.3554, -5.305, -5.361, -5.3706, -5.3994, -5.3774, -5.0927, -5.668, -5.668, -5.668, -5.668, -5.668, -5.668, -5.668, -5.668, -5.668, -5.668, -5.668, -5.668, -5.668, -5.668, -5.668, -5.668, -5.668, -5.668, -5.6681, -5.6681, -5.6681, -5.6681, -5.6681, -5.7091, -5.7148, -5.7154, -5.7185, -5.7204, -5.7213, -4.0345, -4.7062, -4.6512, -5.3907, -4.221, -5.0214, -4.3913, -3.0889, -3.849, -4.6874, -4.6786, -5.1964, -4.4049, -3.8359, -4.7486, -5.1612, -5.0545, -4.7951, -3.6616, -5.0214, -5.1166, -4.3015, -4.7064, -5.0747, -5.0214, -4.8468, -4.1789, -5.0436, -4.5789, -4.6836, -4.8742, -4.874, -4.802, -4.9899, -5.052, -5.0511, -5.181, -5.2226, -4.5049, -5.3043, -4.9956, -5.7775, -5.7775, -5.7775, -5.7775, -5.7775, -5.7775, -5.7775, -5.7775, -5.7775, -5.7775, -5.7775, -5.7777, -5.3296, -5.827, -5.843, -5.8451, -5.8548, -5.8465, -5.8471, -4.9607, -5.85, -5.8537, -5.8561, -5.871, -5.8617, -5.1309, -5.233, -4.4757, -4.3176, -3.8303, -5.0828, -3.3236, -3.693, -4.305, -3.2374, -3.8324, -3.4721, -3.916, -5.2226, -4.1297, -4.8776, -4.3768, -5.1077, -4.3942, -4.8532, -5.0448, -4.564, -5.6227, -5.0359, -5.2404, -5.2837, -5.4912, -5.4912, -5.4912, -5.4912, -5.4912, -5.4912, -5.4912, -5.5089, -5.5104, -5.5111, -5.5112, -5.5113, -5.5139, -5.5141, -5.5143, -5.5165, -5.5194, -5.5197, -5.0803, -5.1404, -4.8655, -5.7675, -5.7992, -5.8113, -5.4869, -5.8331, -5.8584, -4.4694, -5.921, -5.929, -4.9842, -5.522, -4.327, -4.4971, -3.619, -3.6317, -3.1144, -4.3169, -3.5093, -3.7502, -4.1458, -4.5741, -4.2928, -4.338, -4.3008, -4.4824, -4.7108, -5.1749, -4.5003, -4.6203, -5.0142, -5.0562, -5.2226, -5.1747, -5.3579, -5.3046, -5.3443, -5.25, -5.2588, -4.5826, -5.2292, -5.2292, -5.2292, -5.2292, -5.2292, -5.2292, -5.2292, -5.2292, -5.2292, -5.2292, -5.2292, -5.2292, -5.2292, -5.2292, -5.2292, -5.2292, -5.2292, -5.2292, -5.2292, -4.5825, -5.4883, -5.5107, -5.5157, -5.5213, -5.5277, -5.5421, -5.5451, -5.5478, -5.5992, -5.2292, -5.2091, -3.5165, -5.2292, -5.2292, -3.6952, -4.1654, -4.8326, -5.2292, -5.0438, -3.6506, -4.2648, -4.0489, -4.4165, -4.2019, -4.5745, -4.8881, -4.6568, -4.9892, -4.6825, -5.0768, -4.9313, -5.1453, -5.0781, -5.0843, -5.1552, -5.1861, -5.143, -5.1881, -5.2292, -5.2292, -5.2292, -4.7407, -4.7407, -4.7407, -4.7431, -4.7441, -4.7441, -4.7446, -4.7448, -4.7453, -4.7454, -4.7467, -4.0964, -4.7444, -4.7407, -4.7454, -4.7442, -4.7451, -4.7431, -5.6045, -5.6565, -5.7518, -5.7574, -5.7635, -5.7934, -5.8071, -5.8194, -5.8304, -5.8826, -5.3904, -3.949, -4.7433, -4.7429, -4.7407, -4.7455, -4.7447, -4.34, -4.1565, -5.5715, -4.683, -4.803, -4.744, -4.7026, -4.5756, -4.6176, -4.6245, -4.6257, -4.6507, -4.6175, -4.6006, -4.5944, -6.3539, -6.3776, -6.3934, -6.8686, -6.8686, -6.8686, -6.8686, -6.8686, -6.8686, -6.8686, -6.8686, -6.8686, -6.8686, -6.8686, -6.4183, -6.4411, -6.2922, -6.4771, -6.4837, -4.6577, -6.5001, -6.5001, -4.9479, -4.6254, -4.6268, -6.0644, -4.5957, -4.4886, -6.3304, -4.3297, -4.5874, -6.2521, -6.4354, -6.3593, -5.8443, -6.3661, -6.278, -6.2456, -6.3643, -6.3056, -6.3676, -5.6015, -5.6342, -5.6462, -5.6695, -5.6728, -5.668, -5.6818, -5.6924, -5.6493, -6.1216, -6.1674, -5.7357, -6.228, -6.2956, -6.2894, -6.3439, -6.2784, -6.366, -6.3356, -5.658, -6.357, -6.3632, -6.4099, -6.8521, -6.8522, -6.8522, -6.8522, -6.4147, -6.8522, -6.8522, -6.4169, -5.7197, -6.1396, -6.436, -6.4562, -5.7015, -6.2562, -6.2336, -4.7888, -5.776, -5.4942, -6.036, -4.9323, -4.9982, -5.2147, -4.8233, -6.1881, -5.3434, -5.0515, -5.7417, -5.4385, -5.7305, -5.8698, -5.7791, -5.7856, -5.9221, -5.9805]}};\n",
       "\n",
       "function LDAvis_load_lib(url, callback){\n",
       "  var s = document.createElement('script');\n",
       "  s.src = url;\n",
       "  s.async = true;\n",
       "  s.onreadystatechange = s.onload = callback;\n",
       "  s.onerror = function(){console.warn(\"failed to load library \" + url);};\n",
       "  document.getElementsByTagName(\"head\")[0].appendChild(s);\n",
       "}\n",
       "\n",
       "if(typeof(LDAvis) !== \"undefined\"){\n",
       "   // already loaded: just create the visualization\n",
       "   !function(LDAvis){\n",
       "       new LDAvis(\"#\" + \"ldavis_el62781401672802080806686625889\", ldavis_el62781401672802080806686625889_data);\n",
       "   }(LDAvis);\n",
       "}else if(typeof define === \"function\" && define.amd){\n",
       "   // require.js is available: use it to load d3/LDAvis\n",
       "   require.config({paths: {d3: \"https://cdnjs.cloudflare.com/ajax/libs/d3/3.5.5/d3.min\"}});\n",
       "   require([\"d3\"], function(d3){\n",
       "      window.d3 = d3;\n",
       "      LDAvis_load_lib(\"https://cdn.rawgit.com/bmabey/pyLDAvis/files/ldavis.v1.0.0.js\", function(){\n",
       "        new LDAvis(\"#\" + \"ldavis_el62781401672802080806686625889\", ldavis_el62781401672802080806686625889_data);\n",
       "      });\n",
       "    });\n",
       "}else{\n",
       "    // require.js not available: dynamically load d3 & LDAvis\n",
       "    LDAvis_load_lib(\"https://cdnjs.cloudflare.com/ajax/libs/d3/3.5.5/d3.min.js\", function(){\n",
       "         LDAvis_load_lib(\"https://cdn.rawgit.com/bmabey/pyLDAvis/files/ldavis.v1.0.0.js\", function(){\n",
       "                 new LDAvis(\"#\" + \"ldavis_el62781401672802080806686625889\", ldavis_el62781401672802080806686625889_data);\n",
       "            })\n",
       "         });\n",
       "}\n",
       "</script>"
      ],
      "text/plain": [
       "PreparedData(topic_coordinates=            Freq  cluster  topics         x         y\n",
       "topic                                                \n",
       "9      25.910044        1       1  0.062984 -0.037186\n",
       "4      21.706515        1       2  0.081099 -0.041623\n",
       "2      13.736768        1       3  0.068655 -0.011713\n",
       "3      10.950379        1       4  0.002043  0.135704\n",
       "1      10.755028        1       5  0.053291  0.004742\n",
       "8       8.161868        1       6  0.031437  0.007277\n",
       "0       5.689251        1       7 -0.049601  0.008168\n",
       "5       1.678223        1       8 -0.104005 -0.042601\n",
       "6       1.018043        1       9 -0.080729 -0.016311\n",
       "7       0.393880        1      10 -0.065174 -0.006456, topic_info=     Category       Freq       Term      Total  loglift  logprob\n",
       "term                                                            \n",
       "15    Default  27.000000         to  27.000000  30.0000  30.0000\n",
       "547   Default  34.000000         it  34.000000  29.0000  29.0000\n",
       "221   Default  93.000000          ,  93.000000  28.0000  28.0000\n",
       "545   Default  29.000000         is  29.000000  27.0000  27.0000\n",
       "107   Default   8.000000       from   8.000000  26.0000  26.0000\n",
       "311   Default  23.000000          \"  23.000000  25.0000  25.0000\n",
       "510   Default  68.000000          .  68.000000  24.0000  24.0000\n",
       "237   Default   8.000000       they   8.000000  23.0000  23.0000\n",
       "666   Default  10.000000        for  10.000000  22.0000  22.0000\n",
       "626   Default  32.000000        '_s  32.000000  21.0000  21.0000\n",
       "791   Default   7.000000  there_are   7.000000  20.0000  20.0000\n",
       "419   Default   5.000000     pretty   5.000000  19.0000  19.0000\n",
       "136   Default  13.000000       this  13.000000  18.0000  18.0000\n",
       "693   Default  14.000000         on  14.000000  17.0000  17.0000\n",
       "734   Default  11.000000        but  11.000000  16.0000  16.0000\n",
       "458   Default  11.000000      movie  11.000000  15.0000  15.0000\n",
       "697   Default  36.000000         of  36.000000  14.0000  14.0000\n",
       "586   Default   7.000000          i   7.000000  13.0000  13.0000\n",
       "454   Default   9.000000        are   9.000000  12.0000  12.0000\n",
       "553   Default  15.000000         in  15.000000  11.0000  11.0000\n",
       "351   Default  40.000000        and  40.000000  10.0000  10.0000\n",
       "594   Default  91.000000        the  91.000000   9.0000   9.0000\n",
       "740   Default  13.000000       with  13.000000   8.0000   8.0000\n",
       "598   Default   5.000000       just   5.000000   7.0000   7.0000\n",
       "678   Default   8.000000          ?   8.000000   6.0000   6.0000\n",
       "355   Default   2.000000       have   2.000000   5.0000   5.0000\n",
       "623   Default  13.000000        '_t  13.000000   4.0000   4.0000\n",
       "640   Default   4.000000         --   4.000000   3.0000   3.0000\n",
       "189   Default  38.000000          a  38.000000   2.0000   2.0000\n",
       "159   Default   1.000000          !   1.000000   1.0000   1.0000\n",
       "...       ...        ...        ...        ...      ...      ...\n",
       "143   Topic10   0.014529     making   1.394750   0.9726  -6.4147\n",
       "529   Topic10   0.009381      plain   0.900671   0.9724  -6.8522\n",
       "308   Topic10   0.009381    visions   0.900686   0.9724  -6.8522\n",
       "184   Topic10   0.014498       such   1.403594   0.9641  -6.4169\n",
       "73    Topic10   0.029112     disney   2.879896   0.9425  -5.7197\n",
       "511   Topic10   0.019130     secret   1.894545   0.9414  -6.1396\n",
       "165   Topic10   0.014223      write   1.403331   0.9451  -6.4360\n",
       "41    Topic10   0.013939     flashy   1.384583   0.9384  -6.4562\n",
       "628   Topic10   0.029647      quest   3.269999   0.8337  -5.7015\n",
       "130   Topic10   0.017024      given   1.825039   0.8622  -6.2562\n",
       "215   Topic10   0.017414     before   1.967587   0.8096  -6.2336\n",
       "15    Topic10   0.073855         to  27.960570  -0.3996  -4.7888\n",
       "172   Topic10   0.027520         if   4.599781   0.4180  -5.7760\n",
       "762   Topic10   0.036476         an   7.910668   0.1576  -5.4942\n",
       "714   Topic10   0.021220       your   2.951150   0.6019  -6.0360\n",
       "545   Topic10   0.063980         is  29.954654  -0.6120  -4.9323\n",
       "697   Topic10   0.059903         of  36.971819  -0.8883  -4.9982\n",
       "311   Topic10   0.048238          \"  23.926411  -0.6697  -5.2147\n",
       "594   Topic10   0.071352        the  91.271245  -1.6171  -4.8233\n",
       "140   Topic10   0.018224     movies   2.165616   0.7592  -6.1881\n",
       "547   Topic10   0.042413         it  34.720154  -1.1707  -5.3434\n",
       "221   Topic10   0.056792          ,  93.171812  -1.8659  -5.0515\n",
       "666   Topic10   0.028480        for  10.091174  -0.3333  -5.7417\n",
       "510   Topic10   0.038568          .  68.698682  -1.9482  -5.4385\n",
       "325   Topic10   0.028802       that  28.393363  -1.3566  -5.7305\n",
       "623   Topic10   0.025054        '_t  13.175449  -0.7282  -5.8698\n",
       "626   Topic10   0.027433        '_s  32.285610  -1.5337  -5.7791\n",
       "351   Topic10   0.027258        and  40.246208  -1.7606  -5.7856\n",
       "136   Topic10   0.023779       this  13.385054  -0.7962  -5.9221\n",
       "586   Topic10   0.022430          i   7.741598  -0.3071  -5.9805\n",
       "\n",
       "[620 rows x 6 columns], token_table=      Topic      Freq     Term\n",
       "term                          \n",
       "159       6  0.528944        !\n",
       "159       8  0.528944        !\n",
       "311       1  0.292564        \"\n",
       "311       2  0.083590        \"\n",
       "311       3  0.208974        \"\n",
       "311       4  0.208974        \"\n",
       "311       5  0.041795        \"\n",
       "311       6  0.083590        \"\n",
       "311       7  0.041795        \"\n",
       "110       1  0.720143        &\n",
       "266       1  0.422563        '\n",
       "266       2  0.105641        '\n",
       "266       3  0.105641        '\n",
       "266       4  0.211282        '\n",
       "266       5  0.105641        '\n",
       "266       7  0.105641        '\n",
       "626       1  0.309736      '_s\n",
       "626       2  0.247788      '_s\n",
       "626       3  0.185841      '_s\n",
       "626       4  0.030974      '_s\n",
       "626       5  0.092921      '_s\n",
       "626       6  0.061947      '_s\n",
       "626       7  0.030974      '_s\n",
       "623       1  0.151797      '_t\n",
       "623       2  0.151797      '_t\n",
       "623       3  0.227696      '_t\n",
       "623       4  0.227696      '_t\n",
       "623       5  0.075899      '_t\n",
       "623       6  0.151797      '_t\n",
       "410       1  0.320650        (\n",
       "...     ...       ...      ...\n",
       "371       2  0.161271    which\n",
       "371       3  0.161271    which\n",
       "371       5  0.161271    which\n",
       "376       1  0.220030      who\n",
       "376       2  0.220030      who\n",
       "376       4  0.440060      who\n",
       "376       5  0.220030      who\n",
       "382       3  0.457852      why\n",
       "98        3  0.695621      win\n",
       "740       1  0.610784     with\n",
       "740       3  0.076348     with\n",
       "740       4  0.152696     with\n",
       "740       6  0.076348     with\n",
       "707       4  0.727887   within\n",
       "246       6  0.776249   wooden\n",
       "444       2  0.686638  worried\n",
       "320       7  0.817425  wrapped\n",
       "165       1  0.712590    write\n",
       "182       4  0.727886    wrong\n",
       "259       6  0.776249     year\n",
       "210       7  0.817425    years\n",
       "779       2  0.402007      you\n",
       "779       3  0.134002      you\n",
       "779       4  0.134002      you\n",
       "779       5  0.134002      you\n",
       "779       7  0.134002      you\n",
       "12        1  0.671061    young\n",
       "714       1  0.338851     your\n",
       "714       2  0.338851     your\n",
       "714       4  0.338851     your\n",
       "\n",
       "[676 rows x 3 columns], R=30, lambda_step=0.01, plot_opts={'xlab': 'PC1', 'ylab': 'PC2'}, topic_order=[10, 5, 3, 4, 2, 9, 1, 6, 7, 8])"
      ]
     },
     "execution_count": 28,
     "metadata": {},
     "output_type": "execute_result"
    }
   ],
   "source": [
    "pyLDAvis.gensim.prepare(LDA_model, corpus_processed,\n",
    "                        id2word)"
   ]
  },
  {
   "cell_type": "markdown",
   "metadata": {},
   "source": [
    "## Wordnet\n",
    "\n",
    "More details at: \n",
    "* http://www.nltk.org/howto/wordnet.html\n",
    "* https://wordnet.princeton.edu/"
   ]
  },
  {
   "cell_type": "code",
   "execution_count": 29,
   "metadata": {
    "collapsed": false
   },
   "outputs": [
    {
     "name": "stdout",
     "output_type": "stream",
     "text": [
      "[nltk_data] Downloading package wordnet to\n",
      "[nltk_data]     /homed/smishra8/nltk_data...\n",
      "[nltk_data]   Package wordnet is already up-to-date!\n"
     ]
    },
    {
     "data": {
      "text/plain": [
       "True"
      ]
     },
     "execution_count": 29,
     "metadata": {},
     "output_type": "execute_result"
    }
   ],
   "source": [
    "nltk.download(\"wordnet\")"
   ]
  },
  {
   "cell_type": "code",
   "execution_count": 30,
   "metadata": {
    "collapsed": true
   },
   "outputs": [],
   "source": [
    "from nltk.corpus import wordnet as wn"
   ]
  },
  {
   "cell_type": "code",
   "execution_count": 31,
   "metadata": {
    "collapsed": false
   },
   "outputs": [
    {
     "data": {
      "text/plain": [
       "[Synset('dog.n.01'),\n",
       " Synset('frump.n.01'),\n",
       " Synset('dog.n.03'),\n",
       " Synset('cad.n.01'),\n",
       " Synset('frank.n.02'),\n",
       " Synset('pawl.n.01'),\n",
       " Synset('andiron.n.01'),\n",
       " Synset('chase.v.01')]"
      ]
     },
     "execution_count": 31,
     "metadata": {},
     "output_type": "execute_result"
    }
   ],
   "source": [
    "wn.synsets('dog')"
   ]
  },
  {
   "cell_type": "markdown",
   "metadata": {},
   "source": [
    "## Sentiwordnet\n",
    "\n",
    "More details at: \n",
    "* http://www.nltk.org/howto/sentiwordnet.html\n",
    "* http://sentiwordnet.isti.cnr.it/"
   ]
  },
  {
   "cell_type": "code",
   "execution_count": 32,
   "metadata": {
    "collapsed": false
   },
   "outputs": [
    {
     "name": "stdout",
     "output_type": "stream",
     "text": [
      "[nltk_data] Downloading package sentiwordnet to\n",
      "[nltk_data]     /homed/smishra8/nltk_data...\n",
      "[nltk_data]   Package sentiwordnet is already up-to-date!\n"
     ]
    },
    {
     "data": {
      "text/plain": [
       "True"
      ]
     },
     "execution_count": 32,
     "metadata": {},
     "output_type": "execute_result"
    }
   ],
   "source": [
    "nltk.download(\"sentiwordnet\")"
   ]
  },
  {
   "cell_type": "code",
   "execution_count": 33,
   "metadata": {
    "collapsed": true
   },
   "outputs": [],
   "source": [
    "from nltk.corpus import sentiwordnet as swn"
   ]
  },
  {
   "cell_type": "code",
   "execution_count": 34,
   "metadata": {
    "collapsed": false
   },
   "outputs": [
    {
     "name": "stdout",
     "output_type": "stream",
     "text": [
      "<breakdown.n.03: PosScore=0.0 NegScore=0.25>\n"
     ]
    }
   ],
   "source": [
    "breakdown = swn.senti_synset('breakdown.n.03')\n",
    "print breakdown"
   ]
  },
  {
   "cell_type": "markdown",
   "metadata": {},
   "source": [
    "## POS Tagging"
   ]
  },
  {
   "cell_type": "code",
   "execution_count": 35,
   "metadata": {
    "collapsed": false
   },
   "outputs": [
    {
     "name": "stdout",
     "output_type": "stream",
     "text": [
      "[nltk_data] Downloading package averaged_perceptron_tagger to\n",
      "[nltk_data]     /homed/smishra8/nltk_data...\n",
      "[nltk_data]   Package averaged_perceptron_tagger is already up-to-\n",
      "[nltk_data]       date!\n"
     ]
    },
    {
     "data": {
      "text/plain": [
       "True"
      ]
     },
     "execution_count": 35,
     "metadata": {},
     "output_type": "execute_result"
    }
   ],
   "source": [
    "nltk.download(\"averaged_perceptron_tagger\")"
   ]
  },
  {
   "cell_type": "code",
   "execution_count": 36,
   "metadata": {
    "collapsed": false
   },
   "outputs": [
    {
     "data": {
      "text/plain": [
       "[('And', 'CC'),\n",
       " ('now', 'RB'),\n",
       " ('for', 'IN'),\n",
       " ('something', 'NN'),\n",
       " ('completely', 'RB'),\n",
       " ('different', 'JJ')]"
      ]
     },
     "execution_count": 36,
     "metadata": {},
     "output_type": "execute_result"
    }
   ],
   "source": [
    "text = nltk.word_tokenize(\"And now for something completely different\")\n",
    "nltk.pos_tag(text)\n",
    "    "
   ]
  },
  {
   "cell_type": "markdown",
   "metadata": {},
   "source": [
    "## Named Entity Recognition"
   ]
  },
  {
   "cell_type": "code",
   "execution_count": 37,
   "metadata": {
    "collapsed": false
   },
   "outputs": [
    {
     "name": "stdout",
     "output_type": "stream",
     "text": [
      "[nltk_data] Downloading package maxent_ne_chunker to\n",
      "[nltk_data]     /homed/smishra8/nltk_data...\n",
      "[nltk_data]   Package maxent_ne_chunker is already up-to-date!\n",
      "[nltk_data] Downloading package words to /homed/smishra8/nltk_data...\n",
      "[nltk_data]   Package words is already up-to-date!\n",
      "[nltk_data] Downloading package stopwords to\n",
      "[nltk_data]     /homed/smishra8/nltk_data...\n",
      "[nltk_data]   Package stopwords is already up-to-date!\n"
     ]
    },
    {
     "data": {
      "text/plain": [
       "True"
      ]
     },
     "execution_count": 37,
     "metadata": {},
     "output_type": "execute_result"
    }
   ],
   "source": [
    "nltk.download([\"maxent_ne_chunker\", \"words\", \"stopwords\"])"
   ]
  },
  {
   "cell_type": "code",
   "execution_count": 38,
   "metadata": {
    "collapsed": false
   },
   "outputs": [
    {
     "name": "stdout",
     "output_type": "stream",
     "text": [
      "[('US', 'NNP'), ('president', 'NN'), ('Barack', 'NNP'), ('Obama', 'NNP'), ('signed', 'VBD'), ('a', 'DT'), ('new', 'JJ'), ('treaty', 'NN'), ('with', 'IN'), ('the', 'DT'), ('Indian', 'JJ'), ('prime', 'JJ'), ('minister', 'NN'), ('Narendra', 'NNP'), ('Modi', 'NNP'), (',', ','), ('in', 'IN'), ('New', 'NNP'), ('Delhi', 'NNP'), ('.', '.')]\n"
     ]
    }
   ],
   "source": [
    "text = nltk.word_tokenize(\"US president Barack Obama signed a new treaty with the Indian prime minister Narendra Modi, in New Delhi.\")\n",
    "pos_tags = nltk.pos_tag(text)\n",
    "print pos_tags"
   ]
  },
  {
   "cell_type": "code",
   "execution_count": 39,
   "metadata": {
    "collapsed": false
   },
   "outputs": [
    {
     "name": "stdout",
     "output_type": "stream",
     "text": [
      "(S\n",
      "  (GPE US/NNP)\n",
      "  president/NN\n",
      "  (PERSON Barack/NNP Obama/NNP)\n",
      "  signed/VBD\n",
      "  a/DT\n",
      "  new/JJ\n",
      "  treaty/NN\n",
      "  with/IN\n",
      "  the/DT\n",
      "  (GPE Indian/JJ)\n",
      "  prime/JJ\n",
      "  minister/NN\n",
      "  (PERSON Narendra/NNP Modi/NNP)\n",
      "  ,/,\n",
      "  in/IN\n",
      "  (GPE New/NNP Delhi/NNP)\n",
      "  ./.)\n"
     ]
    }
   ],
   "source": [
    "try:\n",
    "    chunk_tags = nltk.ne_chunk(pos_tags, binary=False)\n",
    "except:\n",
    "    print \"Done\"\n",
    "print chunk_tags"
   ]
  },
  {
   "cell_type": "code",
   "execution_count": null,
   "metadata": {
    "collapsed": true
   },
   "outputs": [],
   "source": []
  }
 ],
 "metadata": {
  "anaconda-cloud": {},
  "kernelspec": {
   "display_name": "Python [conda env:datamining]",
   "language": "python",
   "name": "conda-env-datamining-py"
  },
  "language_info": {
   "codemirror_mode": {
    "name": "ipython",
    "version": 2
   },
   "file_extension": ".py",
   "mimetype": "text/x-python",
   "name": "python",
   "nbconvert_exporter": "python",
   "pygments_lexer": "ipython2",
   "version": "2.7.12"
  }
 },
 "nbformat": 4,
 "nbformat_minor": 1
}
