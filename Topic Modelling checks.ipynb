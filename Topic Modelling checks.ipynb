{
 "cells": [
  {
   "cell_type": "code",
   "execution_count": 1,
   "metadata": {
    "collapsed": true
   },
   "outputs": [],
   "source": [
    "%matplotlib inline\n",
    "import numpy as np\n",
    "import pandas as pd\n",
    "\n",
    "import matplotlib.pyplot as plt\n",
    "import seaborn as sns\n",
    "\n",
    "import nltk\n",
    "\n",
    "import gensim\n",
    "import sklearn\n",
    "\"\"\"\n",
    "from gensim import corpora, models, similarities\n",
    "from gensim.utils import smart_open, simple_preprocess\n",
    "from gensim.matutils import corpus2csc\n",
    "from gensim.parsing.preprocessing import STOPWORDS\n",
    "\"\"\"\n",
    "import pyLDAvis\n",
    "pyLDAvis.enable_notebook()\n",
    "import pyLDAvis.gensim"
   ]
  },
  {
   "cell_type": "code",
   "execution_count": 2,
   "metadata": {
    "collapsed": true
   },
   "outputs": [],
   "source": [
    "sns.set_context(\"poster\")\n",
    "sns.set_style(\"ticks\")"
   ]
  },
  {
   "cell_type": "code",
   "execution_count": 3,
   "metadata": {
    "collapsed": false
   },
   "outputs": [
    {
     "name": "stdout",
     "output_type": "stream",
     "text": [
      "Numpy version:  1.11.2\n",
      "Pandas version:  0.19.0\n",
      "Matplotlib version:  1.5.3\n",
      "Seaborn version:  0.7.1\n",
      "Sklearn version:  0.18\n",
      "NLTK version:  3.2.1\n",
      "Gensim version:  0.12.4\n",
      "PyLDAvis version:  2.0.0\n"
     ]
    }
   ],
   "source": [
    "print \"Numpy version: \", np.__version__\n",
    "print \"Pandas version: \", pd.__version__\n",
    "print \"Matplotlib version: \", plt.matplotlib.__version__\n",
    "print \"Seaborn version: \", sns.__version__\n",
    "print \"Sklearn version: \", sklearn.__version__\n",
    "print \"NLTK version: \", nltk.__version__\n",
    "print \"Gensim version: \", gensim.__version__\n",
    "print \"PyLDAvis version: \", pyLDAvis.__version__"
   ]
  },
  {
   "cell_type": "markdown",
   "metadata": {},
   "source": [
    "## NLTK checks\n",
    "\n",
    "More details at: http://www.nltk.org/"
   ]
  },
  {
   "cell_type": "code",
   "execution_count": 4,
   "metadata": {
    "collapsed": false
   },
   "outputs": [
    {
     "name": "stdout",
     "output_type": "stream",
     "text": [
      "[nltk_data] Downloading package movie_reviews to\n",
      "[nltk_data]     /homed/smishra8/nltk_data...\n",
      "[nltk_data]   Package movie_reviews is already up-to-date!\n"
     ]
    },
    {
     "data": {
      "text/plain": [
       "True"
      ]
     },
     "execution_count": 4,
     "metadata": {},
     "output_type": "execute_result"
    }
   ],
   "source": [
    "nltk.download(\"movie_reviews\")"
   ]
  },
  {
   "cell_type": "code",
   "execution_count": 5,
   "metadata": {
    "collapsed": true
   },
   "outputs": [],
   "source": [
    "from nltk.corpus import movie_reviews"
   ]
  },
  {
   "cell_type": "code",
   "execution_count": 6,
   "metadata": {
    "collapsed": false
   },
   "outputs": [
    {
     "data": {
      "text/plain": [
       "[u'neg', u'pos']"
      ]
     },
     "execution_count": 6,
     "metadata": {},
     "output_type": "execute_result"
    }
   ],
   "source": [
    "movie_reviews.categories()"
   ]
  },
  {
   "cell_type": "code",
   "execution_count": 7,
   "metadata": {
    "collapsed": false
   },
   "outputs": [
    {
     "data": {
      "text/plain": [
       "[u'plot', u':', u'two', u'teen', u'couples', u'go', ...]"
      ]
     },
     "execution_count": 7,
     "metadata": {},
     "output_type": "execute_result"
    }
   ],
   "source": [
    "movie_reviews.words()"
   ]
  },
  {
   "cell_type": "code",
   "execution_count": 8,
   "metadata": {
    "collapsed": true
   },
   "outputs": [],
   "source": [
    "sents = movie_reviews.sents()"
   ]
  },
  {
   "cell_type": "code",
   "execution_count": 9,
   "metadata": {
    "collapsed": false
   },
   "outputs": [
    {
     "data": {
      "text/plain": [
       "71532"
      ]
     },
     "execution_count": 9,
     "metadata": {},
     "output_type": "execute_result"
    }
   ],
   "source": [
    "len(sents)"
   ]
  },
  {
   "cell_type": "code",
   "execution_count": 10,
   "metadata": {
    "collapsed": false
   },
   "outputs": [
    {
     "data": {
      "text/plain": [
       "[u'plot',\n",
       " u':',\n",
       " u'two',\n",
       " u'teen',\n",
       " u'couples',\n",
       " u'go',\n",
       " u'to',\n",
       " u'a',\n",
       " u'church',\n",
       " u'party',\n",
       " u',',\n",
       " u'drink',\n",
       " u'and',\n",
       " u'then',\n",
       " u'drive',\n",
       " u'.']"
      ]
     },
     "execution_count": 10,
     "metadata": {},
     "output_type": "execute_result"
    }
   ],
   "source": [
    "sents[0]"
   ]
  },
  {
   "cell_type": "code",
   "execution_count": 11,
   "metadata": {
    "collapsed": false
   },
   "outputs": [
    {
     "name": "stdout",
     "output_type": "stream",
     "text": [
      "S[0]:\tplot : two teen couples go to a church party , drink and then drive .\n",
      "S[1]:\tthey get into an accident .\n",
      "S[2]:\tone of the guys dies , but his girlfriend continues to see him in her life , and has nightmares .\n",
      "S[3]:\twhat ' s the deal ?\n",
      "S[4]:\twatch the movie and \" sorta \" find out .\n",
      "S[5]:\t.\n",
      "S[6]:\t.\n",
      "S[7]:\tcritique : a mind - fuck movie for the teen generation that touches on a very cool idea , but presents it in a very bad package .\n",
      "S[8]:\twhich is what makes this review an even harder one to write , since i generally applaud films which attempt to break the mold , mess with your head and such ( lost highway & memento ) , but there are good and bad ways of making all types of films , and these folks just didn ' t snag this one correctly .\n",
      "S[9]:\tthey seem to have taken this pretty neat concept , but executed it terribly .\n"
     ]
    }
   ],
   "source": [
    "for i, s in enumerate(sents[:10]):\n",
    "    print \"S[%s]:\\t%s\" % (i, \" \".join(s))"
   ]
  },
  {
   "cell_type": "markdown",
   "metadata": {},
   "source": [
    "## Gensim checks\n",
    "More details at: https://radimrehurek.com/gensim/"
   ]
  },
  {
   "cell_type": "code",
   "execution_count": 12,
   "metadata": {
    "collapsed": true
   },
   "outputs": [],
   "source": [
    "bigrams = gensim.models.Phrases(sents[:100])"
   ]
  },
  {
   "cell_type": "code",
   "execution_count": 13,
   "metadata": {
    "collapsed": false
   },
   "outputs": [
    {
     "data": {
      "text/plain": [
       "[('of_making', 1),\n",
       " ('and_most', 1),\n",
       " ('mir_)', 1),\n",
       " ('keeping_score', 1),\n",
       " ('\"_into', 1),\n",
       " ('before_it', 1),\n",
       " ('the_tale', 1),\n",
       " ('they_are', 4),\n",
       " ('i_checked', 1),\n",
       " ('poorly', 2)]"
      ]
     },
     "execution_count": 13,
     "metadata": {},
     "output_type": "execute_result"
    }
   ],
   "source": [
    "bigrams.vocab.items()[0:10]"
   ]
  },
  {
   "cell_type": "code",
   "execution_count": 14,
   "metadata": {
    "collapsed": false
   },
   "outputs": [
    {
     "data": {
      "text/plain": [
       "[(',', 116),\n",
       " ('the', 112),\n",
       " ('.', 86),\n",
       " (\"'\", 67),\n",
       " ('and', 50),\n",
       " ('a', 47),\n",
       " ('of', 46),\n",
       " ('it', 45),\n",
       " (\"'_s\", 40),\n",
       " ('s', 40)]"
      ]
     },
     "execution_count": 14,
     "metadata": {},
     "output_type": "execute_result"
    }
   ],
   "source": [
    "sorted(bigrams.vocab.iteritems(), key=lambda x: x[1], reverse=True)[:10]"
   ]
  },
  {
   "cell_type": "code",
   "execution_count": 15,
   "metadata": {
    "collapsed": true
   },
   "outputs": [],
   "source": [
    "word_frequencies = map(lambda x: x[1], bigrams.vocab.iteritems())"
   ]
  },
  {
   "cell_type": "code",
   "execution_count": 16,
   "metadata": {
    "collapsed": false
   },
   "outputs": [
    {
     "data": {
      "image/png": "[encoded data removed]",
      "text/plain": [
       "<matplotlib.figure.Figure at 0x7fcec66b5150>"
      ]
     },
     "metadata": {},
     "output_type": "display_data"
    }
   ],
   "source": [
    "plt.hist(word_frequencies, bins=range(0,70000, 1000), log=True)\n",
    "plt.xscale(\"symlog\")"
   ]
  },
  {
   "cell_type": "code",
   "execution_count": 17,
   "metadata": {
    "collapsed": false
   },
   "outputs": [
    {
     "data": {
      "text/plain": [
       "[(\"'_s\", 40),\n",
       " (\"'_t\", 16),\n",
       " (',_and', 13),\n",
       " (',_but', 11),\n",
       " (\"it_'\", 10),\n",
       " ('the_film', 9),\n",
       " ('there_are', 9),\n",
       " ('that_the', 8),\n",
       " ('of_the', 8),\n",
       " ('/_10', 8),\n",
       " ('10_)', 8),\n",
       " (',_it', 8),\n",
       " (')_-', 7),\n",
       " (\"don_'\", 7),\n",
       " (',_there', 6),\n",
       " (')_,', 6),\n",
       " ('with_the', 6),\n",
       " (',_the', 6),\n",
       " ('film_is', 6),\n",
       " ('and_the', 5),\n",
       " ('for_the', 5),\n",
       " ('they_are', 4),\n",
       " ('the_movie', 4),\n",
       " ('the_characters', 4),\n",
       " ('in_a', 4),\n",
       " ('this_film', 4),\n",
       " ('on_the', 4),\n",
       " (',_as', 4),\n",
       " ('most_of', 4),\n",
       " ('of_a', 4)]"
      ]
     },
     "execution_count": 17,
     "metadata": {},
     "output_type": "execute_result"
    }
   ],
   "source": [
    "sorted(filter(lambda x: isinstance(x[0], str) and \"_\" in x[0], \n",
    "        bigrams.vocab.iteritems()), key=lambda x: x[1], reverse=True)[:30]"
   ]
  },
  {
   "cell_type": "code",
   "execution_count": 18,
   "metadata": {
    "collapsed": false
   },
   "outputs": [],
   "source": [
    "corpus = bigrams[sents[:100]]\n",
    "id2word = gensim.corpora.Dictionary(corpus)"
   ]
  },
  {
   "cell_type": "code",
   "execution_count": 19,
   "metadata": {
    "collapsed": false
   },
   "outputs": [
    {
     "data": {
      "text/plain": [
       "804"
      ]
     },
     "execution_count": 19,
     "metadata": {},
     "output_type": "execute_result"
    }
   ],
   "source": [
    "len(id2word.keys())"
   ]
  },
  {
   "cell_type": "code",
   "execution_count": 20,
   "metadata": {
    "collapsed": false
   },
   "outputs": [
    {
     "name": "stdout",
     "output_type": "stream",
     "text": [
      "100\n"
     ]
    }
   ],
   "source": [
    "corpus_processed = [id2word.doc2bow(k) for k in corpus]\n",
    "print len(corpus_processed)"
   ]
  },
  {
   "cell_type": "code",
   "execution_count": 21,
   "metadata": {
    "collapsed": false
   },
   "outputs": [
    {
     "data": {
      "text/plain": [
       "[(0, 1),\n",
       " (1, 1),\n",
       " (2, 1),\n",
       " (3, 1),\n",
       " (4, 1),\n",
       " (5, 1),\n",
       " (6, 1),\n",
       " (7, 1),\n",
       " (8, 1),\n",
       " (9, 1),\n",
       " (10, 1),\n",
       " (11, 1),\n",
       " (12, 1),\n",
       " (13, 1),\n",
       " (14, 1),\n",
       " (15, 1)]"
      ]
     },
     "execution_count": 21,
     "metadata": {},
     "output_type": "execute_result"
    }
   ],
   "source": [
    "corpus_processed[0]"
   ]
  },
  {
   "cell_type": "code",
   "execution_count": 22,
   "metadata": {
    "collapsed": false
   },
   "outputs": [
    {
     "data": {
      "text/plain": [
       "[u'plot',\n",
       " u':',\n",
       " u'two',\n",
       " u'teen',\n",
       " u'couples',\n",
       " u'go',\n",
       " u'to',\n",
       " u'a',\n",
       " u'church',\n",
       " u'party',\n",
       " u',',\n",
       " u'drink',\n",
       " u'and',\n",
       " u'then',\n",
       " u'drive',\n",
       " u'.']"
      ]
     },
     "execution_count": 22,
     "metadata": {},
     "output_type": "execute_result"
    }
   ],
   "source": [
    "corpus[0]"
   ]
  },
  {
   "cell_type": "code",
   "execution_count": 23,
   "metadata": {
    "collapsed": false
   },
   "outputs": [],
   "source": [
    "LDA_model = gensim.models.ldamodel.LdaModel(corpus_processed, num_topics=10, id2word=id2word)"
   ]
  },
  {
   "cell_type": "code",
   "execution_count": 24,
   "metadata": {
    "collapsed": false
   },
   "outputs": [
    {
     "data": {
      "text/plain": [
       "[(0,\n",
       "  u\"0.072*the + 0.028*is + 0.026*that + 0.024*of + 0.024*. + 0.022*to + 0.020*'_s + 0.015*with + 0.013*( + 0.013*it\"),\n",
       " (1,\n",
       "  u\"0.065*, + 0.045*the + 0.030*. + 0.025*and + 0.023*a + 0.019*'_s + 0.017*that + 0.016*of + 0.015*is + 0.015*it\"),\n",
       " (2,\n",
       "  u\"0.036*the + 0.027*it + 0.024*, + 0.024*and + 0.019*of + 0.019*. + 0.017*that + 0.017*'_s + 0.011*- + 0.010*is\"),\n",
       " (3,\n",
       "  u'0.043*, + 0.041*\" + 0.022*\\'_s + 0.020*( + 0.019*. + 0.019*the + 0.018*- + 0.014*/_10 + 0.014*) + 0.011*to'),\n",
       " (4,\n",
       "  u'0.034*, + 0.033*. + 0.025*a + 0.025*it + 0.025*the + 0.017*and + 0.013*to + 0.012*on + 0.012*that + 0.011*movie'),\n",
       " (5,\n",
       "  u'0.029*, + 0.025*the + 0.023*of + 0.020*) + 0.019*. + 0.014*it + 0.014*( + 0.013*a + 0.013*/_10 + 0.012*-'),\n",
       " (6,\n",
       "  u'0.061*, + 0.026*there_are + 0.024*it + 0.024*. + 0.018*of + 0.017*the + 0.017*to + 0.017*and + 0.016*is + 0.015*this'),\n",
       " (7,\n",
       "  u'0.038*. + 0.014*, + 0.012*and + 0.012*go + 0.011*my + 0.011*are + 0.010*they + 0.010*) + 0.010*i + 0.009*rest'),\n",
       " (8,\n",
       "  u'0.040*the + 0.025*and + 0.022*. + 0.021*a + 0.016*an + 0.013*of + 0.012*they + 0.012*, + 0.011*over + 0.011*we'),\n",
       " (9,\n",
       "  u'0.050*. + 0.048*the + 0.033*, + 0.023*a + 0.019*of + 0.016*and + 0.014*to + 0.012*that + 0.011*is + 0.011*\"')]"
      ]
     },
     "execution_count": 24,
     "metadata": {},
     "output_type": "execute_result"
    }
   ],
   "source": [
    "LDA_model.print_topics()"
   ]
  },
  {
   "cell_type": "code",
   "execution_count": 25,
   "metadata": {
    "collapsed": false
   },
   "outputs": [
    {
     "data": {
      "text/plain": [
       "[(4, 0.94705311552938121)]"
      ]
     },
     "execution_count": 25,
     "metadata": {},
     "output_type": "execute_result"
    }
   ],
   "source": [
    "LDA_model.get_document_topics(corpus_processed[0])"
   ]
  },
  {
   "cell_type": "code",
   "execution_count": 26,
   "metadata": {
    "collapsed": true
   },
   "outputs": [],
   "source": [
    "doc_topics = LDA_model[corpus_processed]"
   ]
  },
  {
   "cell_type": "code",
   "execution_count": 27,
   "metadata": {
    "collapsed": false
   },
   "outputs": [
    {
     "data": {
      "text/plain": [
       "[(0, 0.014287176425056468),\n",
       " (1, 0.01428779366006),\n",
       " (2, 0.014286628560848513),\n",
       " (3, 0.014286642126148443),\n",
       " (4, 0.01428781334414557),\n",
       " (5, 0.014286538420971868),\n",
       " (6, 0.014286667359821193),\n",
       " (7, 0.014287527576404878),\n",
       " (8, 0.87141521301815794),\n",
       " (9, 0.014287999508385184)]"
      ]
     },
     "execution_count": 27,
     "metadata": {},
     "output_type": "execute_result"
    }
   ],
   "source": [
    "doc_topics[1]"
   ]
  },
  {
   "cell_type": "code",
   "execution_count": 28,
   "metadata": {
    "collapsed": false
   },
   "outputs": [
    {
     "data": {
      "text/html": [
       "\n",
       "<link rel=\"stylesheet\" type=\"text/css\" href=\"https://cdn.rawgit.com/bmabey/pyLDAvis/files/ldavis.v1.0.0.css\">\n",
       "\n",
       "\n",
       "<div id=\"ldavis_el5036140526057769936324895656\"></div>\n",
       "<script type=\"text/javascript\">\n",
       "\n",
       "var ldavis_el5036140526057769936324895656_data = {\"plot.opts\": {\"xlab\": \"PC1\", \"ylab\": \"PC2\"}, \"topic.order\": [2, 4, 10, 1, 5, 7, 3, 9, 6, 8], \"token.table\": {\"Topic\": [3, 6, 1, 2, 3, 4, 5, 7, 9, 6, 1, 2, 4, 5, 1, 2, 3, 4, 5, 6, 7, 1, 2, 3, 5, 6, 8, 9, 1, 2, 3, 4, 5, 6, 7, 9, 1, 2, 3, 4, 6, 7, 9, 1, 2, 3, 4, 5, 6, 7, 8, 9, 1, 2, 3, 4, 5, 6, 7, 8, 9, 1, 2, 3, 1, 2, 3, 4, 5, 6, 7, 8, 9, 10, 2, 9, 2, 3, 2, 2, 2, 1, 2, 4, 7, 8, 1, 2, 3, 4, 5, 6, 7, 8, 9, 3, 7, 3, 6, 3, 3, 1, 3, 6, 7, 3, 3, 1, 2, 4, 6, 8, 1, 2, 3, 4, 5, 6, 7, 8, 9, 2, 2, 6, 4, 7, 6, 6, 1, 2, 3, 4, 5, 8, 2, 1, 2, 5, 4, 2, 4, 5, 3, 6, 3, 7, 6, 1, 4, 1, 2, 3, 4, 2, 3, 3, 6, 1, 3, 5, 3, 3, 2, 2, 3, 5, 5, 5, 3, 4, 1, 2, 4, 1, 2, 3, 5, 6, 2, 4, 1, 1, 2, 2, 3, 7, 1, 4, 7, 4, 2, 7, 1, 2, 5, 4, 2, 1, 6, 6, 6, 9, 2, 3, 1, 4, 5, 1, 2, 6, 5, 5, 5, 3, 7, 2, 7, 6, 1, 3, 3, 4, 9, 1, 2, 3, 8, 9, 2, 7, 1, 6, 5, 1, 5, 4, 4, 4, 2, 5, 4, 1, 2, 3, 4, 5, 6, 3, 7, 3, 5, 4, 2, 1, 6, 1, 2, 3, 4, 5, 6, 7, 8, 6, 3, 1, 6, 6, 1, 2, 3, 4, 5, 2, 1, 2, 3, 4, 6, 7, 7, 6, 4, 1, 3, 1, 7, 2, 4, 5, 1, 1, 3, 6, 4, 4, 6, 1, 2, 3, 2, 5, 1, 3, 6, 1, 2, 2, 1, 2, 5, 5, 6, 4, 2, 6, 1, 1, 2, 4, 8, 7, 2, 3, 4, 5, 6, 2, 4, 5, 1, 2, 3, 4, 5, 7, 4, 7, 2, 4, 2, 1, 2, 4, 5, 7, 8, 1, 2, 3, 4, 5, 6, 7, 8, 9, 1, 1, 2, 3, 4, 5, 6, 7, 9, 1, 2, 5, 6, 7, 7, 1, 2, 3, 4, 6, 4, 4, 1, 4, 1, 1, 2, 3, 8, 9, 2, 3, 1, 2, 3, 4, 5, 6, 9, 3, 5, 4, 3, 5, 6, 1, 7, 1, 3, 4, 5, 6, 3, 1, 3, 2, 6, 1, 6, 3, 6, 1, 3, 5, 1, 3, 4, 5, 7, 1, 2, 3, 1, 5, 2, 4, 4, 5, 3, 3, 1, 1, 2, 3, 1, 4, 6, 9, 3, 6, 1, 2, 3, 4, 5, 6, 7, 8, 9, 2, 7, 4, 5, 1, 2, 3, 4, 5, 7, 8, 1, 3, 4, 6, 7, 1, 2, 3, 6, 5, 1, 2, 3, 8, 2, 4, 3, 5, 5, 4, 2, 1, 2, 3, 3, 1, 5, 1, 3, 1, 1, 2, 3, 5, 3, 7, 4, 4, 2, 4, 6, 4, 4, 1, 1, 5, 9, 2, 3, 2, 3, 3, 2, 6, 7, 1, 5, 3, 6, 3, 3, 1, 4, 1, 4, 8, 3, 1, 7, 7, 3, 6, 6, 1, 3, 4, 5, 2, 5, 5, 5, 4, 1, 6, 3, 7, 7, 6, 5, 4, 5, 1, 4, 5, 1, 1, 3, 8, 4, 4, 5, 1, 2, 3, 4, 5, 6, 7, 1, 2, 3, 4, 5, 6, 7, 8, 9, 2, 5, 7, 1, 6, 1, 2, 3, 4, 5, 8, 1, 6, 1, 2, 3, 4, 5, 6, 7, 1, 2, 4, 2, 5, 1, 2, 3, 4, 5, 6, 8, 9, 6, 4, 7, 7, 5, 5, 5, 4, 4, 2, 4, 7, 1, 5, 1, 5, 5, 3, 2, 6, 4, 5, 7, 1, 2, 3, 4, 6, 1, 3, 8, 6, 6, 7, 3, 2, 4, 6, 3, 2, 3, 4, 5, 6, 1, 2, 6, 8, 1, 3, 1, 1, 2, 4, 5, 6, 7, 3, 5, 1, 3, 6, 4, 2, 3, 1, 2, 4, 5, 1], \"Freq\": [0.40173034689994574, 0.40173034689994574, 0.11298904750967036, 0.5649452375483518, 0.11298904750967036, 0.07532603167311357, 0.07532603167311357, 0.03766301583655678, 0.03766301583655678, 0.7608220971124363, 0.3010973586158659, 0.3010973586158659, 0.20073157241057726, 0.10036578620528863, 0.33368788568726937, 0.24268209868165044, 0.06067052467041261, 0.15167631167603152, 0.06067052467041261, 0.06067052467041261, 0.06067052467041261, 0.4027373473473715, 0.16109493893894858, 0.16109493893894858, 0.08054746946947429, 0.08054746946947429, 0.08054746946947429, 0.08054746946947429, 0.16673461267717732, 0.38904742958008043, 0.05557820422572578, 0.2223128169029031, 0.05557820422572578, 0.05557820422572578, 0.05557820422572578, 0.05557820422572578, 0.19302947224607447, 0.32171578707679077, 0.06434315741535816, 0.19302947224607447, 0.06434315741535816, 0.06434315741535816, 0.12868631483071633, 0.42050395379623245, 0.16173228992162786, 0.10782152661441857, 0.032346457984325575, 0.075475068630093, 0.1293858319373023, 0.032346457984325575, 0.010782152661441858, 0.021564305322883715, 0.30964735117510445, 0.26541201529294667, 0.08847067176431556, 0.13270600764647333, 0.04423533588215778, 0.04423533588215778, 0.04423533588215778, 0.04423533588215778, 0.04423533588215778, 0.5043743634314563, 0.33624957562097085, 0.16812478781048543, 0.27733847783630144, 0.10785385249189501, 0.24652309141004575, 0.09244615927876716, 0.10785385249189501, 0.0770384660656393, 0.03081538642625572, 0.03081538642625572, 0.03081538642625572, 0.01540769321312786, 0.7385174732393712, 0.14770349464787424, 0.4650504791542001, 0.6747633923288424, 0.6204012815141307, 0.4377481350355929, 0.4792899244081718, 0.2647040213145896, 0.1323520106572948, 0.3970560319718844, 0.1323520106572948, 0.1323520106572948, 0.38713278085349706, 0.08295702446860652, 0.19356639042674853, 0.027652341489535506, 0.13826170744767752, 0.05530468297907101, 0.027652341489535506, 0.05530468297907101, 0.027652341489535506, 0.5034282987850214, 0.5034282987850214, 0.3483904519656594, 0.3483904519656594, 0.5624256075053393, 0.6747637609055762, 0.3737434531300367, 0.24916230208669113, 0.24916230208669113, 0.12458115104334556, 0.6747635248644002, 0.6747629905856792, 0.15132397039987805, 0.15132397039987805, 0.3026479407997561, 0.15132397039987805, 0.15132397039987805, 0.4056000310041246, 0.08112000620082492, 0.13520001033470821, 0.02704000206694164, 0.10816000826776656, 0.08112000620082492, 0.08112000620082492, 0.05408000413388328, 0.02704000206694164, 0.7725739325545546, 0.8201227024084019, 0.7104548245560761, 0.4997507728859688, 0.4997507728859688, 0.6945626476055844, 0.763130087724398, 0.10514373807800712, 0.3154312142340214, 0.10514373807800712, 0.21028747615601423, 0.10514373807800712, 0.10514373807800712, 0.610504835077109, 0.4412760266251423, 0.22063801331257116, 0.11031900665628558, 0.6745376868632349, 0.21900760409706205, 0.4380152081941241, 0.21900760409706205, 0.6747643642654373, 0.7104560000968138, 0.5006002021996815, 0.5006002021996815, 0.35477965926185556, 0.37549252958488766, 0.6745396809435508, 0.4254604876756592, 0.14182016255855306, 0.28364032511710613, 0.14182016255855306, 0.6180651855477517, 0.6747628218826383, 0.4454672794555416, 0.4454672794555416, 0.263798720869875, 0.263798720869875, 0.263798720869875, 0.6747642731882516, 0.6747628470332542, 0.4910273061858763, 0.4598295816967791, 0.4598295816967791, 0.7328964543241644, 0.7328969466488472, 0.7328961397896503, 0.5482743929901027, 0.6745372924657671, 0.6525668671914976, 0.609685127149411, 0.6745382060968198, 0.3340229022994566, 0.25051717672459245, 0.08350572557486415, 0.1670114511497283, 0.08350572557486415, 0.6162349164879579, 0.30811745824397896, 0.6525667814347845, 0.6525667014757485, 0.6200079468982673, 0.43436483720240376, 0.43436483720240376, 0.8491829409328937, 0.43351615743599176, 0.43351615743599176, 0.8622088965561733, 0.7726005927674641, 0.6197127143588342, 0.5204019710813578, 0.6525669640975016, 0.6140564833662382, 0.760409883050064, 0.6745376376723259, 0.6110510147849821, 0.6720498340059432, 0.754646535353415, 0.710455246203642, 0.4111094939189894, 0.4111094939189894, 0.44361588770816063, 0.44413406014552453, 0.6525667586405596, 0.6745385733937772, 0.7328961959776266, 0.31220321039236837, 0.31220321039236837, 0.31220321039236837, 0.7328953163679668, 0.7328952446832444, 0.7328960874954443, 0.44773053667486074, 0.8622127510067118, 0.6140199170756916, 0.8523710922950525, 0.6954118308195736, 0.5530518274256712, 0.2765259137128356, 0.3864086184731665, 0.3864086184731665, 0.3864086184731665, 0.47772914106904696, 0.15924304702301567, 0.15924304702301567, 0.15924304702301567, 0.15924304702301567, 0.4737323443983533, 0.4737323443983533, 0.8326298282846522, 0.6984605443980678, 0.7298931386841446, 0.6525668295676361, 0.7328954562377592, 0.768742217632013, 0.7741691988675667, 0.6745374637106232, 0.6956354083795923, 0.7328962888614257, 0.7638708343301671, 0.35184574625445586, 0.11728191541815194, 0.11728191541815194, 0.11728191541815194, 0.11728191541815194, 0.11728191541815194, 0.5470619724306119, 0.5470619724306119, 0.6747629282228311, 0.7683563739398851, 0.7695210371993304, 0.6469134258072499, 0.43087480902412284, 0.7104548085238623, 0.2538268987612006, 0.16921793250746708, 0.16921793250746708, 0.16921793250746708, 0.08460896625373354, 0.08460896625373354, 0.08460896625373354, 0.08460896625373354, 0.38844637496637463, 0.4939151654659598, 0.4407555573273332, 0.4407555573273332, 0.768654508116098, 0.3479786302542363, 0.26098397269067725, 0.17398931512711815, 0.08699465756355908, 0.08699465756355908, 0.6185524706977645, 0.31973499746887446, 0.10657833248962482, 0.21315666497924965, 0.10657833248962482, 0.10657833248962482, 0.10657833248962482, 0.8622125951558698, 0.7601379001552168, 0.6745375780296833, 0.5636368418199467, 0.28181842090997333, 0.6017043197262506, 0.8622123298952211, 0.32318314597880293, 0.32318314597880293, 0.32318314597880293, 0.8350627454825369, 0.9128609431871912, 0.5457282732690898, 0.6988258099183869, 0.6745390525644048, 0.674537808889926, 0.7626517109154392, 0.4113998603571722, 0.2056999301785861, 0.4113998603571722, 0.3334504515418672, 0.3334504515418672, 0.33235172475575353, 0.33235172475575353, 0.33235172475575353, 0.512465436136654, 0.38434907710249044, 0.6188990553118053, 0.3538643362578685, 0.3538643362578685, 0.17693216812893425, 0.46878253614105503, 0.46878253614105503, 0.7784856031897043, 0.4834742241911824, 0.4834742241911824, 0.6525669749862147, 0.6525668797185008, 0.6680976364141833, 0.674537979557928, 0.6621367184451183, 0.8622122430810872, 0.13056499084944612, 0.26112998169889223, 0.26112998169889223, 0.13056499084944612, 0.13056499084944612, 0.22556117381615526, 0.22556117381615526, 0.4511223476323105, 0.46305712701690743, 0.132302036290545, 0.19845305443581748, 0.0661510181452725, 0.132302036290545, 0.0661510181452725, 0.6745376558258332, 0.8622129813852419, 0.61377009691098, 0.6745376386396728, 0.6138909854819431, 0.18626627321143577, 0.18626627321143577, 0.18626627321143577, 0.18626627321143577, 0.18626627321143577, 0.18626627321143577, 0.30604687966868377, 0.06801041770415195, 0.10201562655622792, 0.2720416708166078, 0.06801041770415195, 0.10201562655622792, 0.034005208852075974, 0.034005208852075974, 0.034005208852075974, 0.8300846944978807, 0.2659213718199443, 0.08864045727331478, 0.08864045727331478, 0.08864045727331478, 0.14773409545552463, 0.14773409545552463, 0.08864045727331478, 0.029546819091104924, 0.19976315232845285, 0.19976315232845285, 0.19976315232845285, 0.19976315232845285, 0.19976315232845285, 0.8622119884916201, 0.16041773534643813, 0.16041773534643813, 0.32083547069287627, 0.16041773534643813, 0.16041773534643813, 0.6745378592557405, 0.674537330921584, 0.6525669148267051, 0.674537631374226, 0.6525666561757879, 0.21350363307821046, 0.21350363307821046, 0.42700726615642093, 0.21350363307821046, 0.21350363307821046, 0.6825921695707199, 0.6747632699536358, 0.3503380864250645, 0.11677936214168816, 0.11677936214168816, 0.11677936214168816, 0.11677936214168816, 0.11677936214168816, 0.11677936214168816, 0.6747641432303029, 0.7328963147973809, 0.6745373429967221, 0.33826125066801255, 0.33826125066801255, 0.6986598071876753, 0.6525669024136584, 0.8622119755648645, 0.17815346842899124, 0.17815346842899124, 0.17815346842899124, 0.17815346842899124, 0.7760612160527695, 0.6747631107368419, 0.6525665903942579, 0.6747632475410178, 0.4952877876989662, 0.4952877876989662, 0.4651064110226334, 0.4651064110226334, 0.33625612690961937, 0.33625612690961937, 0.4716223953754264, 0.2358111976877132, 0.2358111976877132, 0.19912696516402145, 0.2986904477460322, 0.19912696516402145, 0.19912696516402145, 0.09956348258201073, 0.2202120465315461, 0.2202120465315461, 0.2202120465315461, 0.37475772947889613, 0.37475772947889613, 0.3951293650053231, 0.3951293650053231, 0.7500082463174482, 0.7542802439037205, 0.6747628873512866, 0.6747628950668958, 0.9128608381579089, 0.23169540086686868, 0.46339080173373737, 0.23169540086686868, 0.3184650897447758, 0.3184650897447758, 0.3184650897447758, 0.1592325448723879, 0.5002589364887158, 0.7166114071834737, 0.2609521643022386, 0.057989369844941914, 0.17396810953482575, 0.2029627944572967, 0.057989369844941914, 0.11597873968988383, 0.057989369844941914, 0.028994684922470957, 0.057989369844941914, 0.6192011138301489, 0.8622130558260854, 0.6745375004071202, 0.7328964928254386, 0.27123533479253986, 0.2034265010944049, 0.13561766739626993, 0.13561766739626993, 0.13561766739626993, 0.06780883369813497, 0.06780883369813497, 0.41807865887251144, 0.13935955295750382, 0.13935955295750382, 0.13935955295750382, 0.13935955295750382, 0.20953320453249416, 0.20953320453249416, 0.20953320453249416, 0.20953320453249416, 0.7328961919646959, 0.657859807662624, 0.6171991684946041, 0.2842260327036981, 0.2842260327036981, 0.6897092467755244, 0.6745379693966908, 0.4504335160387368, 0.7328961511353, 0.7294355190277741, 0.6745372904781036, 0.506584945899423, 0.6525666355457469, 0.6191564811798851, 0.6747633087916051, 0.6747628813606104, 0.33545139758645254, 0.33545139758645254, 0.6525666141760197, 0.44382432984241144, 0.6525668912791744, 0.1619999696435632, 0.1619999696435632, 0.3239999392871264, 0.3239999392871264, 0.5398951358173663, 0.5398951358173663, 0.67453985621956, 0.7824123594472121, 0.7141042134525973, 0.23803473781753245, 0.7104552567588989, 0.6745376893012544, 0.6745378016788536, 0.6525666767026681, 0.19419717513480061, 0.38839435026960123, 0.19419717513480061, 0.6164238963952404, 0.6747630916470313, 0.4331147035403226, 0.4331147035403226, 0.5617314891693526, 0.35774880514449486, 0.35774880514449486, 0.35774880514449486, 0.6525667560062193, 0.5875126951730346, 0.6747629017235571, 0.7171423992461105, 0.6747637859163451, 0.6822769129065203, 0.652566607537745, 0.6745373705770734, 0.21977396522831158, 0.21977396522831158, 0.21977396522831158, 0.674763638783051, 0.3816634351336024, 0.3816634351336024, 0.862209974930389, 0.6747635291089834, 0.7104588353366248, 0.7875996116553653, 0.2032077322331731, 0.4064154644663462, 0.2032077322331731, 0.2032077322331731, 0.613852079738191, 0.7328963384823022, 0.7328951055165814, 0.7328961647152453, 0.6745374124216256, 0.6525669688018831, 0.6965260731195743, 0.37306156531497725, 0.37306156531497725, 0.8517896283678958, 0.7582245015422934, 0.7328948724535063, 0.674537216314273, 0.7524461722999155, 0.37470730875546115, 0.18735365437773058, 0.18735365437773058, 0.41883795290485265, 0.25481612294708555, 0.25481612294708555, 0.25481612294708555, 0.6745375314214224, 0.766901043526485, 0.764860314858799, 0.3555217611984194, 0.03555217611984194, 0.14220870447936776, 0.24886523283889359, 0.07110435223968388, 0.03555217611984194, 0.07110435223968388, 0.31241282871372467, 0.08099591855541009, 0.17356268261873592, 0.21984606465039883, 0.05785422753957864, 0.03471253652374719, 0.04628338203166291, 0.03471253652374719, 0.023141691015831457, 0.6278447266830911, 0.31392236334154555, 0.8531778113823494, 0.14031042465550464, 0.7015521232775231, 0.2476570442413773, 0.12382852212068865, 0.12382852212068865, 0.12382852212068865, 0.2476570442413773, 0.12382852212068865, 0.38595352359775575, 0.38595352359775575, 0.21799949911715688, 0.14533299941143793, 0.14533299941143793, 0.14533299941143793, 0.14533299941143793, 0.21799949911715688, 0.07266649970571896, 0.652566958717722, 0.831811587053022, 0.7777204418307334, 0.6199460180766458, 0.7549244491029348, 0.23717434352826364, 0.13552819630186494, 0.13552819630186494, 0.2032922944527974, 0.1016461472263987, 0.1016461472263987, 0.033882049075466235, 0.033882049075466235, 0.7010359080058612, 0.5033020009340371, 0.5033020009340371, 0.5336414638829846, 0.7328959968764519, 0.7328962876343114, 0.7328954025066785, 0.6350859201390485, 0.6745371890994989, 0.6529980557884278, 0.7107459702286046, 0.3553729851143023, 0.3366910663485943, 0.3366910663485943, 0.6121509424665562, 0.5578854475252174, 0.7554038008482801, 0.6747629919549971, 0.6096848895897549, 0.742167165166684, 0.3708978294084804, 0.3708978294084804, 0.3708978294084804, 0.21066759303756952, 0.21066759303756952, 0.21066759303756952, 0.42133518607513903, 0.7779122911847384, 0.43479260592532154, 0.14493086864177385, 0.14493086864177385, 0.6970809515254883, 0.5391907320860373, 0.5391907320860373, 0.6747631182959662, 0.21757949747001867, 0.43515899494003735, 0.21757949747001867, 0.6747736391744605, 0.1687104258856502, 0.1687104258856502, 0.1687104258856502, 0.1687104258856502, 0.1687104258856502, 0.22692735926577218, 0.45385471853154435, 0.22692735926577218, 0.22692735926577218, 0.4791263845312958, 0.4791263845312958, 0.6525667752867651, 0.3109106616235629, 0.23318299621767216, 0.3109106616235629, 0.07772766540589073, 0.07772766540589073, 0.07772766540589073, 0.6747645375132127, 0.7328967033077762, 0.42721890677569907, 0.6747634637085471, 0.7761991737997881, 0.674538543181276, 0.6106502147294522, 0.674763950931606, 0.24035060805821132, 0.48070121611642264, 0.12017530402910566, 0.12017530402910566, 0.6525668318943851], \"Term\": [\"!\", \"!\", \"\\\"\", \"\\\"\", \"\\\"\", \"\\\"\", \"\\\"\", \"\\\"\", \"\\\"\", \"&\", \"'\", \"'\", \"'\", \"'\", \"'_s\", \"'_s\", \"'_s\", \"'_s\", \"'_s\", \"'_s\", \"'_s\", \"'_t\", \"'_t\", \"'_t\", \"'_t\", \"'_t\", \"'_t\", \"'_t\", \"(\", \"(\", \"(\", \"(\", \"(\", \"(\", \"(\", \"(\", \")\", \")\", \")\", \")\", \")\", \")\", \")\", \",\", \",\", \",\", \",\", \",\", \",\", \",\", \",\", \",\", \"-\", \"-\", \"-\", \"-\", \"-\", \"-\", \"-\", \"-\", \"-\", \"--\", \"--\", \"--\", \".\", \".\", \".\", \".\", \".\", \".\", \".\", \".\", \".\", \".\", \"/_10\", \"/_10\", \"10\", \"20\", \"20th\", \"7\", \"9\", \"?\", \"?\", \"?\", \"?\", \"?\", \"a\", \"a\", \"a\", \"a\", \"a\", \"a\", \"a\", \"a\", \"a\", \"about\", \"about\", \"after\", \"after\", \"again\", \"ago\", \"all\", \"all\", \"all\", \"all\", \"also\", \"although\", \"an\", \"an\", \"an\", \"an\", \"an\", \"and\", \"and\", \"and\", \"and\", \"and\", \"and\", \"and\", \"and\", \"and\", \"animation\", \"any\", \"apparent\", \"apparently\", \"apparently\", \"apparitions\", \"applaud\", \"are\", \"are\", \"are\", \"are\", \"are\", \"are\", \"arrival\", \"as\", \"as\", \"as\", \"assuming\", \"audience\", \"audience\", \"audience\", \"average\", \"avoid\", \"away\", \"away\", \"baldwin\", \"based\", \"bastard\", \"be\", \"be\", \"be\", \"be\", \"beat\", \"beauty\", \"becomes\", \"becomes\", \"been\", \"been\", \"been\", \"below\", \"bentley\", \"best\", \"biggest\", \"biggest\", \"body\", \"bordering\", \"bored\", \"both\", \"bottom\", \"brain\", \"bros\", \"bug\", \"but\", \"but\", \"but\", \"but\", \"but\", \"camelot\", \"camelot\", \"car\", \"cgi\", \"challenger\", \"character\", \"character\", \"chopped\", \"clear\", \"clear\", \"clich\", \"climb\", \"colorful\", \"comes\", \"complete\", \"computerized\", \"concept\", \"content\", \"contest\", \"cool\", \"correctly\", \"costs\", \"course\", \"course\", \"crow\", \"curtis\", \"cute\", \"damn\", \"danes\", \"dead\", \"dead\", \"dead\", \"decent\", \"decided\", \"deliver\", \"did\", \"different\", \"differentiates\", \"director\", \"disappearances\", \"do\", \"do\", \"does\", \"does\", \"does\", \"don\", \"don\", \"don\", \"don\", \"don\", \"down\", \"down\", \"dragon\", \"dreams\", \"drive\", \"dull\", \"edge\", \"element\", \"employ\", \"enter\", \"entire\", \"epps\", \"essential\", \"even\", \"even\", \"even\", \"even\", \"even\", \"even\", \"every\", \"every\", \"exact\", \"executed\", \"expected\", \"feeling\", \"feels\", \"fifteen\", \"film\", \"film\", \"film\", \"film\", \"film\", \"film\", \"film\", \"film\", \"films\", \"find\", \"first\", \"first\", \"folks\", \"for\", \"for\", \"for\", \"for\", \"for\", \"fox\", \"from\", \"from\", \"from\", \"from\", \"from\", \"from\", \"further\", \"generally\", \"genre\", \"get\", \"get\", \"gets\", \"giving\", \"go\", \"go\", \"go\", \"gore\", \"hair\", \"half\", \"happen\", \"happy\", \"hard\", \"harder\", \"has\", \"has\", \"has\", \"have\", \"have\", \"he\", \"he\", \"he\", \"her\", \"her\", \"hercules\", \"here\", \"here\", \"here\", \"hide\", \"hide\", \"high\", \"highway\", \"highway\", \"him\", \"hip\", \"holds\", \"hot\", \"hour\", \"how\", \"i\", \"i\", \"i\", \"i\", \"i\", \"if\", \"if\", \"if\", \"in\", \"in\", \"in\", \"in\", \"in\", \"in\", \"information\", \"insight\", \"instantly\", \"instead\", \"integrated\", \"into\", \"into\", \"into\", \"into\", \"into\", \"into\", \"is\", \"is\", \"is\", \"is\", \"is\", \"is\", \"is\", \"is\", \"is\", \"isn\", \"it\", \"it\", \"it\", \"it\", \"it\", \"it\", \"it\", \"it\", \"its\", \"its\", \"its\", \"its\", \"its\", \"jumbled\", \"just\", \"just\", \"just\", \"just\", \"just\", \"justify\", \"juvenile\", \"keeping\", \"kids\", \"kingdom\", \"know\", \"know\", \"know\", \"know\", \"know\", \"kudos\", \"lazy\", \"like\", \"like\", \"like\", \"like\", \"like\", \"like\", \"like\", \"likes\", \"lines\", \"literally\", \"little\", \"little\", \"looooot\", \"magic\", \"main\", \"make\", \"make\", \"make\", \"make\", \"making\", \"mean\", \"mediocre\", \"melissa\", \"memento\", \"memento\", \"mess\", \"mess\", \"minutes\", \"minutes\", \"more\", \"more\", \"more\", \"movie\", \"movie\", \"movie\", \"movie\", \"movie\", \"much\", \"much\", \"much\", \"music\", \"music\", \"my\", \"my\", \"name\", \"neat\", \"neighborhood\", \"new\", \"nice\", \"no\", \"no\", \"no\", \"not\", \"not\", \"not\", \"not\", \"now\", \"obviously\", \"of\", \"of\", \"of\", \"of\", \"of\", \"of\", \"of\", \"of\", \"of\", \"off\", \"offering\", \"older\", \"omar\", \"on\", \"on\", \"on\", \"on\", \"on\", \"on\", \"on\", \"one\", \"one\", \"one\", \"one\", \"one\", \"only\", \"only\", \"only\", \"only\", \"onto\", \"or\", \"other\", \"over\", \"over\", \"own\", \"packaged\", \"part\", \"parts\", \"party\", \"password\", \"people\", \"picking\", \"piece\", \"plain\", \"playing\", \"plot\", \"plot\", \"pocahontas\", \"power\", \"presents\", \"pretty\", \"pretty\", \"pretty\", \"pretty\", \"problem\", \"problem\", \"problems\", \"pure\", \"quest\", \"quest\", \"quickly\", \"r\", \"rating\", \"real\", \"really\", \"really\", \"really\", \"recent\", \"running\", \"sagemiller\", \"sagemiller\", \"same\", \"scenes\", \"scenes\", \"scenes\", \"score\", \"seem\", \"seemed\", \"seems\", \"shelves\", \"ship\", \"shot\", \"should\", \"show\", \"show\", \"show\", \"showing\", \"shows\", \"shows\", \"single\", \"sitting\", \"skip\", \"snag\", \"so\", \"so\", \"so\", \"so\", \"something\", \"sometimes\", \"somewhere\", \"spectacular\", \"spoon\", \"stan\", \"strange\", \"strangeness\", \"strangeness\", \"studio\", \"such\", \"suits\", \"sure\", \"taken\", \"teen\", \"teen\", \"teen\", \"teenage\", \"television\", \"television\", \"television\", \"telling\", \"tells\", \"terribly\", \"that\", \"that\", \"that\", \"that\", \"that\", \"that\", \"that\", \"the\", \"the\", \"the\", \"the\", \"the\", \"the\", \"the\", \"the\", \"the\", \"their\", \"their\", \"themselves\", \"there_are\", \"there_are\", \"they\", \"they\", \"they\", \"they\", \"they\", \"they\", \"things\", \"things\", \"this\", \"this\", \"this\", \"this\", \"this\", \"this\", \"this\", \"those\", \"though\", \"three\", \"throne\", \"timex\", \"to\", \"to\", \"to\", \"to\", \"to\", \"to\", \"to\", \"to\", \"tons\", \"too\", \"too\", \"took\", \"transfers\", \"turn\", \"turning\", \"under\", \"understanding\", \"unraveling\", \"us\", \"us\", \"ve\", \"ve\", \"very\", \"video\", \"viewer\", \"visions\", \"warner\", \"wasted\", \"watch\", \"watch\", \"watch\", \"way\", \"way\", \"way\", \"way\", \"ways\", \"we\", \"we\", \"we\", \"weird\", \"well\", \"well\", \"wes\", \"what\", \"what\", \"what\", \"whatever\", \"which\", \"which\", \"which\", \"which\", \"which\", \"who\", \"who\", \"who\", \"who\", \"why\", \"why\", \"winston\", \"with\", \"with\", \"with\", \"with\", \"with\", \"with\", \"within\", \"wooden\", \"worth\", \"wrapped\", \"write\", \"y2k\", \"year\", \"years\", \"you\", \"you\", \"you\", \"you\", \"young\"]}, \"mdsDat\": {\"y\": [0.018613445412911774, -0.026319560758946085, 0.03483404678075124, -0.11265678899975919, 0.0057236901203341385, 0.0875757863952354, -0.019529813873856407, -0.03184806924412929, 0.018449716803329016, 0.02515754736412949], \"cluster\": [1, 1, 1, 1, 1, 1, 1, 1, 1, 1], \"Freq\": [26.61738382870974, 15.790488504667358, 13.802637413053393, 12.058572073930925, 9.148639122438523, 8.567227013808125, 5.376708375131529, 3.711319574196112, 3.6142804979512895, 1.312743596113008], \"topics\": [1, 2, 3, 4, 5, 6, 7, 8, 9, 10], \"x\": [-0.0440510984338479, 0.11682087622702436, -0.041292492998521, -0.05458480223261093, -0.009879969960086653, -0.029285913581347, -0.026483805160694686, 0.01634171643105234, 0.0020316600942077378, 0.07038382961482408]}, \"R\": 30, \"lambda.step\": 0.01, \"tinfo\": {\"Category\": [\"Default\", \"Default\", \"Default\", \"Default\", \"Default\", \"Default\", \"Default\", \"Default\", \"Default\", \"Default\", \"Default\", \"Default\", \"Default\", \"Default\", \"Default\", \"Default\", \"Default\", \"Default\", \"Default\", \"Default\", \"Default\", \"Default\", \"Default\", \"Default\", \"Default\", \"Default\", \"Default\", \"Default\", \"Default\", \"Default\", \"Topic1\", \"Topic1\", \"Topic1\", \"Topic1\", \"Topic1\", \"Topic1\", \"Topic1\", \"Topic1\", \"Topic1\", \"Topic1\", \"Topic1\", \"Topic1\", \"Topic1\", \"Topic1\", \"Topic1\", \"Topic1\", \"Topic1\", \"Topic1\", \"Topic1\", \"Topic1\", \"Topic1\", \"Topic1\", \"Topic1\", \"Topic1\", \"Topic1\", \"Topic1\", \"Topic1\", \"Topic1\", \"Topic1\", \"Topic1\", \"Topic1\", \"Topic1\", \"Topic1\", \"Topic1\", \"Topic1\", \"Topic1\", \"Topic1\", \"Topic1\", \"Topic1\", \"Topic1\", \"Topic1\", \"Topic1\", \"Topic1\", \"Topic1\", \"Topic1\", \"Topic1\", \"Topic1\", \"Topic1\", \"Topic1\", \"Topic1\", \"Topic1\", \"Topic1\", \"Topic1\", \"Topic1\", \"Topic1\", \"Topic1\", \"Topic1\", \"Topic1\", \"Topic1\", \"Topic1\", \"Topic1\", \"Topic1\", \"Topic1\", \"Topic1\", \"Topic1\", \"Topic2\", \"Topic2\", \"Topic2\", \"Topic2\", \"Topic2\", \"Topic2\", \"Topic2\", \"Topic2\", \"Topic2\", \"Topic2\", \"Topic2\", \"Topic2\", \"Topic2\", \"Topic2\", \"Topic2\", \"Topic2\", \"Topic2\", \"Topic2\", \"Topic2\", \"Topic2\", \"Topic2\", \"Topic2\", \"Topic2\", \"Topic2\", \"Topic2\", \"Topic2\", \"Topic2\", \"Topic2\", \"Topic2\", \"Topic2\", \"Topic2\", \"Topic2\", \"Topic2\", \"Topic2\", \"Topic2\", \"Topic2\", \"Topic2\", \"Topic2\", \"Topic2\", \"Topic2\", \"Topic2\", \"Topic2\", \"Topic2\", \"Topic2\", \"Topic2\", \"Topic2\", \"Topic2\", \"Topic2\", \"Topic2\", \"Topic2\", \"Topic2\", \"Topic2\", \"Topic2\", \"Topic2\", \"Topic2\", \"Topic2\", \"Topic2\", \"Topic2\", \"Topic2\", \"Topic2\", \"Topic3\", \"Topic3\", \"Topic3\", \"Topic3\", \"Topic3\", \"Topic3\", \"Topic3\", \"Topic3\", \"Topic3\", \"Topic3\", \"Topic3\", \"Topic3\", \"Topic3\", \"Topic3\", \"Topic3\", \"Topic3\", \"Topic3\", \"Topic3\", \"Topic3\", \"Topic3\", \"Topic3\", \"Topic3\", \"Topic3\", \"Topic3\", \"Topic3\", \"Topic3\", \"Topic3\", \"Topic3\", \"Topic3\", \"Topic3\", \"Topic3\", \"Topic3\", \"Topic3\", \"Topic3\", \"Topic3\", \"Topic3\", \"Topic3\", \"Topic3\", \"Topic3\", \"Topic3\", \"Topic3\", \"Topic3\", \"Topic3\", \"Topic3\", \"Topic3\", \"Topic3\", \"Topic3\", \"Topic3\", \"Topic3\", \"Topic3\", \"Topic3\", \"Topic3\", \"Topic3\", \"Topic3\", \"Topic3\", \"Topic3\", \"Topic3\", \"Topic3\", \"Topic3\", \"Topic3\", \"Topic3\", \"Topic3\", \"Topic3\", \"Topic3\", \"Topic3\", \"Topic4\", \"Topic4\", \"Topic4\", \"Topic4\", \"Topic4\", \"Topic4\", \"Topic4\", \"Topic4\", \"Topic4\", \"Topic4\", \"Topic4\", \"Topic4\", \"Topic4\", \"Topic4\", \"Topic4\", \"Topic4\", \"Topic4\", \"Topic4\", \"Topic4\", \"Topic4\", \"Topic4\", \"Topic4\", \"Topic4\", \"Topic4\", \"Topic4\", \"Topic4\", \"Topic4\", \"Topic4\", \"Topic4\", \"Topic4\", \"Topic4\", \"Topic4\", \"Topic4\", \"Topic4\", \"Topic4\", \"Topic4\", \"Topic4\", \"Topic4\", \"Topic4\", \"Topic4\", \"Topic4\", \"Topic4\", \"Topic4\", \"Topic4\", \"Topic4\", \"Topic4\", \"Topic4\", \"Topic4\", \"Topic4\", \"Topic4\", \"Topic4\", \"Topic4\", \"Topic4\", \"Topic4\", \"Topic4\", \"Topic4\", \"Topic4\", \"Topic4\", \"Topic4\", \"Topic4\", \"Topic4\", \"Topic5\", \"Topic5\", \"Topic5\", \"Topic5\", \"Topic5\", \"Topic5\", \"Topic5\", \"Topic5\", \"Topic5\", \"Topic5\", \"Topic5\", \"Topic5\", \"Topic5\", \"Topic5\", \"Topic5\", \"Topic5\", \"Topic5\", \"Topic5\", \"Topic5\", \"Topic5\", \"Topic5\", \"Topic5\", \"Topic5\", \"Topic5\", \"Topic5\", \"Topic5\", \"Topic5\", \"Topic5\", \"Topic5\", \"Topic5\", \"Topic5\", \"Topic5\", \"Topic5\", \"Topic5\", \"Topic5\", \"Topic5\", \"Topic5\", \"Topic5\", \"Topic5\", \"Topic5\", \"Topic5\", \"Topic5\", \"Topic5\", \"Topic5\", \"Topic5\", \"Topic5\", \"Topic5\", \"Topic5\", \"Topic5\", \"Topic5\", \"Topic5\", \"Topic5\", \"Topic5\", \"Topic5\", \"Topic5\", \"Topic5\", \"Topic5\", \"Topic5\", \"Topic5\", \"Topic5\", \"Topic5\", \"Topic6\", \"Topic6\", \"Topic6\", \"Topic6\", \"Topic6\", \"Topic6\", \"Topic6\", \"Topic6\", \"Topic6\", \"Topic6\", \"Topic6\", \"Topic6\", \"Topic6\", \"Topic6\", \"Topic6\", \"Topic6\", \"Topic6\", \"Topic6\", \"Topic6\", \"Topic6\", \"Topic6\", \"Topic6\", \"Topic6\", \"Topic6\", \"Topic6\", \"Topic6\", \"Topic6\", \"Topic6\", \"Topic6\", \"Topic6\", \"Topic6\", \"Topic6\", \"Topic6\", \"Topic6\", \"Topic6\", \"Topic6\", \"Topic6\", \"Topic6\", \"Topic6\", \"Topic6\", \"Topic6\", \"Topic6\", \"Topic6\", \"Topic6\", \"Topic6\", \"Topic6\", \"Topic6\", \"Topic6\", \"Topic6\", \"Topic6\", \"Topic6\", \"Topic6\", \"Topic6\", \"Topic6\", \"Topic6\", \"Topic6\", \"Topic6\", \"Topic7\", \"Topic7\", \"Topic7\", \"Topic7\", \"Topic7\", \"Topic7\", \"Topic7\", \"Topic7\", \"Topic7\", \"Topic7\", \"Topic7\", \"Topic7\", \"Topic7\", \"Topic7\", \"Topic7\", \"Topic7\", \"Topic7\", \"Topic7\", \"Topic7\", \"Topic7\", \"Topic7\", \"Topic7\", \"Topic7\", \"Topic7\", \"Topic7\", \"Topic7\", \"Topic7\", \"Topic7\", \"Topic7\", \"Topic7\", \"Topic7\", \"Topic7\", \"Topic7\", \"Topic7\", \"Topic7\", \"Topic7\", \"Topic7\", \"Topic7\", \"Topic7\", \"Topic7\", \"Topic7\", \"Topic7\", \"Topic7\", \"Topic7\", \"Topic7\", \"Topic7\", \"Topic7\", \"Topic7\", \"Topic7\", \"Topic7\", \"Topic7\", \"Topic7\", \"Topic7\", \"Topic7\", \"Topic7\", \"Topic7\", \"Topic7\", \"Topic8\", \"Topic8\", \"Topic8\", \"Topic8\", \"Topic8\", \"Topic8\", \"Topic8\", \"Topic8\", \"Topic8\", \"Topic8\", \"Topic8\", \"Topic8\", \"Topic8\", \"Topic8\", \"Topic8\", \"Topic8\", \"Topic8\", \"Topic8\", \"Topic8\", \"Topic8\", \"Topic8\", \"Topic8\", \"Topic8\", \"Topic8\", \"Topic8\", \"Topic8\", \"Topic8\", \"Topic8\", \"Topic8\", \"Topic8\", \"Topic8\", \"Topic8\", \"Topic8\", \"Topic8\", \"Topic8\", \"Topic8\", \"Topic8\", \"Topic8\", \"Topic8\", \"Topic8\", \"Topic8\", \"Topic8\", \"Topic8\", \"Topic8\", \"Topic8\", \"Topic8\", \"Topic8\", \"Topic8\", \"Topic8\", \"Topic8\", \"Topic8\", \"Topic8\", \"Topic8\", \"Topic8\", \"Topic8\", \"Topic8\", \"Topic9\", \"Topic9\", \"Topic9\", \"Topic9\", \"Topic9\", \"Topic9\", \"Topic9\", \"Topic9\", \"Topic9\", \"Topic9\", \"Topic9\", \"Topic9\", \"Topic9\", \"Topic9\", \"Topic9\", \"Topic9\", \"Topic9\", \"Topic9\", \"Topic9\", \"Topic9\", \"Topic9\", \"Topic9\", \"Topic9\", \"Topic9\", \"Topic9\", \"Topic9\", \"Topic9\", \"Topic9\", \"Topic9\", \"Topic9\", \"Topic9\", \"Topic9\", \"Topic9\", \"Topic9\", \"Topic9\", \"Topic9\", \"Topic9\", \"Topic9\", \"Topic9\", \"Topic9\", \"Topic9\", \"Topic9\", \"Topic9\", \"Topic9\", \"Topic9\", \"Topic9\", \"Topic9\", \"Topic9\", \"Topic9\", \"Topic9\", \"Topic9\", \"Topic9\", \"Topic9\", \"Topic9\", \"Topic9\", \"Topic9\", \"Topic9\", \"Topic9\", \"Topic9\", \"Topic9\", \"Topic9\", \"Topic10\", \"Topic10\", \"Topic10\", \"Topic10\", \"Topic10\", \"Topic10\", \"Topic10\", \"Topic10\", \"Topic10\", \"Topic10\", \"Topic10\", \"Topic10\", \"Topic10\", \"Topic10\", \"Topic10\", \"Topic10\", \"Topic10\", \"Topic10\", \"Topic10\", \"Topic10\", \"Topic10\", \"Topic10\", \"Topic10\", \"Topic10\", \"Topic10\", \"Topic10\", \"Topic10\", \"Topic10\", \"Topic10\", \"Topic10\", \"Topic10\", \"Topic10\", \"Topic10\", \"Topic10\", \"Topic10\", \"Topic10\", \"Topic10\", \"Topic10\", \"Topic10\"], \"Term\": [\".\", \"the\", \",\", \"and\", \"\\\"\", \"of\", \")\", \"it\", \"there_are\", \"a\", \"/_10\", \"they\", \"are\", \"(\", \"as\", \"that\", \"an\", \"is\", \"i\", \"not\", \"?\", \"movie\", \"to\", \"we\", \"'_t\", \"her\", \"-\", \"really\", \"go\", \"my\", \"hair\", \"nice\", \"isn\", \"dragon\", \"very\", \"cool\", \"or\", \"gore\", \"shot\", \"picking\", \"kingdom\", \"cgi\", \"mediocre\", \"score\", \"pocahontas\", \"real\", \"dull\", \"winston\", \"young\", \"hip\", \"car\", \"cute\", \"those\", \"stan\", \"complete\", \"magic\", \"keeping\", \"presents\", \"brain\", \"him\", \"teenage\", \",\", \"and\", \"in\", \"--\", \"a\", \"as\", \"worth\", \"the\", \"her\", \"that\", \"we\", \"'_s\", \"'_t\", \".\", \"get\", \"is\", \"but\", \"-\", \"feels\", \"don\", \"of\", \"it\", \"to\", \"teen\", \"one\", \"on\", \"with\", \"for\", \"even\", \"from\", \"all\", \"(\", \")\", \"\\\"\", \"animation\", \"/_10\", \"though\", \"quest\", \"warner\", \"bros\", \"any\", \"arrival\", \"year\", \"contest\", \"7\", \"camelot\", \"crow\", \"recent\", \"beat\", \"instantly\", \"something\", \"integrated\", \"piece\", \"other\", \"differentiates\", \"fox\", \"computerized\", \"throne\", \"feeling\", \"20th\", \"colorful\", \"challenger\", \"off\", \"hercules\", \"\\\"\", \"their\", \"(\", \"you\", \"10\", \")\", \"-\", \"'_s\", \",\", \"no\", \"'\", \"her\", \"are\", \"for\", \".\", \"who\", \"but\", \"the\", \"to\", \"with\", \"on\", \"it\", \"here\", \"a\", \"and\", \"as\", \"of\", \"is\", \"this\", \"'_t\", \"part\", \"did\", \"beauty\", \"neighborhood\", \"bentley\", \"playing\", \"seemed\", \"new\", \"exact\", \"visions\", \"although\", \"running\", \"mean\", \"wes\", \"20\", \"melissa\", \"lazy\", \"wrapped\", \"plain\", \"showing\", \"also\", \"sitting\", \"ago\", \"shelves\", \"years\", \"likes\", \"average\", \"below\", \"within\", \"whatever\", \"same\", \"power\", \"curtis\", \"ship\", \".\", \"the\", \"a\", \"little\", \"of\", \",\", \"i\", \"movie\", \"just\", \"and\", \"to\", \"find\", \"that\", \"has\", \"know\", \"so\", \"\\\"\", \"from\", \"in\", \"is\", \"for\", \"film\", \"be\", \"pretty\", \"it\", \"on\", \"all\", \"-\", \"'_s\", \"this\", \"'_t\", \"us\", \"sure\", \"bottom\", \"understanding\", \"password\", \"should\", \"juvenile\", \"literally\", \"telling\", \"enter\", \"spoon\", \"older\", \"content\", \"kids\", \"assuming\", \"r\", \"instead\", \"information\", \"hard\", \"rating\", \"justify\", \"genre\", \"hot\", \"packaged\", \"bug\", \"damn\", \"y2k\", \"happy\", \"bastard\", \"problems\", \"the\", \"is\", \"that\", \"with\", \"?\", \"of\", \"to\", \"'_s\", \"audience\", \"what\", \"(\", \"way\", \".\", \")\", \"clear\", \"'\", \"it\", \"an\", \"film\", \"not\", \"-\", \"i\", \"show\", \"movie\", \"are\", \"\\\"\", \"on\", \"this\", \",\", \"for\", \"a\", \"transfers\", \"bored\", \"deliver\", \"danes\", \"onto\", \"lines\", \"parts\", \"turning\", \"turn\", \"edge\", \"spectacular\", \"sometimes\", \"decent\", \"epps\", \"omar\", \"decided\", \"body\", \"somewhere\", \"wooden\", \"bordering\", \"suits\", \"taken\", \"neat\", \"concept\", \"terribly\", \"executed\", \"drive\", \"party\", \"timex\", \"viewer\", \"have\", \"really\", \"if\", \"ve\", \"it\", \"pretty\", \"a\", \".\", \"movie\", \"they\", \",\", \"on\", \"and\", \"the\", \"here\", \"teen\", \"to\", \"that\", \"make\", \"this\", \"but\", \"been\", \"in\", \"\\\"\", \"as\", \"you\", \"'_s\", \"is\", \"'\", \"plot\", \"of\", \"there_are\", \"apparent\", \"fifteen\", \"quickly\", \"costs\", \"avoid\", \"skip\", \"hide\", \"tons\", \"wasted\", \"happen\", \"looooot\", \"dreams\", \"correctly\", \"baldwin\", \"such\", \"weird\", \"generally\", \"minutes\", \"strange\", \"&\", \"harder\", \"applaud\", \"disappearances\", \"obviously\", \"apparitions\", \"mess\", \"folks\", \"seems\", \"films\", \"dead\", \",\", \"not\", \"this\", \"it\", \"becomes\", \"he\", \"first\", \"to\", \"all\", \"of\", \"is\", \".\", \"and\", \"one\", \"only\", \"the\", \"like\", \"after\", \"'_s\", \"which\", \"a\", \"but\", \"that\", \"film\", \"who\", \"from\", \"offering\", \"insight\", \"different\", \"further\", \"how\", \"giving\", \"jumbled\", \"main\", \"single\", \"clich\", \"themselves\", \"director\", \"studio\", \"chopped\", \"sorta\", \"shows\", \"every\", \"problem\", \"well\", \"comes\", \"about\", \"too\", \"took\", \"down\", \"away\", \"apparently\", \"strangeness\", \"its\", \"basing\", \"counted\", \"watch\", \"scenes\", \"it\", \"and\", \"the\", \"of\", \"?\", \"that\", \"'_s\", \",\", \"all\", \".\", \"movie\", \"-\", \")\", \"is\", \"a\", \"one\", \"film\", \"(\", \"in\", \"\\\"\", \"on\", \"from\", \"this\", \"with\", \"into\", \"hour\", \"need\", \"chasing\", \"accident\", \"between\", \"cross\", \"long\", \"stretched\", \"cop\", \"described\", \"span\", \"again\", \"video\", \"both\", \"half\", \"over\", \"people\", \"best\", \"1960\", \"criminals\", \"reformed\", \"an\", \"police\", \"three\", \"employ\", \"show\", \"tells\", \"music\", \"into\", \"name\", \"based\", \"we\", \"they\", \"know\", \"television\", \"and\", \"the\", \"who\", \"a\", \"are\", \".\", \"'_t\", \"of\", \",\", \"to\", \"-\", \"on\", \"film\", \"don\", \"?\", \"is\", \"'_s\", \"it\", \"really\", \"her\", \"do\", \"ads\", \"sounds\", \"course\", \"seem\", \"ranks\", \"does\", \"showmanship\", \"pure\", \"hit\", \"high\", \"middle\", \"climb\", \"memento\", \"expected\", \"element\", \"9\", \"now\", \"snag\", \"types\", \"/_10\", \"essential\", \"10\", \"flashy\", \"nowhere\", \"drunkenly\", \"highway\", \"ways\", \"origin\", \"making\", \"write\", \"why\", \"not\", \"over\", \"really\", \")\", \"don\", \"like\", \"know\", \"of\", \"(\", \"more\", \"'_t\", \"cool\", \"much\", \",\", \"the\", \"so\", \"it\", \"-\", \".\", \"a\", \"and\", \"is\", \"to\", \"make\", \"\\\"\", \"i\", \"we\", \"movie\", \"'_s\", \"?\", \"rest\", \"case\", \"wrong\", \"immediately\", \"however\", \"stolen\", \"evidence\", \"suspicion\", \"under\", \"gets\", \"my\", \"!\", \"go\", \"things\", \"entire\", \"own\", \"kudos\", \"holds\", \"executed\", \"terribly\", \"unraveling\", \"concept\", \"biggest\", \"i\", \"feeling\", \"they\", \"character\", \"neat\", \"sagemiller\", \"are\", \"as\", \".\", \")\", \"and\", \"her\", \",\", \"to\", \"but\", \"the\"], \"loglift\": [30.0, 29.0, 28.0, 27.0, 26.0, 25.0, 24.0, 23.0, 22.0, 21.0, 20.0, 19.0, 18.0, 17.0, 16.0, 15.0, 14.0, 13.0, 12.0, 11.0, 10.0, 9.0, 8.0, 7.0, 6.0, 5.0, 4.0, 3.0, 2.0, 1.0, 1.1339, 1.1339, 1.0549, 1.0367, 1.0087, 1.0074, 0.994, 0.9151, 0.8608, 0.8608, 0.8608, 0.8608, 0.8608, 0.8608, 0.8608, 0.8608, 0.8608, 0.8608, 0.8608, 0.8608, 0.8608, 0.8608, 0.8608, 0.8608, 0.8608, 0.8608, 0.8608, 0.8608, 0.8608, 0.8608, 0.8304, 0.4566, 0.4333, 0.5187, 0.6508, 0.3414, 0.565, 0.7912, 0.1565, 0.5632, 0.2973, 0.5729, 0.2451, 0.4395, 0.0328, 0.6678, 0.113, 0.3372, 0.1704, 0.7534, 0.4922, 0.03, -0.03, -0.0935, 0.5048, 0.3741, 0.0467, 0.1068, 0.1552, 0.2825, 0.211, 0.2938, -0.4984, -0.3677, -0.9181, 1.5405, 1.5279, 1.5005, 1.4905, 1.4309, 1.4309, 1.422, 1.4194, 1.4174, 1.4118, 1.4019, 1.3899, 1.3845, 1.3766, 1.3745, 1.3728, 1.3716, 1.371, 1.3705, 1.3699, 1.3691, 1.3691, 1.3686, 1.3672, 1.3651, 1.3632, 1.3628, 1.3612, 1.3596, 1.3594, 1.2521, 1.2649, 0.9402, 1.0466, 1.3007, 0.6787, 0.5611, 0.4216, 0.0514, 1.0475, 0.7422, 0.7133, 0.6241, 0.4469, -0.4346, 0.8837, 0.3452, -0.7218, -0.1466, 0.2486, 0.1654, -0.4332, 0.6586, -0.6065, -0.6588, 0.2785, -0.9572, -0.8157, -0.1337, -0.0934, 1.5074, 1.5044, 1.4918, 1.4918, 1.4918, 1.4918, 1.4918, 1.4918, 1.4918, 1.4918, 1.4918, 1.4918, 1.4918, 1.4918, 1.4918, 1.4918, 1.4918, 1.4918, 1.4918, 1.4918, 1.4918, 1.4917, 1.4917, 1.4917, 1.4917, 1.4917, 1.4917, 1.4917, 1.4917, 1.4917, 1.4858, 1.4443, 1.444, 1.35, 0.561, 0.2345, 0.3591, 1.24, 0.2285, -0.2278, 0.811, 0.6694, 0.8284, -0.038, 0.0652, 1.335, -0.0403, 0.8706, 0.8867, 0.8578, -0.0535, 0.508, 0.2338, -0.1523, 0.3456, 0.3094, 0.5929, 0.6687, -0.3317, 0.0614, 0.4619, -0.3972, -0.8701, -0.1058, -0.0659, 1.6329, 1.6271, 1.6271, 1.6271, 1.6271, 1.6271, 1.6271, 1.6271, 1.6271, 1.6271, 1.6271, 1.6271, 1.6271, 1.6271, 1.6271, 1.6271, 1.6271, 1.6271, 1.6271, 1.6271, 1.6271, 1.6271, 1.6271, 1.6271, 1.6271, 1.6271, 1.6271, 1.6271, 1.6271, 1.6271, 0.6245, 0.7767, 0.7325, 0.944, 1.0346, 0.457, 0.5157, 0.3021, 1.1488, 1.1422, 0.5135, 1.11, -0.1878, 0.4012, 1.397, 0.5598, -0.1676, 0.7352, 0.3701, 0.7534, -0.0348, 0.5788, 0.9107, 0.3994, 0.415, -0.3844, -0.0321, 0.0114, -1.4824, 0.0052, -1.1359, 1.8322, 1.8322, 1.8322, 1.8322, 1.8322, 1.8322, 1.8322, 1.8322, 1.8322, 1.8322, 1.8322, 1.8322, 1.8322, 1.8322, 1.8322, 1.8322, 1.8322, 1.8322, 1.8322, 1.8322, 1.8322, 1.7849, 1.7804, 1.765, 1.7537, 1.7447, 1.7021, 1.6807, 1.6672, 1.6633, 1.511, 1.4061, 1.3922, 1.4666, 0.5176, 1.1624, 0.4596, 0.1274, 0.9122, 0.9955, -0.1857, 0.5883, 0.0512, -0.4298, 1.0576, 1.0079, -0.0387, -0.0771, 0.9219, 0.3355, 0.4202, 1.1633, 0.2016, -0.2894, 0.4319, 0.4918, -0.5738, -0.4935, 0.2976, 1.2298, -0.7178, 2.1225, 1.9258, 1.9258, 1.9258, 1.9258, 1.9258, 1.9258, 1.8105, 1.7643, 1.7368, 1.7224, 1.7191, 1.7152, 1.7096, 1.7052, 1.6929, 1.6879, 1.6801, 1.6781, 1.6767, 1.6755, 1.6613, 1.6586, 1.6538, 1.64, 1.636, 1.6257, 1.6185, 1.611, 1.6064, 1.4913, 0.4004, 1.17, 0.8996, 0.4831, 1.459, 1.3369, 1.4484, 0.2798, 0.8701, 0.1774, 0.2123, -0.1936, 0.0528, 0.8541, 0.9959, -0.7935, 0.535, 1.2885, -0.4345, 0.7531, -0.6489, 0.1416, -0.5808, 0.0147, 0.8971, 0.187, 2.1857, 2.1857, 2.1857, 2.1857, 2.1857, 2.1857, 2.1857, 2.1857, 2.1857, 2.1857, 2.1291, 2.1238, 2.1201, 2.1029, 1.8753, 1.7432, 1.7308, 1.7176, 1.7163, 1.6808, 1.6476, 1.6474, 1.6444, 1.6401, 1.6, 1.5871, 1.5585, 1.459, 1.435, 1.4346, 1.4276, 1.306, 0.5797, 0.3703, -0.0565, 0.2301, 0.9583, 0.284, 0.125, -0.5208, 0.8415, -0.4074, 0.6498, 0.0649, 0.2804, -0.2229, -0.4937, 0.7131, 0.2809, -0.0565, 0.0158, -0.4789, -0.0301, 0.2773, -0.079, -0.0472, 0.6534, 2.7608, 2.4555, 2.4555, 2.4554, 2.4491, 2.448, 2.4478, 2.4477, 2.4476, 2.4449, 2.4395, 1.9569, 1.9419, 1.9247, 1.9215, 1.9211, 1.8524, 1.8162, 1.7456, 1.7286, 1.704, 1.6763, 1.6696, 1.6559, 1.6261, 1.5898, 1.5622, 1.5462, 1.4965, 1.3958, 1.392, 1.2476, 1.2068, 1.2089, 1.2555, 0.4109, 0.034, 1.1944, 0.2692, 0.8329, -0.2538, 0.5487, -0.1767, -1.2556, -0.3393, -0.2088, 0.0958, 0.2566, 0.8383, 0.6654, -0.6887, -0.9138, -0.9893, 0.8936, 0.4776, 1.247, 2.4356, 2.4356, 1.989, 1.9518, 1.7488, 1.7347, 1.6741, 1.584, 1.5721, 1.5526, 1.5301, 1.5036, 1.4954, 1.4769, 1.4701, 1.4656, 1.4516, 1.4426, 1.4411, 1.4282, 1.4262, 1.3611, 1.3544, 1.3466, 1.3358, 1.3325, 1.3298, 1.3264, 1.3256, 1.3151, 1.3118, 1.2929, 1.3011, 1.2073, 1.0432, 1.119, 1.0698, 1.1309, 0.4153, 0.5709, 1.0389, 0.5884, 0.9876, 0.9803, -0.35, -0.4202, 0.9088, -0.0424, 0.1501, -0.398, -0.1761, -0.3953, -0.2879, -0.331, 0.7586, -0.5303, 0.4712, 0.5701, 0.2012, -0.9995, 0.4614, 3.1556, 3.1556, 3.1308, 3.129, 3.122, 3.1113, 3.106, 3.1051, 2.587, 2.5393, 2.3104, 2.1495, 2.1294, 2.0857, 1.6299, 1.5755, 1.506, 1.3475, 1.2704, 1.2093, 1.1503, 1.1259, 1.0939, 1.0731, 1.0584, 1.048, 1.0102, 0.9981, 0.9789, 0.9779, 0.8337, 0.2889, 0.3834, -0.2809, 0.3081, -1.0844, -0.8267, -0.3657, -2.4687], \"Freq\": [64.0, 86.0, 92.0, 36.0, 26.0, 34.0, 15.0, 33.0, 7.0, 36.0, 6.0, 8.0, 9.0, 17.0, 9.0, 28.0, 6.0, 29.0, 7.0, 6.0, 7.0, 10.0, 29.0, 6.0, 12.0, 7.0, 22.0, 5.0, 3.0, 2.0, 2.718620592158623, 2.718619814017656, 1.8416532484911063, 1.802905209015218, 2.3844997963709105, 3.2537182046613036, 2.1865769860407704, 1.591768435265134, 0.9646773279966805, 0.9646766847954495, 0.9646763336922306, 0.9646761782411665, 0.9646761371671071, 0.9646758270536391, 0.9646759257182075, 0.9646758034222541, 0.9646755419762691, 0.9646753125863136, 0.9646750728223953, 0.9646748850542938, 0.9646748977546853, 0.964674802587847, 0.9646744069079463, 0.9646743393168955, 0.9646742687546553, 0.9646742925186279, 0.9646742412325099, 0.9646742356912406, 0.9646742427547387, 0.9646740699547455, 1.4580197031466258, 38.97274014525027, 15.181704331965488, 6.759263061233491, 3.03506692837607, 13.542632010664013, 4.245062522708272, 1.374407996647955, 26.901252308342336, 3.6486781230469, 10.078475181929416, 3.2569836995699153, 11.211731519687062, 5.128698068472981, 17.851688794964968, 1.8416319459632542, 8.764169800157527, 4.465569871176606, 7.1348012670946765, 1.3122555204184403, 2.734541144304462, 9.459582689291688, 8.74254785711867, 7.1549466142909255, 2.3536090212458203, 2.776540865333815, 4.113190452665775, 3.810350884861201, 3.5732737185827266, 3.0104361991713144, 3.084075835777539, 2.866128030549113, 2.9094900204678678, 2.8640048215551013, 2.8218299419670974, 1.9077775885263195, 4.9268684358472035, 1.7023436588532188, 2.9450335665194993, 1.0832243773733692, 1.0832219661411167, 1.5962667679175429, 1.0694506367025043, 1.0670212736215001, 1.0603116925119265, 1.4655064218440383, 2.057348860857725, 1.4212372471244537, 1.0147715134243582, 1.0099826616186132, 1.0152403702399126, 1.0138885191841598, 1.0132480230218193, 1.0041900816057956, 1.0067723338789951, 1.0111167295057577, 1.0036717988025052, 1.0105139670119516, 0.9995143305117705, 0.9558664695940856, 0.9948747976786175, 0.9955557786226723, 0.993508047849305, 0.9931975647556347, 0.993427963311521, 14.664511619769874, 1.7819369375397898, 7.27458404299808, 3.741943897590832, 1.246807975193095, 4.837979060554372, 6.256008135153949, 7.935197229855729, 15.417578980849182, 1.942776584265192, 3.3046852807818183, 2.515140276103771, 2.803152892689234, 2.8378355107343043, 6.636162051426522, 1.6837808442351105, 2.6706121289330995, 6.630381826405714, 4.024785574888823, 2.6049072031296863, 2.747560582259935, 3.465418709666375, 1.7243789596410208, 3.1135786622100285, 3.021956542881978, 1.8911069974291528, 2.091012569727973, 2.0539259137795485, 1.9011393542707895, 1.7856035054180783, 1.3835924738608714, 1.3876570065690998, 0.909227611689175, 0.9092274559461829, 0.909227403417848, 0.9092272277750296, 0.9092271436810269, 0.9092268886303108, 0.9092267149907381, 0.9092262890058159, 0.9092262568538672, 0.9092255766306623, 0.9092252318057547, 0.9092248598224424, 0.9092237150266034, 0.9092237279317913, 0.9092229467213081, 0.9092223735829387, 0.909222072603097, 0.9092207266678913, 0.9092208718784267, 0.90921985668956, 0.9092194113733454, 0.9092192925430905, 0.9092171375605006, 0.9092157793708141, 0.9092139882616076, 0.9092124379583734, 0.9092107973167355, 0.9091169787111147, 2.1713641264193044, 1.3182168424190401, 1.3169440367524519, 1.5606993628367107, 15.699005708127732, 15.081745841651237, 7.147890036564377, 1.4100917717532169, 5.982414054250244, 10.193386682140623, 2.3787683542770437, 2.707675935365976, 1.9701195281985526, 4.914043211654874, 4.348197115881085, 1.0618706627668888, 3.729147957248537, 1.602607306696263, 1.5690802241878619, 1.6015837029744342, 3.473976193828199, 2.152293356358411, 2.636195254981245, 3.4855363796399605, 2.2415452645528555, 2.222832484121294, 1.760810428080036, 1.6627966011492494, 3.3527087108673452, 2.164377623313468, 1.758326426544036, 2.097473886357711, 1.9060971729406004, 1.7086875266589718, 1.6043314269890216, 1.7368338942742183, 0.9097731684581762, 0.9097729661784102, 0.9097730962691588, 0.9097726592808518, 0.9097723896493186, 0.9097717249988657, 0.9097716993272609, 0.9097713447834801, 0.9097714041395493, 0.9097713252306492, 0.90977041923778, 0.9097700641416453, 0.9097700495340411, 0.9097698929907279, 0.9097694874715667, 0.909769279865983, 0.9097692172747778, 0.9097685347549778, 0.9097678223326685, 0.9097677132321865, 0.909767862407869, 0.9097667501528053, 0.9097662290795151, 0.9097635069431005, 0.9097593034946442, 0.90975882110848, 0.909755642456391, 0.9097541977687458, 0.9097512365087363, 19.46007593280993, 7.710101325264955, 7.0558199029924475, 3.987334619952769, 2.5638718129246674, 6.568055405165156, 5.960597918811102, 5.377239338038305, 1.7368374919088658, 1.7367770462571628, 3.6257957408448402, 1.7368390237865965, 6.4863129076400465, 2.799241735896381, 1.1245805257585324, 2.102854000441339, 3.4514201250852192, 1.662241875613159, 2.063450747692332, 1.6086723756748782, 2.6326872020472702, 1.6475056109758568, 1.363999460622767, 1.8056654841643907, 1.7368197691395613, 2.1798774735721, 1.722121015389947, 1.6785087231100704, 2.539647421175916, 1.3933093667184684, 1.4004131281676444, 0.7799180580269771, 0.7799177299169535, 0.779916919714575, 0.7799160038868675, 0.7799150108714248, 0.7799146052162149, 0.7799146411797453, 0.7799150615628256, 0.7799140570187969, 0.7799148041039513, 0.7799136863515982, 0.7799132688681749, 0.7799141372134192, 0.7799127455857977, 0.7799124840125552, 0.7799129326976574, 0.7799104137451506, 0.7799093477872227, 0.7799066603954112, 0.7799044412670647, 0.779904665333194, 0.7245540744030342, 0.719510144513071, 0.7028207999646553, 0.6908724897158269, 0.6815811109805193, 0.6875631591329395, 0.6734182709654465, 0.641975735518931, 0.6390640404509207, 1.2431493592598506, 1.922001581148629, 1.6319626058628187, 1.177812137238769, 5.195821038421623, 1.8058058539715796, 5.2389036026205495, 6.7441901281435115, 2.287819145526406, 1.9992626146138954, 7.047154805064324, 2.429736819262597, 3.560994188313432, 5.144175740524837, 1.4889203976133243, 1.3378822995189312, 2.5975553121069135, 2.3824208286339887, 1.2910026344839165, 1.7608821456219, 1.6676889792355678, 1.1099153221948348, 1.691864436223047, 1.8186059086535593, 1.2772061711859333, 1.2449102374008556, 1.6990892436970446, 1.64244421605534, 1.2274444591741993, 0.932884497040662, 1.5391853270101374, 5.099863361318794, 0.8273242504742558, 0.8273237138894335, 0.8273191334611799, 0.8273136049287442, 0.8272992985872731, 0.8272659348034608, 1.1172453507143103, 0.7134222554704791, 0.6555688261626583, 0.6862471861007835, 0.6842003244850153, 0.6817395905423003, 0.6274214731454838, 1.3287056143145568, 0.614138456885408, 0.6646707283325324, 0.6047820664366894, 1.3644668245042237, 0.6577879703237552, 0.601478064185879, 0.5915700968112095, 0.5896356806969988, 0.6439310343859012, 0.6162948306753574, 0.6333399151637636, 0.9361005715751614, 0.562384306957352, 0.5982700303161305, 1.0994314263859415, 1.2192302086211788, 11.858560869140804, 1.7334561959703543, 2.898673436361614, 4.700657976735647, 0.8273232960300115, 0.9814332198917488, 0.8273199118125389, 3.344849926292269, 1.6416469340443558, 3.5281580190935635, 3.1152589749803417, 4.581733736657019, 3.3400828954542887, 1.4442549134109985, 1.1068792097916054, 3.348549981815793, 1.252619125616684, 0.8919533367826846, 1.8288959211141742, 1.0784109182335082, 1.6191673566562752, 1.181969369525061, 1.3481597812997004, 1.027590711383774, 0.9258612699185518, 0.9691481496333192, 0.5548091242141836, 0.5548088103504935, 0.5548085851365181, 0.5548079560958472, 0.5548080229915167, 0.5548054431577754, 0.554804885414189, 0.5548044977245625, 0.5547985348245796, 0.5547925392365786, 0.5298038284303167, 0.5275451973807466, 0.5259152924246212, 0.5185772429933811, 0.4338400596596774, 0.8051742717449013, 0.5547999941181588, 0.5548031238134348, 0.554805386741899, 0.5547988079366303, 0.5548088598551334, 0.5547978029113131, 0.5217170697581175, 0.5851635243642613, 0.5319613146303368, 0.5260568345940828, 0.6848125300882201, 1.1577765841272627, 0.2807972382565808, 0.2830842688617299, 0.6043377435031038, 0.5548082412403981, 3.249207973686773, 2.879622162189555, 4.391521627323902, 2.3341521796539144, 1.0591695918618829, 2.00914292829581, 2.008486863740728, 2.962392486223392, 1.0012436199343104, 2.321851853858966, 1.0342106890189802, 1.2970298146371717, 1.1060564456535, 1.26518415143297, 1.1868361919486279, 0.7872095808809834, 0.8415400846040463, 0.914274428805802, 0.8257707032759335, 0.8843482819458774, 0.7694246763232019, 0.6657255717861267, 0.6837060126979811, 0.6598776537809322, 0.5548096679351703, 0.886298495939879, 0.4670321478364509, 0.46703215035611223, 0.46702254639175833, 0.46501190504548795, 0.46464014497997747, 0.4645929581956981, 0.4645515958373198, 0.46452940158796013, 0.46365366419827075, 0.46194323401219206, 0.4670298369480212, 0.463801588225914, 0.46390272494935714, 0.46455413544180374, 0.8916076224487847, 0.46703274853376925, 0.46471788318608986, 0.402132147264087, 0.26566878909745956, 0.26026464397475807, 1.311063242069231, 0.2528523091459797, 0.2499435113341559, 0.24372181654209865, 0.8279364432348243, 0.2308076254702977, 0.4648108840971566, 0.8898545045601158, 0.199825999826659, 0.3976068865030689, 0.8916050015854899, 1.0018579288538054, 0.5823009142519693, 0.5111837872756622, 2.0700312473629205, 3.318328716204482, 0.53997667111344, 1.756797869374833, 0.8118260001225917, 1.868857113665238, 0.7976055975561275, 1.072684075564446, 0.9806747454351967, 0.7801975930340312, 0.6808584244460074, 0.6023688300176585, 0.5669510087270035, 0.5389107776274705, 0.5454856415903626, 0.5481354381672651, 0.49058100943050603, 0.46705838169432956, 0.4670369077842101, 0.4670365445255638, 0.46703603610076616, 0.43317241084363434, 0.43316755243400695, 0.6425143370827536, 0.43317197309013034, 0.257992520351265, 0.5300733136113148, 0.24267335543550844, 0.22515779472310338, 0.2251495321792911, 0.21929832255131423, 0.2172961323453238, 0.21040530672707353, 0.3255355106520475, 0.2056972635848073, 0.20450006539214038, 0.3265360544013648, 0.3084896985297793, 0.19418586005397515, 0.19397271759429507, 1.0206331932912716, 0.19696093080646934, 0.3031383484928718, 0.18736308258107778, 0.1859355121241874, 0.18431528331788852, 0.28336134842179156, 0.1756417661182254, 0.18328749670381614, 0.1753214046809364, 0.17345429570144952, 0.28007635203652703, 0.8269357144242787, 0.4671260074982083, 0.6224724122931019, 1.594263799699887, 0.6949298241577136, 0.9021613375684986, 0.5245409546988086, 1.8883269281841237, 1.1509572872442693, 0.43317147926308713, 0.8081849595425791, 0.4331682162324329, 0.4374481097583798, 2.36207307349121, 2.051985104544929, 0.4413489091993592, 1.1724141883331445, 0.9493830868005568, 1.5754972776983913, 1.096016590627501, 0.9002398535252761, 0.7969936388002652, 0.766131183648101, 0.4331734531455474, 0.5646622777348788, 0.4434308989001347, 0.4410276412828309, 0.44391660623278545, 0.4385428511194479, 0.433181317241085, 0.28046210900352625, 0.28045967369767, 0.27649820449228, 0.27622082026169065, 0.2750944329647549, 0.2733936515785766, 0.27255838587058845, 0.2724134809206984, 0.27471769100621213, 0.2764502161100809, 0.3348532611408925, 0.28039248768714475, 0.3416083438567013, 0.27381542339398895, 0.09630350955890488, 0.09198819729905056, 0.0867063725487749, 0.07560196051708534, 0.0608595343206378, 0.057518722210334564, 0.06351014590772083, 0.05322160600140831, 0.08524691783483525, 0.2940353283506654, 0.05847764492519865, 0.30235122898485667, 0.08299118329802653, 0.04722029611249765, 0.08066945698823257, 0.33195696312105033, 0.2738984562225405, 1.1373426447568271, 0.2993668500749314, 0.3666027318714382, 0.13943162808973636, 0.41164882161183425, 0.1695031843048932, 0.10905474628154103, 0.09609076244339063], \"Total\": [64.0, 86.0, 92.0, 36.0, 26.0, 34.0, 15.0, 33.0, 7.0, 36.0, 6.0, 8.0, 9.0, 17.0, 9.0, 28.0, 6.0, 29.0, 7.0, 6.0, 7.0, 10.0, 29.0, 6.0, 12.0, 7.0, 22.0, 5.0, 3.0, 2.0, 3.286371294981365, 3.2863716730950974, 2.4093926960185703, 2.4020278064266725, 3.2671680483596846, 4.463954677464394, 3.040161409322148, 2.3950296080377886, 1.532410620539083, 1.5324105547683904, 1.5324105063232356, 1.532410399946163, 1.5324106607968315, 1.5324102718932706, 1.5324106049505402, 1.5324104581203348, 1.5324100991503946, 1.5324102266171278, 1.532410093686535, 1.5324099813820955, 1.5324102121798502, 1.5324102657070986, 1.532409795869799, 1.5324097721893677, 1.5324097832365715, 1.5324099280875045, 1.5324098989381936, 1.5324099542343932, 1.5324100107990117, 1.5324097576668274, 2.387558226432192, 92.74585803038275, 36.98224569378167, 15.116925302705495, 5.947962897221472, 36.163302857316104, 9.064621141084428, 2.34072037576049, 86.42410784206653, 7.805404458405973, 28.127673440554666, 6.899841347613141, 32.964936612380185, 12.415039312674843, 64.90264221693921, 3.5483840863598095, 29.40725946869023, 11.97522676578009, 22.606361635050852, 2.32085974639565, 6.279709027769786, 34.48907972871253, 33.84459074652304, 29.51415357945672, 5.337499304838022, 7.175683179070897, 14.747341097941701, 12.865432079788329, 11.494958748120723, 8.526463747071682, 9.38277018077148, 8.026896457651684, 17.992664821241647, 15.54166814576166, 26.551246037747507, 2.588749006049038, 6.770320515327036, 2.4043906470282366, 4.201067496150745, 1.6401915433280307, 1.64019090423857, 2.438659476352414, 1.6379886653538074, 1.637598703609805, 1.6365245712780332, 2.284418641597847, 3.245515543647522, 2.2542024028180547, 1.6222602755147202, 1.6179523185952691, 1.6292745525284822, 1.629056955262743, 1.6289537127099807, 1.6151005931398261, 1.6202225327669777, 1.628611665827654, 1.616677723188042, 1.6285146840532188, 1.6130436696770056, 1.5458018957515862, 1.611859984491704, 1.6136509334565095, 1.6128825525587704, 1.6149841750354264, 1.6157723806771582, 26.551246037747507, 3.185500992524086, 17.992664821241647, 8.321177200914812, 2.1503042031452737, 15.54166814576166, 22.606361635050852, 32.964936612380185, 92.74585803038275, 4.316011436820001, 9.963554691382534, 7.805404458405973, 9.51078987945141, 11.494958748120723, 64.90264221693921, 4.406696500745962, 11.97522676578009, 86.42410784206653, 29.51415357945672, 12.865432079788329, 14.747341097941701, 33.84459074652304, 5.6518834905774655, 36.163302857316104, 36.98224569378167, 9.064621141084428, 34.48907972871253, 29.40725946869023, 13.761499508711006, 12.415039312674843, 2.220083462692419, 2.233486255877593, 1.482002219994762, 1.4820020762039814, 1.4820021647556971, 1.4820020893614845, 1.482002044637731, 1.4820020592579566, 1.4820019864365812, 1.4820018464597335, 1.4820018494672067, 1.4820016275032128, 1.4820015855757127, 1.4820015689733912, 1.4820009671073786, 1.482001285108836, 1.4820012358833814, 1.482000810334232, 1.4820011505824802, 1.4820004258135766, 1.4820006760160296, 1.482000666693541, 1.4820001575928379, 1.4820001026610763, 1.481999740234137, 1.4819993178841622, 1.4819988324199975, 1.481999032454718, 1.4819984519124476, 1.481978462026809, 3.560419948964324, 2.2531437164678865, 2.251572418634907, 2.9313610971825788, 64.90264221693921, 86.42410784206653, 36.163302857316104, 2.9562948697941542, 34.48907972871253, 92.74585803038275, 7.659020948066357, 10.043843124674723, 6.233724705316404, 36.98224569378167, 29.51415357945672, 2.0246391889113173, 28.127673440554666, 4.861450361853855, 4.683761046977973, 4.9210725842486065, 26.551246037747507, 9.38277018077148, 15.116925302705495, 29.40725946869023, 11.494958748120723, 11.819078335044344, 7.051183569100279, 6.172840662873132, 33.84459074652304, 14.747341097941701, 8.026896457651684, 22.606361635050852, 32.964936612380185, 13.761499508711006, 12.415039312674843, 2.8139449026446384, 1.4824978901298915, 1.4824977227641571, 1.4824979499425244, 1.482497727132643, 1.4824975510911873, 1.482497638245987, 1.482497611707258, 1.482497197587724, 1.482497346402394, 1.4824974591252786, 1.4824972657508966, 1.4824969640697438, 1.4824969779116908, 1.4824968559581073, 1.4824968505998357, 1.4824969619437116, 1.4824969241720165, 1.482496587768269, 1.4824966036167362, 1.4824964770744848, 1.4824970951521912, 1.4824962126748888, 1.482496235007206, 1.4824957147890079, 1.4824949075465657, 1.4824949739473363, 1.4824938544303485, 1.482492473387471, 1.4824920881687738, 86.42410784206653, 29.40725946869023, 28.127673440554666, 12.865432079788329, 7.555608675937281, 34.48907972871253, 29.51415357945672, 32.964936612380185, 4.566051503658337, 4.596021277867851, 17.992664821241647, 4.746814569726747, 64.90264221693921, 15.54166814576166, 2.3067190988092503, 9.963554691382534, 33.84459074652304, 6.608338370698776, 11.819078335044344, 6.280123204721873, 22.606361635050852, 7.659020948066357, 4.550129488545892, 10.043843124674723, 9.51078987945141, 26.551246037747507, 14.747341097941701, 13.761499508711006, 92.74585803038275, 11.494958748120723, 36.163302857316104, 1.3644500778581483, 1.3644498117932666, 1.3644499091506148, 1.3644497071868107, 1.364449714657776, 1.3644494859773766, 1.3644497906708066, 1.3644511844115266, 1.3644495365474736, 1.3644510843789284, 1.3644497653887075, 1.3644494418826296, 1.3644513447783138, 1.3644495342629273, 1.3644491545386344, 1.3644514782357438, 1.3644492262172878, 1.3644517373262435, 1.3644487626792545, 1.3644483096463627, 1.364452171226561, 1.3289987201920574, 1.3257671907520412, 1.3150802248767746, 1.3074282722912747, 1.3014794097071398, 1.3700635709534215, 1.3709230958931735, 1.3246358641428089, 1.3237952984576604, 2.9989463063433353, 5.1494054911244564, 4.433387107725618, 2.970081775097194, 33.84459074652304, 6.172840662873132, 36.163302857316104, 64.90264221693921, 10.043843124674723, 8.075683880207798, 92.74585803038275, 14.747341097941701, 36.98224569378167, 86.42410784206653, 5.6518834905774655, 5.337499304838022, 29.51415357945672, 28.127673440554666, 5.613137980519206, 13.761499508711006, 11.97522676578009, 3.790768949532829, 15.116925302705495, 26.551246037747507, 9.064621141084428, 8.321177200914812, 32.964936612380185, 29.40725946869023, 9.963554691382534, 2.9810577842123314, 34.48907972871253, 7.127054190415553, 1.4075490311785055, 1.4075490629414362, 1.4075481749012682, 1.4075481958132576, 1.4075467022077794, 1.407541085087902, 2.133185268017543, 1.426460454564389, 1.3474053379542992, 1.430971761212978, 1.4313117624803886, 1.4317200993247206, 1.3251236879152721, 2.8186508834259874, 1.318870595669112, 1.434553616494046, 1.315550770190257, 2.973923506437059, 1.4356964349105243, 1.314367713287141, 1.3112145238613087, 1.3103925740654938, 1.4379968181177702, 1.395456435629932, 1.4397549356380908, 2.1500456160156802, 1.3009746114036442, 1.3944232010981934, 2.5743579151345246, 3.203042014664832, 92.74585803038275, 6.280123204721873, 13.761499508711006, 33.84459074652304, 2.244833787168877, 3.0088605700328577, 2.268831290667848, 29.51415357945672, 8.026896457651684, 34.48907972871253, 29.40725946869023, 64.90264221693921, 36.98224569378167, 7.175683179070897, 4.772513274118905, 86.42410784206653, 8.56315689399555, 2.870342727126659, 32.964936612380185, 5.92731596017538, 36.163302857316104, 11.97522676578009, 28.127673440554666, 11.819078335044344, 4.406696500745962, 9.38277018077148, 1.159806144482353, 1.159806244616484, 1.1598065545103677, 1.1598067641533596, 1.159807237747556, 1.15980712096929, 1.159807580209399, 1.1598075975978712, 1.1598102887649098, 1.1598117393524825, 1.1720886158299921, 1.173197928741869, 1.1739987981728404, 1.1776025539342818, 1.2370794175514388, 2.620109520446849, 1.827946467485158, 1.8522115382389301, 1.8546312844272563, 1.9215914919039836, 1.9863801904132317, 1.9868786496858382, 1.873917354029441, 2.1108966103423104, 1.9976020696873706, 2.0009974056171718, 2.6805227152137645, 5.005928212204965, 1.2436018962863853, 1.2541694407882609, 2.6961602918917906, 2.795257414196253, 33.84459074652304, 36.98224569378167, 86.42410784206653, 34.48907972871253, 7.555608675937281, 28.127673440554666, 32.964936612380185, 92.74585803038275, 8.026896457651684, 64.90264221693921, 10.043843124674723, 22.606361635050852, 15.54166814576166, 29.40725946869023, 36.163302857316104, 7.175683179070897, 11.819078335044344, 17.992664821241647, 15.116925302705495, 26.551246037747507, 14.747341097941701, 9.38277018077148, 13.761499508711006, 12.865432079788329, 5.36865844126743, 1.5102621137644787, 1.0800150969787752, 1.0800151200454604, 1.080021217738398, 1.0821701536851818, 1.082566187027454, 1.0826165775297363, 1.0826604065915317, 1.0826839354676197, 1.0836173359704027, 1.0854388712766265, 1.7780129258970603, 1.7924826762124824, 1.82390425813312, 1.8324137652053005, 3.5183265603347698, 1.9740025993558425, 2.0365466184918324, 1.891279349884226, 1.2709019896932696, 1.2760247020416555, 6.608338370698776, 1.2830515628233237, 1.2858090725325753, 1.2917072927504378, 4.550129488545892, 1.303949197150186, 2.6683905930119405, 5.36865844126743, 1.333318673374613, 2.6631688281668726, 6.899841347613141, 8.075683880207798, 4.683761046977973, 3.924398458129187, 36.98224569378167, 86.42410784206653, 4.406696500745962, 36.163302857316104, 9.51078987945141, 64.90264221693921, 12.415039312674843, 34.48907972871253, 92.74585803038275, 29.51415357945672, 22.606361635050852, 14.747341097941701, 11.819078335044344, 6.279709027769786, 7.555608675937281, 29.40725946869023, 32.964936612380185, 33.84459074652304, 5.1494054911244564, 7.805404458405973, 3.6162976068798818, 1.049232705387078, 1.0492367432349348, 2.4324420009552337, 1.702090879424281, 1.2419727251345574, 2.5879339957564724, 1.2588271524726555, 1.2780984194913758, 1.293260800014357, 1.2845452708472456, 1.301758838798306, 1.294329837902387, 2.0190281788409363, 1.2995096321726267, 1.3008261769209704, 2.086419824566106, 1.9989647901523429, 1.2696806666755647, 1.270210838245064, 6.770320515327036, 1.309121850262673, 2.1503042031452737, 1.337986561960806, 1.3381481565862061, 1.3409161428414333, 2.068362593006748, 1.285491965266455, 1.3459900353853627, 1.288558143758602, 1.2883291218987292, 2.087131980799278, 6.280123204721873, 3.5183265603347698, 5.1494054911244564, 15.54166814576166, 6.279709027769786, 8.56315689399555, 4.683761046977973, 34.48907972871253, 17.992664821241647, 4.240680721720046, 12.415039312674843, 4.463954677464394, 4.541077637443175, 92.74585803038275, 86.42410784206653, 4.9210725842486065, 33.84459074652304, 22.606361635050852, 64.90264221693921, 36.163302857316104, 36.98224569378167, 29.40725946869023, 29.51415357945672, 5.613137980519206, 26.551246037747507, 7.659020948066357, 6.899841347613141, 10.043843124674723, 32.964936612380185, 7.555608675937281, 0.910421044565785, 0.9104250750521291, 0.9200952903602121, 0.9207724387797565, 0.9235197290476511, 0.927667863377581, 0.9297049356037399, 0.9300586521846383, 1.574590096062995, 1.661945854826099, 2.5308167110954365, 2.4892319131894167, 3.0942207613313735, 2.5909855432287983, 1.4375346452380742, 1.449886317568052, 1.465003620872031, 1.4967872141670857, 1.3014794097071398, 1.3074282722912747, 1.5313981276599715, 1.3150802248767746, 2.1747187214662933, 7.659020948066357, 1.5458018957515862, 8.075683880207798, 2.3022121367849664, 1.3257671907520412, 2.308857196086627, 9.51078987945141, 9.064621141084428, 64.90264221693921, 15.54166814576166, 36.98224569378167, 7.805404458405973, 92.74585803038275, 29.51415357945672, 11.97522676578009, 86.42410784206653], \"logprob\": [30.0, 29.0, 28.0, 27.0, 26.0, 25.0, 24.0, 23.0, 22.0, 21.0, 20.0, 19.0, 18.0, 17.0, 16.0, 15.0, 14.0, 13.0, 12.0, 11.0, 10.0, 9.0, 8.0, 7.0, 6.0, 5.0, 4.0, 3.0, 2.0, 1.0, -5.3963, -5.3963, -5.7857, -5.807, -5.5274, -5.2166, -5.6141, -5.9316, -6.4324, -6.4324, -6.4324, -6.4324, -6.4324, -6.4324, -6.4324, -6.4324, -6.4324, -6.4324, -6.4324, -6.4324, -6.4324, -6.4324, -6.4324, -6.4324, -6.4324, -6.4324, -6.4324, -6.4324, -6.4324, -6.4324, -6.0193, -2.7335, -3.6763, -4.4855, -5.2862, -3.7906, -4.9507, -6.0784, -3.1042, -5.102, -4.086, -5.2156, -3.9795, -4.7616, -3.5143, -5.7858, -4.2257, -4.9, -4.4314, -6.1247, -5.3904, -4.1494, -4.2282, -4.4286, -5.5405, -5.3752, -4.9822, -5.0587, -5.1229, -5.2943, -5.2702, -5.3435, -5.3284, -5.3442, -5.359, -5.2283, -4.2796, -5.3422, -4.7941, -5.7943, -5.7943, -5.4066, -5.8071, -5.8094, -5.8157, -5.4921, -5.1528, -5.5227, -5.8596, -5.8643, -5.8591, -5.8605, -5.8611, -5.8701, -5.8675, -5.8632, -5.8706, -5.8638, -5.8747, -5.9194, -5.8794, -5.8787, -5.8808, -5.8811, -5.8808, -3.1888, -5.2966, -3.8899, -4.5547, -5.6537, -4.2978, -4.0407, -3.8029, -3.1387, -5.2101, -4.6789, -4.9519, -4.8435, -4.8312, -3.9817, -5.3532, -4.8919, -3.9826, -4.4818, -4.9169, -4.8635, -4.6314, -5.3294, -4.7385, -4.7684, -5.2371, -5.1366, -5.1545, -5.2318, -5.2945, -5.415, -5.4121, -5.8349, -5.8349, -5.8349, -5.8349, -5.8349, -5.8349, -5.8349, -5.8349, -5.8349, -5.8349, -5.8349, -5.8349, -5.8349, -5.8349, -5.8349, -5.8349, -5.8349, -5.8349, -5.8349, -5.8349, -5.8349, -5.8349, -5.8349, -5.8349, -5.8349, -5.8349, -5.8349, -5.835, -4.9644, -5.4634, -5.4644, -5.2946, -2.9861, -3.0262, -3.7729, -5.3961, -3.9509, -3.418, -4.8731, -4.7436, -5.0616, -4.1476, -4.2699, -5.6797, -4.4235, -5.2681, -5.2892, -5.2687, -4.4944, -4.9732, -4.7704, -4.4911, -4.9325, -4.9409, -5.1739, -5.2312, -4.5299, -4.9676, -5.1753, -4.999, -5.0946, -5.204, -5.267, -5.0526, -5.6992, -5.6992, -5.6992, -5.6992, -5.6992, -5.6992, -5.6992, -5.6992, -5.6992, -5.6992, -5.6992, -5.6992, -5.6992, -5.6992, -5.6992, -5.6992, -5.6992, -5.6992, -5.6992, -5.6992, -5.6992, -5.6992, -5.6992, -5.6992, -5.6992, -5.6992, -5.6992, -5.6992, -5.6992, -2.6363, -3.5621, -3.6508, -4.2215, -4.6631, -3.7224, -3.8195, -3.9224, -5.0526, -5.0526, -4.3165, -5.0526, -3.7349, -4.5753, -5.4872, -4.8613, -4.3658, -5.0965, -4.8802, -5.1292, -4.6366, -5.1054, -5.2942, -5.0137, -5.0526, -4.8254, -5.0611, -5.0867, -4.6726, -5.2729, -5.2679, -5.577, -5.577, -5.577, -5.577, -5.577, -5.577, -5.577, -5.577, -5.577, -5.577, -5.577, -5.577, -5.577, -5.577, -5.577, -5.577, -5.577, -5.577, -5.577, -5.577, -5.577, -5.6507, -5.6576, -5.6811, -5.6983, -5.7118, -5.7031, -5.7238, -5.7717, -5.7762, -5.1108, -4.6751, -4.8387, -5.1648, -3.6806, -4.7374, -3.6723, -3.4198, -4.5009, -4.6357, -3.3758, -4.4407, -4.0584, -3.6906, -4.9304, -5.0374, -4.3739, -4.4603, -5.073, -4.7626, -4.817, -5.2242, -4.8026, -4.7304, -5.0838, -5.1094, -4.7984, -4.8323, -5.1235, -5.3979, -4.8972, -3.6336, -5.4524, -5.4524, -5.4524, -5.4524, -5.4524, -5.4524, -5.1519, -5.6005, -5.685, -5.6393, -5.6423, -5.6459, -5.7289, -4.9786, -5.7503, -5.6713, -5.7657, -4.952, -5.6817, -5.7712, -5.7878, -5.791, -5.703, -5.7468, -5.7195, -5.3288, -5.8384, -5.7765, -5.168, -5.0646, -2.7897, -4.7127, -4.1985, -3.7151, -5.4524, -5.2815, -5.4524, -4.0554, -4.7671, -4.002, -4.1265, -3.7407, -4.0568, -4.8952, -5.1612, -4.0543, -5.0376, -5.3771, -4.6591, -5.1873, -4.7809, -5.0956, -4.9641, -5.2356, -5.3398, -5.2941, -5.3861, -5.3861, -5.3861, -5.3861, -5.3861, -5.3861, -5.3861, -5.3861, -5.3861, -5.3861, -5.4322, -5.4364, -5.4395, -5.4536, -5.632, -5.0136, -5.3861, -5.3861, -5.3861, -5.3861, -5.3861, -5.3861, -5.4476, -5.3328, -5.4281, -5.4393, -5.1755, -4.6504, -6.067, -6.0589, -5.3005, -5.3861, -3.6185, -3.7393, -3.3172, -3.9493, -4.7394, -4.0992, -4.0995, -3.7109, -4.7957, -3.9546, -4.7633, -4.5368, -4.6961, -4.5617, -4.6256, -5.0362, -4.9694, -4.8865, -4.9884, -4.9198, -5.059, -5.2038, -5.1772, -5.2126, -5.3861, -4.5469, -5.1876, -5.1876, -5.1876, -5.1919, -5.1927, -5.1928, -5.1929, -5.193, -5.1949, -5.1985, -5.1876, -5.1945, -5.1943, -5.1929, -4.541, -5.1876, -5.1926, -5.3372, -5.7517, -5.7723, -4.1554, -5.8012, -5.8128, -5.838, -4.6151, -5.8924, -5.1924, -4.5429, -6.0365, -5.3485, -4.541, -4.4244, -4.967, -5.0973, -3.6987, -3.2268, -5.0425, -3.8627, -4.6347, -3.8009, -4.6524, -4.3561, -4.4457, -4.6744, -4.8106, -4.9331, -4.9937, -5.0444, -5.0323, -5.0275, -5.1384, -5.1875, -5.1876, -5.1876, -5.1876, -5.2364, -5.2364, -4.8421, -5.2364, -5.7546, -5.0345, -5.8158, -5.8907, -5.8907, -5.9171, -5.9262, -5.9585, -5.522, -5.9811, -5.9869, -5.519, -5.5758, -6.0387, -6.0398, -4.3793, -6.0245, -5.5933, -6.0744, -6.0821, -6.0908, -5.6608, -6.139, -6.0964, -6.1409, -6.1516, -5.6724, -4.5898, -5.1609, -4.8738, -3.9333, -4.7637, -4.5027, -5.045, -3.764, -4.2591, -5.2364, -4.6127, -5.2364, -5.2265, -3.5402, -3.6809, -5.2177, -4.2407, -4.4517, -3.9452, -4.3081, -4.5048, -4.6266, -4.6661, -5.2364, -4.9713, -5.213, -5.2184, -5.2119, -5.224, -5.2363, -4.6583, -4.6583, -4.6725, -4.6735, -4.6776, -4.6838, -4.6869, -4.6874, -4.679, -4.6727, -4.481, -4.6585, -4.4611, -4.6823, -5.7272, -5.7731, -5.8322, -5.9692, -6.1862, -6.2426, -6.1435, -6.3203, -5.8492, -4.611, -6.2261, -4.5831, -5.876, -6.4399, -5.9044, -4.4897, -4.682, -3.2583, -4.5931, -4.3904, -5.3571, -4.2746, -5.1619, -5.6029, -5.7294]}};\n",
       "\n",
       "function LDAvis_load_lib(url, callback){\n",
       "  var s = document.createElement('script');\n",
       "  s.src = url;\n",
       "  s.async = true;\n",
       "  s.onreadystatechange = s.onload = callback;\n",
       "  s.onerror = function(){console.warn(\"failed to load library \" + url);};\n",
       "  document.getElementsByTagName(\"head\")[0].appendChild(s);\n",
       "}\n",
       "\n",
       "if(typeof(LDAvis) !== \"undefined\"){\n",
       "   // already loaded: just create the visualization\n",
       "   !function(LDAvis){\n",
       "       new LDAvis(\"#\" + \"ldavis_el5036140526057769936324895656\", ldavis_el5036140526057769936324895656_data);\n",
       "   }(LDAvis);\n",
       "}else if(typeof define === \"function\" && define.amd){\n",
       "   // require.js is available: use it to load d3/LDAvis\n",
       "   require.config({paths: {d3: \"https://cdnjs.cloudflare.com/ajax/libs/d3/3.5.5/d3.min\"}});\n",
       "   require([\"d3\"], function(d3){\n",
       "      window.d3 = d3;\n",
       "      LDAvis_load_lib(\"https://cdn.rawgit.com/bmabey/pyLDAvis/files/ldavis.v1.0.0.js\", function(){\n",
       "        new LDAvis(\"#\" + \"ldavis_el5036140526057769936324895656\", ldavis_el5036140526057769936324895656_data);\n",
       "      });\n",
       "    });\n",
       "}else{\n",
       "    // require.js not available: dynamically load d3 & LDAvis\n",
       "    LDAvis_load_lib(\"https://cdnjs.cloudflare.com/ajax/libs/d3/3.5.5/d3.min.js\", function(){\n",
       "         LDAvis_load_lib(\"https://cdn.rawgit.com/bmabey/pyLDAvis/files/ldavis.v1.0.0.js\", function(){\n",
       "                 new LDAvis(\"#\" + \"ldavis_el5036140526057769936324895656\", ldavis_el5036140526057769936324895656_data);\n",
       "            })\n",
       "         });\n",
       "}\n",
       "</script>"
      ],
      "text/plain": [
       "PreparedData(topic_coordinates=            Freq  cluster  topics         x         y\n",
       "topic                                                \n",
       "1      26.617384        1       1 -0.044051  0.018613\n",
       "3      15.790489        1       2  0.116821 -0.026320\n",
       "9      13.802637        1       3 -0.041292  0.034834\n",
       "0      12.058572        1       4 -0.054585 -0.112657\n",
       "4       9.148639        1       5 -0.009880  0.005724\n",
       "6       8.567227        1       6 -0.029286  0.087576\n",
       "2       5.376708        1       7 -0.026484 -0.019530\n",
       "8       3.711320        1       8  0.016342 -0.031848\n",
       "5       3.614280        1       9  0.002032  0.018450\n",
       "7       1.312744        1      10  0.070384  0.025158, topic_info=     Category       Freq        Term      Total  loglift  logprob\n",
       "term                                                             \n",
       "510   Default  64.000000           .  64.000000  30.0000  30.0000\n",
       "594   Default  86.000000         the  86.000000  29.0000  29.0000\n",
       "221   Default  92.000000           ,  92.000000  28.0000  28.0000\n",
       "351   Default  36.000000         and  36.000000  27.0000  27.0000\n",
       "311   Default  26.000000           \"  26.000000  26.0000  26.0000\n",
       "697   Default  34.000000          of  34.000000  25.0000  25.0000\n",
       "559   Default  15.000000           )  15.000000  24.0000  24.0000\n",
       "547   Default  33.000000          it  33.000000  23.0000  23.0000\n",
       "791   Default   7.000000   there_are   7.000000  22.0000  22.0000\n",
       "189   Default  36.000000           a  36.000000  21.0000  21.0000\n",
       "287   Default   6.000000        /_10   6.000000  20.0000  20.0000\n",
       "237   Default   8.000000        they   8.000000  19.0000  19.0000\n",
       "454   Default   9.000000         are   9.000000  18.0000  18.0000\n",
       "410   Default  17.000000           (  17.000000  17.0000  17.0000\n",
       "763   Default   9.000000          as   9.000000  16.0000  16.0000\n",
       "325   Default  28.000000        that  28.000000  15.0000  15.0000\n",
       "762   Default   6.000000          an   6.000000  14.0000  14.0000\n",
       "545   Default  29.000000          is  29.000000  13.0000  13.0000\n",
       "586   Default   7.000000           i   7.000000  12.0000  12.0000\n",
       "239   Default   6.000000         not   6.000000  11.0000  11.0000\n",
       "678   Default   7.000000           ?   7.000000  10.0000  10.0000\n",
       "458   Default  10.000000       movie  10.000000   9.0000   9.0000\n",
       "15    Default  29.000000          to  29.000000   8.0000   8.0000\n",
       "469   Default   6.000000          we   6.000000   7.0000   7.0000\n",
       "623   Default  12.000000         '_t  12.000000   6.0000   6.0000\n",
       "716   Default   7.000000         her   7.000000   5.0000   5.0000\n",
       "367   Default  22.000000           -  22.000000   4.0000   4.0000\n",
       "780   Default   5.000000      really   5.000000   3.0000   3.0000\n",
       "5     Default   3.000000          go   3.000000   2.0000   2.0000\n",
       "144   Default   2.000000          my   2.000000   1.0000   1.0000\n",
       "...       ...        ...         ...        ...      ...      ...\n",
       "570   Topic10   0.276450        gets   1.661946   2.5393  -4.6727\n",
       "144   Topic10   0.334853          my   2.530817   2.3104  -4.4810\n",
       "159   Topic10   0.280392           !   2.489232   2.1495  -4.6585\n",
       "5     Topic10   0.341608          go   3.094221   2.1294  -4.4611\n",
       "560   Topic10   0.273815      things   2.590986   2.0857  -4.6823\n",
       "32    Topic10   0.096304      entire   1.437535   1.6299  -5.7272\n",
       "703   Topic10   0.091988         own   1.449886   1.5755  -5.7731\n",
       "87    Topic10   0.086706       kudos   1.465004   1.5060  -5.8322\n",
       "163   Topic10   0.075602       holds   1.496787   1.3475  -5.9692\n",
       "206   Topic10   0.060860    executed   1.301479   1.2704  -6.1862\n",
       "292   Topic10   0.057519    terribly   1.307428   1.2093  -6.2426\n",
       "660   Topic10   0.063510  unraveling   1.531398   1.1503  -6.1435\n",
       "1     Topic10   0.053222     concept   1.315080   1.1259  -6.3203\n",
       "725   Topic10   0.085247     biggest   2.174719   1.0939  -5.8492\n",
       "586   Topic10   0.294035           i   7.659021   1.0731  -4.6110\n",
       "349   Topic10   0.058478     feeling   1.545802   1.0584  -6.2261\n",
       "237   Topic10   0.302351        they   8.075684   1.0480  -4.5831\n",
       "493   Topic10   0.082991   character   2.302212   1.0102  -5.8760\n",
       "535   Topic10   0.047220        neat   1.325767   0.9981  -6.4399\n",
       "768   Topic10   0.080669  sagemiller   2.308857   0.9789  -5.9044\n",
       "454   Topic10   0.331957         are   9.510790   0.9779  -4.4897\n",
       "763   Topic10   0.273898          as   9.064621   0.8337  -4.6820\n",
       "510   Topic10   1.137343           .  64.902642   0.2889  -3.2583\n",
       "559   Topic10   0.299367           )  15.541668   0.3834  -4.5931\n",
       "351   Topic10   0.366603         and  36.982246  -0.2809  -4.3904\n",
       "716   Topic10   0.139432         her   7.805404   0.3081  -5.3571\n",
       "221   Topic10   0.411649           ,  92.745858  -1.0844  -4.2746\n",
       "15    Topic10   0.169503          to  29.514154  -0.8267  -5.1619\n",
       "734   Topic10   0.109055         but  11.975227  -0.3657  -5.6029\n",
       "594   Topic10   0.096091         the  86.424108  -2.4687  -5.7294\n",
       "\n",
       "[612 rows x 6 columns], token_table=      Topic      Freq     Term\n",
       "term                          \n",
       "159       3  0.401730        !\n",
       "159       6  0.401730        !\n",
       "311       1  0.112989        \"\n",
       "311       2  0.564945        \"\n",
       "311       3  0.112989        \"\n",
       "311       4  0.075326        \"\n",
       "311       5  0.075326        \"\n",
       "311       7  0.037663        \"\n",
       "311       9  0.037663        \"\n",
       "110       6  0.760822        &\n",
       "266       1  0.301097        '\n",
       "266       2  0.301097        '\n",
       "266       4  0.200732        '\n",
       "266       5  0.100366        '\n",
       "626       1  0.333688      '_s\n",
       "626       2  0.242682      '_s\n",
       "626       3  0.060671      '_s\n",
       "626       4  0.151676      '_s\n",
       "626       5  0.060671      '_s\n",
       "626       6  0.060671      '_s\n",
       "626       7  0.060671      '_s\n",
       "623       1  0.402737      '_t\n",
       "623       2  0.161095      '_t\n",
       "623       3  0.161095      '_t\n",
       "623       5  0.080547      '_t\n",
       "623       6  0.080547      '_t\n",
       "623       8  0.080547      '_t\n",
       "623       9  0.080547      '_t\n",
       "410       1  0.166735        (\n",
       "410       2  0.389047        (\n",
       "...     ...       ...      ...\n",
       "371       3  0.168710    which\n",
       "371       4  0.168710    which\n",
       "371       5  0.168710    which\n",
       "371       6  0.168710    which\n",
       "376       1  0.226927      who\n",
       "376       2  0.453855      who\n",
       "376       6  0.226927      who\n",
       "376       8  0.226927      who\n",
       "382       1  0.479126      why\n",
       "382       3  0.479126      why\n",
       "148       1  0.652567  winston\n",
       "740       1  0.310911     with\n",
       "740       2  0.233183     with\n",
       "740       4  0.310911     with\n",
       "740       5  0.077728     with\n",
       "740       6  0.077728     with\n",
       "740       7  0.077728     with\n",
       "707       3  0.674765   within\n",
       "246       5  0.732897   wooden\n",
       "17        1  0.427219    worth\n",
       "320       3  0.674763  wrapped\n",
       "165       6  0.776199    write\n",
       "695       4  0.674539      y2k\n",
       "259       2  0.610650     year\n",
       "210       3  0.674764    years\n",
       "779       1  0.240351      you\n",
       "779       2  0.480701      you\n",
       "779       4  0.120175      you\n",
       "779       5  0.120175      you\n",
       "12        1  0.652567    young\n",
       "\n",
       "[686 rows x 3 columns], R=30, lambda_step=0.01, plot_opts={'xlab': 'PC1', 'ylab': 'PC2'}, topic_order=[2, 4, 10, 1, 5, 7, 3, 9, 6, 8])"
      ]
     },
     "execution_count": 28,
     "metadata": {},
     "output_type": "execute_result"
    }
   ],
   "source": [
    "pyLDAvis.gensim.prepare(LDA_model, corpus_processed,\n",
    "                        id2word)"
   ]
  }
 ],
 "metadata": {
  "anaconda-cloud": {},
  "kernelspec": {
   "display_name": "Python [conda env:datamining]",
   "language": "python",
   "name": "conda-env-datamining-py"
  },
  "language_info": {
   "codemirror_mode": {
    "name": "ipython",
    "version": 2
   },
   "file_extension": ".py",
   "mimetype": "text/x-python",
   "name": "python",
   "nbconvert_exporter": "python",
   "pygments_lexer": "ipython2",
   "version": "2.7.12"
  }
 },
 "nbformat": 4,
 "nbformat_minor": 1
}
